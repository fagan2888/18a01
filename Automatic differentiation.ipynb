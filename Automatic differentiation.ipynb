{
 "cells": [
  {
   "cell_type": "markdown",
   "metadata": {},
   "source": [
    "# Automatic differentiation\n",
    "\n",
    "Goal: given a program or a function in a computer language that computes a function $f(x)$, compute the *exact* derivative $f'(x)$ (up to roundoff errors)."
   ]
  },
  {
   "cell_type": "markdown",
   "metadata": {},
   "source": [
    "## Types"
   ]
  },
  {
   "cell_type": "code",
   "execution_count": 1,
   "metadata": {},
   "outputs": [
    {
     "data": {
      "text/plain": [
       "3"
      ]
     },
     "execution_count": 1,
     "metadata": {},
     "output_type": "execute_result"
    }
   ],
   "source": [
    "3"
   ]
  },
  {
   "cell_type": "code",
   "execution_count": 2,
   "metadata": {},
   "outputs": [
    {
     "data": {
      "text/plain": [
       "Int64"
      ]
     },
     "execution_count": 2,
     "metadata": {},
     "output_type": "execute_result"
    }
   ],
   "source": [
    "typeof(3)"
   ]
  },
  {
   "cell_type": "code",
   "execution_count": 3,
   "metadata": {},
   "outputs": [
    {
     "data": {
      "text/plain": [
       "3.7"
      ]
     },
     "execution_count": 3,
     "metadata": {},
     "output_type": "execute_result"
    }
   ],
   "source": [
    "3.7"
   ]
  },
  {
   "cell_type": "code",
   "execution_count": 4,
   "metadata": {},
   "outputs": [
    {
     "data": {
      "text/plain": [
       "Float64"
      ]
     },
     "execution_count": 4,
     "metadata": {},
     "output_type": "execute_result"
    }
   ],
   "source": [
    "typeof(3.7)"
   ]
  },
  {
   "cell_type": "code",
   "execution_count": 5,
   "metadata": {},
   "outputs": [
    {
     "data": {
      "text/plain": [
       "Complex{Int64}"
      ]
     },
     "execution_count": 5,
     "metadata": {},
     "output_type": "execute_result"
    }
   ],
   "source": [
    "typeof(3 + 4im)"
   ]
  },
  {
   "cell_type": "code",
   "execution_count": 6,
   "metadata": {},
   "outputs": [
    {
     "data": {
      "text/plain": [
       "Array{Int64,1}"
      ]
     },
     "execution_count": 6,
     "metadata": {},
     "output_type": "execute_result"
    }
   ],
   "source": [
    "typeof([3,4,5,7])"
   ]
  },
  {
   "cell_type": "code",
   "execution_count": 8,
   "metadata": {},
   "outputs": [
    {
     "data": {
      "text/plain": [
       "Array{Any,1}"
      ]
     },
     "execution_count": 8,
     "metadata": {},
     "output_type": "execute_result"
    }
   ],
   "source": [
    "typeof([3,4, \"hello\"])"
   ]
  },
  {
   "cell_type": "code",
   "execution_count": 9,
   "metadata": {},
   "outputs": [
    {
     "data": {
      "text/plain": [
       "Signed"
      ]
     },
     "execution_count": 9,
     "metadata": {},
     "output_type": "execute_result"
    }
   ],
   "source": [
    "supertype(Int64)"
   ]
  },
  {
   "cell_type": "code",
   "execution_count": 11,
   "metadata": {},
   "outputs": [
    {
     "data": {
      "text/plain": [
       "Integer"
      ]
     },
     "execution_count": 11,
     "metadata": {},
     "output_type": "execute_result"
    }
   ],
   "source": [
    "supertype(Signed)"
   ]
  },
  {
   "cell_type": "code",
   "execution_count": 12,
   "metadata": {},
   "outputs": [
    {
     "data": {
      "text/plain": [
       "Real"
      ]
     },
     "execution_count": 12,
     "metadata": {},
     "output_type": "execute_result"
    }
   ],
   "source": [
    "supertype(Integer)"
   ]
  },
  {
   "cell_type": "code",
   "execution_count": 14,
   "metadata": {},
   "outputs": [
    {
     "data": {
      "text/plain": [
       "Number"
      ]
     },
     "execution_count": 14,
     "metadata": {},
     "output_type": "execute_result"
    }
   ],
   "source": [
    "supertype(Real)"
   ]
  },
  {
   "cell_type": "code",
   "execution_count": 15,
   "metadata": {},
   "outputs": [
    {
     "data": {
      "text/plain": [
       "Any"
      ]
     },
     "execution_count": 15,
     "metadata": {},
     "output_type": "execute_result"
    }
   ],
   "source": [
    "supertype(Number)"
   ]
  },
  {
   "cell_type": "code",
   "execution_count": 16,
   "metadata": {},
   "outputs": [
    {
     "data": {
      "text/plain": [
       "fib (generic function with 1 method)"
      ]
     },
     "execution_count": 16,
     "metadata": {},
     "output_type": "execute_result"
    }
   ],
   "source": [
    "function fib(n::Integer)\n",
    "    if n < 3\n",
    "        return 1\n",
    "    else\n",
    "        return fib(n-1) + fib(n-2)\n",
    "    end\n",
    "end"
   ]
  },
  {
   "cell_type": "code",
   "execution_count": 17,
   "metadata": {},
   "outputs": [
    {
     "data": {
      "text/plain": [
       "10-element Array{Int64,1}:\n",
       "  1\n",
       "  1\n",
       "  2\n",
       "  3\n",
       "  5\n",
       "  8\n",
       " 13\n",
       " 21\n",
       " 34\n",
       " 55"
      ]
     },
     "execution_count": 17,
     "metadata": {},
     "output_type": "execute_result"
    }
   ],
   "source": [
    "[fib(n) for n = 1:10]"
   ]
  },
  {
   "cell_type": "code",
   "execution_count": 18,
   "metadata": {},
   "outputs": [
    {
     "data": {
      "text/plain": [
       "AbstractFloat"
      ]
     },
     "execution_count": 18,
     "metadata": {},
     "output_type": "execute_result"
    }
   ],
   "source": [
    "supertype(Float64)"
   ]
  },
  {
   "cell_type": "code",
   "execution_count": 19,
   "metadata": {},
   "outputs": [
    {
     "data": {
      "text/plain": [
       "Real"
      ]
     },
     "execution_count": 19,
     "metadata": {},
     "output_type": "execute_result"
    }
   ],
   "source": [
    "supertype(AbstractFloat)"
   ]
  },
  {
   "cell_type": "code",
   "execution_count": 20,
   "metadata": {},
   "outputs": [
    {
     "data": {
      "text/plain": [
       "true"
      ]
     },
     "execution_count": 20,
     "metadata": {},
     "output_type": "execute_result"
    }
   ],
   "source": [
    "Int64 <: Integer"
   ]
  },
  {
   "cell_type": "code",
   "execution_count": 25,
   "metadata": {},
   "outputs": [
    {
     "data": {
      "text/plain": [
       "3.0"
      ]
     },
     "execution_count": 25,
     "metadata": {},
     "output_type": "execute_result"
    }
   ],
   "source": [
    "Float64(3)"
   ]
  },
  {
   "cell_type": "markdown",
   "metadata": {},
   "source": [
    "## Multiple dispatch\n",
    "\n",
    "I can define multiple versions of the same function that act on different types of arguments:"
   ]
  },
  {
   "cell_type": "code",
   "execution_count": 27,
   "metadata": {},
   "outputs": [
    {
     "data": {
      "text/plain": [
       "f (generic function with 1 method)"
      ]
     },
     "execution_count": 27,
     "metadata": {},
     "output_type": "execute_result"
    }
   ],
   "source": [
    "f(x) = 3 + x  # will be called on any type of x  -- f(x::Any)"
   ]
  },
  {
   "cell_type": "code",
   "execution_count": 28,
   "metadata": {},
   "outputs": [
    {
     "data": {
      "text/plain": [
       "f (generic function with 2 methods)"
      ]
     },
     "execution_count": 28,
     "metadata": {},
     "output_type": "execute_result"
    }
   ],
   "source": [
    "f(x::Integer) = 14"
   ]
  },
  {
   "cell_type": "code",
   "execution_count": 29,
   "metadata": {},
   "outputs": [
    {
     "data": {
      "text/plain": [
       "14"
      ]
     },
     "execution_count": 29,
     "metadata": {},
     "output_type": "execute_result"
    }
   ],
   "source": [
    "f(3) # calls f(x::Integer)"
   ]
  },
  {
   "cell_type": "code",
   "execution_count": 30,
   "metadata": {},
   "outputs": [
    {
     "data": {
      "text/plain": [
       "6.0"
      ]
     },
     "execution_count": 30,
     "metadata": {},
     "output_type": "execute_result"
    }
   ],
   "source": [
    "f(3.0) # calls f(x::Any)"
   ]
  },
  {
   "cell_type": "code",
   "execution_count": 31,
   "metadata": {},
   "outputs": [
    {
     "data": {
      "text/plain": [
       "f (generic function with 3 methods)"
      ]
     },
     "execution_count": 31,
     "metadata": {},
     "output_type": "execute_result"
    }
   ],
   "source": [
    "f(x::Array) = length(x)"
   ]
  },
  {
   "cell_type": "code",
   "execution_count": 32,
   "metadata": {},
   "outputs": [
    {
     "data": {
      "text/plain": [
       "3"
      ]
     },
     "execution_count": 32,
     "metadata": {},
     "output_type": "execute_result"
    }
   ],
   "source": [
    "f([3,4,5])"
   ]
  },
  {
   "cell_type": "markdown",
   "metadata": {},
   "source": [
    "When you call `f(x)`, it runs the *most specific* version of `f` for type type of argument `x`:"
   ]
  },
  {
   "cell_type": "code",
   "execution_count": 33,
   "metadata": {},
   "outputs": [
    {
     "data": {
      "text/plain": [
       "f (generic function with 4 methods)"
      ]
     },
     "execution_count": 33,
     "metadata": {},
     "output_type": "execute_result"
    }
   ],
   "source": [
    "f(x::Int64) = 17"
   ]
  },
  {
   "cell_type": "code",
   "execution_count": 34,
   "metadata": {},
   "outputs": [
    {
     "data": {
      "text/plain": [
       "17"
      ]
     },
     "execution_count": 34,
     "metadata": {},
     "output_type": "execute_result"
    }
   ],
   "source": [
    "f(3)"
   ]
  },
  {
   "cell_type": "code",
   "execution_count": 35,
   "metadata": {},
   "outputs": [
    {
     "data": {
      "text/plain": [
       "14"
      ]
     },
     "execution_count": 35,
     "metadata": {},
     "output_type": "execute_result"
    }
   ],
   "source": [
    "f(Int32(3))"
   ]
  },
  {
   "cell_type": "code",
   "execution_count": 36,
   "metadata": {},
   "outputs": [
    {
     "data": {
      "text/plain": [
       "g (generic function with 3 methods)"
      ]
     },
     "execution_count": 36,
     "metadata": {},
     "output_type": "execute_result"
    }
   ],
   "source": [
    "g(x,y) = 1\n",
    "g(x,y::Integer) = 3\n",
    "g(x::Integer,y) = 4"
   ]
  },
  {
   "cell_type": "code",
   "execution_count": 37,
   "metadata": {},
   "outputs": [
    {
     "data": {
      "text/plain": [
       "1"
      ]
     },
     "execution_count": 37,
     "metadata": {},
     "output_type": "execute_result"
    }
   ],
   "source": [
    "g(5.7, 3.2)"
   ]
  },
  {
   "cell_type": "code",
   "execution_count": 38,
   "metadata": {},
   "outputs": [
    {
     "data": {
      "text/plain": [
       "4"
      ]
     },
     "execution_count": 38,
     "metadata": {},
     "output_type": "execute_result"
    }
   ],
   "source": [
    "g(3,6.7)"
   ]
  },
  {
   "cell_type": "code",
   "execution_count": 39,
   "metadata": {},
   "outputs": [
    {
     "ename": "MethodError",
     "evalue": "MethodError: g(::Int64, ::Int64) is ambiguous. Candidates:\n  g(x::Integer, y) in Main at In[36]:3\n  g(x, y::Integer) in Main at In[36]:2\nPossible fix, define\n  g(::Integer, ::Integer)",
     "output_type": "error",
     "traceback": [
      "MethodError: g(::Int64, ::Int64) is ambiguous. Candidates:\n  g(x::Integer, y) in Main at In[36]:3\n  g(x, y::Integer) in Main at In[36]:2\nPossible fix, define\n  g(::Integer, ::Integer)",
      "",
      "Stacktrace:",
      " [1] top-level scope at In[39]:1"
     ]
    }
   ],
   "source": [
    "g(3,4)"
   ]
  },
  {
   "cell_type": "code",
   "execution_count": 40,
   "metadata": {},
   "outputs": [
    {
     "data": {
      "text/plain": [
       "g (generic function with 4 methods)"
      ]
     },
     "execution_count": 40,
     "metadata": {},
     "output_type": "execute_result"
    }
   ],
   "source": [
    "g(x::Integer, y::Integer) = 14"
   ]
  },
  {
   "cell_type": "code",
   "execution_count": 41,
   "metadata": {},
   "outputs": [
    {
     "data": {
      "text/plain": [
       "14"
      ]
     },
     "execution_count": 41,
     "metadata": {},
     "output_type": "execute_result"
    }
   ],
   "source": [
    "g(3,4)"
   ]
  },
  {
   "cell_type": "code",
   "execution_count": 42,
   "metadata": {},
   "outputs": [
    {
     "data": {
      "text/html": [
       "4 methods for generic function <b>g</b>:<ul><li> g(x::<b>Integer</b>, y::<b>Integer</b>) in Main at In[40]:1</li> <li> g(x, y::<b>Integer</b>) in Main at In[36]:2</li> <li> g(x::<b>Integer</b>, y) in Main at In[36]:3</li> <li> g(x, y) in Main at In[36]:1</li> </ul>"
      ],
      "text/plain": [
       "# 4 methods for generic function \"g\":\n",
       "[1] g(x::Integer, y::Integer) in Main at In[40]:1\n",
       "[2] g(x, y::Integer) in Main at In[36]:2\n",
       "[3] g(x::Integer, y) in Main at In[36]:3\n",
       "[4] g(x, y) in Main at In[36]:1"
      ]
     },
     "execution_count": 42,
     "metadata": {},
     "output_type": "execute_result"
    }
   ],
   "source": [
    "methods(g)"
   ]
  },
  {
   "cell_type": "markdown",
   "metadata": {},
   "source": [
    "## Dual number:\n",
    "\n",
    "A dual number is basically a pair of a number and a derivative, and the aritmetic rules correspond to the rules for propagating derivative.\n",
    "\n",
    "See also:\n",
    "\n",
    "* [ForwardDiff.jl](https://github.com/JuliaDiff/ForwardDiff.jl): \"serious\" Julia package for numerical differentiation based on dual numbers.\n",
    "* [Automatic differentiation in 18.S096](https://github.com/stevengj/18S096/blob/master/lectures/other/Automatic%20differentiation%20and%20applications.ipynb).\n",
    "\n",
    "We want to define a new *type* `Dual` of object in Julia, and define its rules of arithmetic and so on."
   ]
  },
  {
   "cell_type": "code",
   "execution_count": 1,
   "metadata": {},
   "outputs": [],
   "source": [
    "struct Dual <: Number\n",
    "    val::Real # value\n",
    "    der::Real # derivative\n",
    "end"
   ]
  },
  {
   "cell_type": "code",
   "execution_count": 2,
   "metadata": {},
   "outputs": [
    {
     "data": {
      "text/plain": [
       "Dual(3, 4)"
      ]
     },
     "execution_count": 2,
     "metadata": {},
     "output_type": "execute_result"
    }
   ],
   "source": [
    "d = Dual(3, 4)"
   ]
  },
  {
   "cell_type": "code",
   "execution_count": 3,
   "metadata": {},
   "outputs": [
    {
     "data": {
      "text/plain": [
       "Dual"
      ]
     },
     "execution_count": 3,
     "metadata": {},
     "output_type": "execute_result"
    }
   ],
   "source": [
    "typeof(d)"
   ]
  },
  {
   "cell_type": "markdown",
   "metadata": {},
   "source": [
    "Define some arithmetic rules:"
   ]
  },
  {
   "cell_type": "code",
   "execution_count": 4,
   "metadata": {},
   "outputs": [
    {
     "data": {
      "text/plain": [
       "+ (generic function with 163 methods)"
      ]
     },
     "execution_count": 4,
     "metadata": {},
     "output_type": "execute_result"
    }
   ],
   "source": [
    "+"
   ]
  },
  {
   "cell_type": "code",
   "execution_count": 5,
   "metadata": {},
   "outputs": [
    {
     "data": {
      "text/html": [
       "163 methods for generic function <b>+</b>:<ul><li> +(x::<b>Bool</b>, z::<b>Complex{Bool}</b>) in Base at <a href=\"https://github.com/JuliaLang/julia/tree/5d4eaca0c9fa3d555c79dbacdccb9169fdf64b65/base/complex.jl#L277\" target=\"_blank\">complex.jl:277</a></li> <li> +(x::<b>Bool</b>, y::<b>Bool</b>) in Base at <a href=\"https://github.com/JuliaLang/julia/tree/5d4eaca0c9fa3d555c79dbacdccb9169fdf64b65/base/bool.jl#L104\" target=\"_blank\">bool.jl:104</a></li> <li> +(x::<b>Bool</b>) in Base at <a href=\"https://github.com/JuliaLang/julia/tree/5d4eaca0c9fa3d555c79dbacdccb9169fdf64b65/base/bool.jl#L101\" target=\"_blank\">bool.jl:101</a></li> <li> +<i>{T<:AbstractFloat}</i>(x::<b>Bool</b>, y::<b>T</b>) in Base at <a href=\"https://github.com/JuliaLang/julia/tree/5d4eaca0c9fa3d555c79dbacdccb9169fdf64b65/base/bool.jl#L112\" target=\"_blank\">bool.jl:112</a></li> <li> +(x::<b>Bool</b>, z::<b>Complex</b>) in Base at <a href=\"https://github.com/JuliaLang/julia/tree/5d4eaca0c9fa3d555c79dbacdccb9169fdf64b65/base/complex.jl#L284\" target=\"_blank\">complex.jl:284</a></li> <li> +(a::<b>Float16</b>, b::<b>Float16</b>) in Base at <a href=\"https://github.com/JuliaLang/julia/tree/5d4eaca0c9fa3d555c79dbacdccb9169fdf64b65/base/float.jl#L392\" target=\"_blank\">float.jl:392</a></li> <li> +(x::<b>Float32</b>, y::<b>Float32</b>) in Base at <a href=\"https://github.com/JuliaLang/julia/tree/5d4eaca0c9fa3d555c79dbacdccb9169fdf64b65/base/float.jl#L394\" target=\"_blank\">float.jl:394</a></li> <li> +(x::<b>Float64</b>, y::<b>Float64</b>) in Base at <a href=\"https://github.com/JuliaLang/julia/tree/5d4eaca0c9fa3d555c79dbacdccb9169fdf64b65/base/float.jl#L395\" target=\"_blank\">float.jl:395</a></li> <li> +(z::<b>Complex{Bool}</b>, x::<b>Bool</b>) in Base at <a href=\"https://github.com/JuliaLang/julia/tree/5d4eaca0c9fa3d555c79dbacdccb9169fdf64b65/base/complex.jl#L278\" target=\"_blank\">complex.jl:278</a></li> <li> +(z::<b>Complex{Bool}</b>, x::<b>Real</b>) in Base at <a href=\"https://github.com/JuliaLang/julia/tree/5d4eaca0c9fa3d555c79dbacdccb9169fdf64b65/base/complex.jl#L292\" target=\"_blank\">complex.jl:292</a></li> <li> +(::<b>Missing</b>, ::<b>Missing</b>) in Base at <a href=\"https://github.com/JuliaLang/julia/tree/5d4eaca0c9fa3d555c79dbacdccb9169fdf64b65/base/missing.jl#L92\" target=\"_blank\">missing.jl:92</a></li> <li> +(::<b>Missing</b>) in Base at <a href=\"https://github.com/JuliaLang/julia/tree/5d4eaca0c9fa3d555c79dbacdccb9169fdf64b65/base/missing.jl#L79\" target=\"_blank\">missing.jl:79</a></li> <li> +(::<b>Missing</b>, ::<b>Number</b>) in Base at <a href=\"https://github.com/JuliaLang/julia/tree/5d4eaca0c9fa3d555c79dbacdccb9169fdf64b65/base/missing.jl#L93\" target=\"_blank\">missing.jl:93</a></li> <li> +(level::<b>Base.CoreLogging.LogLevel</b>, inc::<b>Integer</b>) in Base.CoreLogging at <a href=\"https://github.com/JuliaLang/julia/tree/5d4eaca0c9fa3d555c79dbacdccb9169fdf64b65/base/logging.jl#L106\" target=\"_blank\">logging.jl:106</a></li> <li> +(c::<b>BigInt</b>, x::<b>BigFloat</b>) in Base.MPFR at <a href=\"https://github.com/JuliaLang/julia/tree/5d4eaca0c9fa3d555c79dbacdccb9169fdf64b65/base/mpfr.jl#L353\" target=\"_blank\">mpfr.jl:353</a></li> <li> +(a::<b>BigInt</b>, b::<b>BigInt</b>, c::<b>BigInt</b>, d::<b>BigInt</b>, e::<b>BigInt</b>) in Base.GMP at <a href=\"https://github.com/JuliaLang/julia/tree/5d4eaca0c9fa3d555c79dbacdccb9169fdf64b65/base/gmp.jl#L443\" target=\"_blank\">gmp.jl:443</a></li> <li> +(a::<b>BigInt</b>, b::<b>BigInt</b>, c::<b>BigInt</b>, d::<b>BigInt</b>) in Base.GMP at <a href=\"https://github.com/JuliaLang/julia/tree/5d4eaca0c9fa3d555c79dbacdccb9169fdf64b65/base/gmp.jl#L442\" target=\"_blank\">gmp.jl:442</a></li> <li> +(a::<b>BigInt</b>, b::<b>BigInt</b>, c::<b>BigInt</b>) in Base.GMP at <a href=\"https://github.com/JuliaLang/julia/tree/5d4eaca0c9fa3d555c79dbacdccb9169fdf64b65/base/gmp.jl#L441\" target=\"_blank\">gmp.jl:441</a></li> <li> +(x::<b>BigInt</b>, y::<b>BigInt</b>) in Base.GMP at <a href=\"https://github.com/JuliaLang/julia/tree/5d4eaca0c9fa3d555c79dbacdccb9169fdf64b65/base/gmp.jl#L412\" target=\"_blank\">gmp.jl:412</a></li> <li> +(x::<b>BigInt</b>, c::<b>Union{UInt16, UInt32, UInt64, UInt8}</b>) in Base.GMP at <a href=\"https://github.com/JuliaLang/julia/tree/5d4eaca0c9fa3d555c79dbacdccb9169fdf64b65/base/gmp.jl#L449\" target=\"_blank\">gmp.jl:449</a></li> <li> +(x::<b>BigInt</b>, c::<b>Union{Int16, Int32, Int64, Int8}</b>) in Base.GMP at <a href=\"https://github.com/JuliaLang/julia/tree/5d4eaca0c9fa3d555c79dbacdccb9169fdf64b65/base/gmp.jl#L455\" target=\"_blank\">gmp.jl:455</a></li> <li> +(a::<b>BigFloat</b>, b::<b>BigFloat</b>, c::<b>BigFloat</b>, d::<b>BigFloat</b>, e::<b>BigFloat</b>) in Base.MPFR at <a href=\"https://github.com/JuliaLang/julia/tree/5d4eaca0c9fa3d555c79dbacdccb9169fdf64b65/base/mpfr.jl#L503\" target=\"_blank\">mpfr.jl:503</a></li> <li> +(a::<b>BigFloat</b>, b::<b>BigFloat</b>, c::<b>BigFloat</b>, d::<b>BigFloat</b>) in Base.MPFR at <a href=\"https://github.com/JuliaLang/julia/tree/5d4eaca0c9fa3d555c79dbacdccb9169fdf64b65/base/mpfr.jl#L496\" target=\"_blank\">mpfr.jl:496</a></li> <li> +(a::<b>BigFloat</b>, b::<b>BigFloat</b>, c::<b>BigFloat</b>) in Base.MPFR at <a href=\"https://github.com/JuliaLang/julia/tree/5d4eaca0c9fa3d555c79dbacdccb9169fdf64b65/base/mpfr.jl#L490\" target=\"_blank\">mpfr.jl:490</a></li> <li> +(x::<b>BigFloat</b>, c::<b>BigInt</b>) in Base.MPFR at <a href=\"https://github.com/JuliaLang/julia/tree/5d4eaca0c9fa3d555c79dbacdccb9169fdf64b65/base/mpfr.jl#L349\" target=\"_blank\">mpfr.jl:349</a></li> <li> +(x::<b>BigFloat</b>, y::<b>BigFloat</b>) in Base.MPFR at <a href=\"https://github.com/JuliaLang/julia/tree/5d4eaca0c9fa3d555c79dbacdccb9169fdf64b65/base/mpfr.jl#L318\" target=\"_blank\">mpfr.jl:318</a></li> <li> +(x::<b>BigFloat</b>, c::<b>Union{UInt16, UInt32, UInt64, UInt8}</b>) in Base.MPFR at <a href=\"https://github.com/JuliaLang/julia/tree/5d4eaca0c9fa3d555c79dbacdccb9169fdf64b65/base/mpfr.jl#L325\" target=\"_blank\">mpfr.jl:325</a></li> <li> +(x::<b>BigFloat</b>, c::<b>Union{Int16, Int32, Int64, Int8}</b>) in Base.MPFR at <a href=\"https://github.com/JuliaLang/julia/tree/5d4eaca0c9fa3d555c79dbacdccb9169fdf64b65/base/mpfr.jl#L333\" target=\"_blank\">mpfr.jl:333</a></li> <li> +(x::<b>BigFloat</b>, c::<b>Union{Float16, Float32, Float64}</b>) in Base.MPFR at <a href=\"https://github.com/JuliaLang/julia/tree/5d4eaca0c9fa3d555c79dbacdccb9169fdf64b65/base/mpfr.jl#L341\" target=\"_blank\">mpfr.jl:341</a></li> <li> +(x::<b>Dates.CompoundPeriod</b>, y::<b>Dates.CompoundPeriod</b>) in Dates at <a href=\"file:///Users/osx/buildbot/slave/package_osx64/build/usr/share/julia/stdlib/v1.0/Dates/src/periods.jl\" target=\"_blank\">/Users/osx/buildbot/slave/package_osx64/build/usr/share/julia/stdlib/v1.0/Dates/src/periods.jl:349</a></li> <li> +(x::<b>Dates.CompoundPeriod</b>, y::<b>Dates.Period</b>) in Dates at <a href=\"file:///Users/osx/buildbot/slave/package_osx64/build/usr/share/julia/stdlib/v1.0/Dates/src/periods.jl\" target=\"_blank\">/Users/osx/buildbot/slave/package_osx64/build/usr/share/julia/stdlib/v1.0/Dates/src/periods.jl:347</a></li> <li> +(x::<b>Dates.CompoundPeriod</b>, y::<b>Dates.TimeType</b>) in Dates at <a href=\"file:///Users/osx/buildbot/slave/package_osx64/build/usr/share/julia/stdlib/v1.0/Dates/src/periods.jl\" target=\"_blank\">/Users/osx/buildbot/slave/package_osx64/build/usr/share/julia/stdlib/v1.0/Dates/src/periods.jl:385</a></li> <li> +(x::<b>Dates.Date</b>, y::<b>Dates.Day</b>) in Dates at <a href=\"file:///Users/osx/buildbot/slave/package_osx64/build/usr/share/julia/stdlib/v1.0/Dates/src/arithmetic.jl\" target=\"_blank\">/Users/osx/buildbot/slave/package_osx64/build/usr/share/julia/stdlib/v1.0/Dates/src/arithmetic.jl:78</a></li> <li> +(x::<b>Dates.Date</b>, y::<b>Dates.Week</b>) in Dates at <a href=\"file:///Users/osx/buildbot/slave/package_osx64/build/usr/share/julia/stdlib/v1.0/Dates/src/arithmetic.jl\" target=\"_blank\">/Users/osx/buildbot/slave/package_osx64/build/usr/share/julia/stdlib/v1.0/Dates/src/arithmetic.jl:76</a></li> <li> +(dt::<b>Dates.Date</b>, z::<b>Dates.Month</b>) in Dates at <a href=\"file:///Users/osx/buildbot/slave/package_osx64/build/usr/share/julia/stdlib/v1.0/Dates/src/arithmetic.jl\" target=\"_blank\">/Users/osx/buildbot/slave/package_osx64/build/usr/share/julia/stdlib/v1.0/Dates/src/arithmetic.jl:59</a></li> <li> +(dt::<b>Dates.Date</b>, y::<b>Dates.Year</b>) in Dates at <a href=\"file:///Users/osx/buildbot/slave/package_osx64/build/usr/share/julia/stdlib/v1.0/Dates/src/arithmetic.jl\" target=\"_blank\">/Users/osx/buildbot/slave/package_osx64/build/usr/share/julia/stdlib/v1.0/Dates/src/arithmetic.jl:32</a></li> <li> +(dt::<b>Dates.Date</b>, t::<b>Dates.Time</b>) in Dates at <a href=\"file:///Users/osx/buildbot/slave/package_osx64/build/usr/share/julia/stdlib/v1.0/Dates/src/arithmetic.jl\" target=\"_blank\">/Users/osx/buildbot/slave/package_osx64/build/usr/share/julia/stdlib/v1.0/Dates/src/arithmetic.jl:20</a></li> <li> +(t::<b>Dates.Time</b>, dt::<b>Dates.Date</b>) in Dates at <a href=\"file:///Users/osx/buildbot/slave/package_osx64/build/usr/share/julia/stdlib/v1.0/Dates/src/arithmetic.jl\" target=\"_blank\">/Users/osx/buildbot/slave/package_osx64/build/usr/share/julia/stdlib/v1.0/Dates/src/arithmetic.jl:24</a></li> <li> +(x::<b>Dates.Time</b>, y::<b>Dates.TimePeriod</b>) in Dates at <a href=\"file:///Users/osx/buildbot/slave/package_osx64/build/usr/share/julia/stdlib/v1.0/Dates/src/arithmetic.jl\" target=\"_blank\">/Users/osx/buildbot/slave/package_osx64/build/usr/share/julia/stdlib/v1.0/Dates/src/arithmetic.jl:82</a></li> <li> +(dt::<b>Dates.DateTime</b>, z::<b>Dates.Month</b>) in Dates at <a href=\"file:///Users/osx/buildbot/slave/package_osx64/build/usr/share/julia/stdlib/v1.0/Dates/src/arithmetic.jl\" target=\"_blank\">/Users/osx/buildbot/slave/package_osx64/build/usr/share/julia/stdlib/v1.0/Dates/src/arithmetic.jl:52</a></li> <li> +(dt::<b>Dates.DateTime</b>, y::<b>Dates.Year</b>) in Dates at <a href=\"file:///Users/osx/buildbot/slave/package_osx64/build/usr/share/julia/stdlib/v1.0/Dates/src/arithmetic.jl\" target=\"_blank\">/Users/osx/buildbot/slave/package_osx64/build/usr/share/julia/stdlib/v1.0/Dates/src/arithmetic.jl:28</a></li> <li> +(x::<b>Dates.DateTime</b>, y::<b>Dates.Period</b>) in Dates at <a href=\"file:///Users/osx/buildbot/slave/package_osx64/build/usr/share/julia/stdlib/v1.0/Dates/src/arithmetic.jl\" target=\"_blank\">/Users/osx/buildbot/slave/package_osx64/build/usr/share/julia/stdlib/v1.0/Dates/src/arithmetic.jl:80</a></li> <li> +(B::<b>BitArray{2}</b>, J::<b>LinearAlgebra.UniformScaling</b>) in LinearAlgebra at <a href=\"file:///Users/osx/buildbot/slave/package_osx64/build/usr/share/julia/stdlib/v1.0/LinearAlgebra/src/uniformscaling.jl\" target=\"_blank\">/Users/osx/buildbot/slave/package_osx64/build/usr/share/julia/stdlib/v1.0/LinearAlgebra/src/uniformscaling.jl:88</a></li> <li> +(a::<b>Pkg.Resolve.VersionWeights.VersionWeight</b>, b::<b>Pkg.Resolve.VersionWeights.VersionWeight</b>) in Pkg.Resolve.VersionWeights at <a href=\"file:///Users/osx/buildbot/slave/package_osx64/build/usr/share/julia/stdlib/v1.0/Pkg/src/resolve/VersionWeights.jl\" target=\"_blank\">/Users/osx/buildbot/slave/package_osx64/build/usr/share/julia/stdlib/v1.0/Pkg/src/resolve/VersionWeights.jl:26</a></li> <li> +(a::<b>Pkg.Resolve.MaxSum.FieldValues.FieldValue</b>, b::<b>Pkg.Resolve.MaxSum.FieldValues.FieldValue</b>) in Pkg.Resolve.MaxSum.FieldValues at <a href=\"file:///Users/osx/buildbot/slave/package_osx64/build/usr/share/julia/stdlib/v1.0/Pkg/src/resolve/FieldValues.jl\" target=\"_blank\">/Users/osx/buildbot/slave/package_osx64/build/usr/share/julia/stdlib/v1.0/Pkg/src/resolve/FieldValues.jl:49</a></li> <li> +(y::<b>AbstractFloat</b>, x::<b>Bool</b>) in Base at <a href=\"https://github.com/JuliaLang/julia/tree/5d4eaca0c9fa3d555c79dbacdccb9169fdf64b65/base/bool.jl#L114\" target=\"_blank\">bool.jl:114</a></li> <li> +<i>{T<:Union{Int128, Int16, Int32, Int64, Int8, UInt128, UInt16, UInt32, UInt64, UInt8}}</i>(x::<b>T</b>, y::<b>T</b>) in Base at <a href=\"https://github.com/JuliaLang/julia/tree/5d4eaca0c9fa3d555c79dbacdccb9169fdf64b65/base/int.jl#L53\" target=\"_blank\">int.jl:53</a></li> <li> +(c::<b>Union{UInt16, UInt32, UInt64, UInt8}</b>, x::<b>BigInt</b>) in Base.GMP at <a href=\"https://github.com/JuliaLang/julia/tree/5d4eaca0c9fa3d555c79dbacdccb9169fdf64b65/base/gmp.jl#L450\" target=\"_blank\">gmp.jl:450</a></li> <li> +(c::<b>Union{Int16, Int32, Int64, Int8}</b>, x::<b>BigInt</b>) in Base.GMP at <a href=\"https://github.com/JuliaLang/julia/tree/5d4eaca0c9fa3d555c79dbacdccb9169fdf64b65/base/gmp.jl#L456\" target=\"_blank\">gmp.jl:456</a></li> <li> +(a::<b>Integer</b>, b::<b>Integer</b>) in Base at <a href=\"https://github.com/JuliaLang/julia/tree/5d4eaca0c9fa3d555c79dbacdccb9169fdf64b65/base/int.jl#L791\" target=\"_blank\">int.jl:791</a></li> <li> +(x::<b>Integer</b>, y::<b>Ptr</b>) in Base at <a href=\"https://github.com/JuliaLang/julia/tree/5d4eaca0c9fa3d555c79dbacdccb9169fdf64b65/base/pointer.jl#L157\" target=\"_blank\">pointer.jl:157</a></li> <li> +(z::<b>Complex</b>, w::<b>Complex</b>) in Base at <a href=\"https://github.com/JuliaLang/julia/tree/5d4eaca0c9fa3d555c79dbacdccb9169fdf64b65/base/complex.jl#L266\" target=\"_blank\">complex.jl:266</a></li> <li> +(z::<b>Complex</b>, x::<b>Bool</b>) in Base at <a href=\"https://github.com/JuliaLang/julia/tree/5d4eaca0c9fa3d555c79dbacdccb9169fdf64b65/base/complex.jl#L285\" target=\"_blank\">complex.jl:285</a></li> <li> +(x::<b>Real</b>, z::<b>Complex{Bool}</b>) in Base at <a href=\"https://github.com/JuliaLang/julia/tree/5d4eaca0c9fa3d555c79dbacdccb9169fdf64b65/base/complex.jl#L291\" target=\"_blank\">complex.jl:291</a></li> <li> +(x::<b>Real</b>, z::<b>Complex</b>) in Base at <a href=\"https://github.com/JuliaLang/julia/tree/5d4eaca0c9fa3d555c79dbacdccb9169fdf64b65/base/complex.jl#L303\" target=\"_blank\">complex.jl:303</a></li> <li> +(z::<b>Complex</b>, x::<b>Real</b>) in Base at <a href=\"https://github.com/JuliaLang/julia/tree/5d4eaca0c9fa3d555c79dbacdccb9169fdf64b65/base/complex.jl#L304\" target=\"_blank\">complex.jl:304</a></li> <li> +(x::<b>Rational</b>, y::<b>Rational</b>) in Base at <a href=\"https://github.com/JuliaLang/julia/tree/5d4eaca0c9fa3d555c79dbacdccb9169fdf64b65/base/rational.jl#L248\" target=\"_blank\">rational.jl:248</a></li> <li> +(x::<b>Integer</b>, y::<b>AbstractChar</b>) in Base at <a href=\"https://github.com/JuliaLang/julia/tree/5d4eaca0c9fa3d555c79dbacdccb9169fdf64b65/base/char.jl#L208\" target=\"_blank\">char.jl:208</a></li> <li> +(c::<b>Union{UInt16, UInt32, UInt64, UInt8}</b>, x::<b>BigFloat</b>) in Base.MPFR at <a href=\"https://github.com/JuliaLang/julia/tree/5d4eaca0c9fa3d555c79dbacdccb9169fdf64b65/base/mpfr.jl#L329\" target=\"_blank\">mpfr.jl:329</a></li> <li> +(c::<b>Union{Int16, Int32, Int64, Int8}</b>, x::<b>BigFloat</b>) in Base.MPFR at <a href=\"https://github.com/JuliaLang/julia/tree/5d4eaca0c9fa3d555c79dbacdccb9169fdf64b65/base/mpfr.jl#L337\" target=\"_blank\">mpfr.jl:337</a></li> <li> +(c::<b>Union{Float16, Float32, Float64}</b>, x::<b>BigFloat</b>) in Base.MPFR at <a href=\"https://github.com/JuliaLang/julia/tree/5d4eaca0c9fa3d555c79dbacdccb9169fdf64b65/base/mpfr.jl#L345\" target=\"_blank\">mpfr.jl:345</a></li> <li> +(x::<b>AbstractIrrational</b>, y::<b>AbstractIrrational</b>) in Base at <a href=\"https://github.com/JuliaLang/julia/tree/5d4eaca0c9fa3d555c79dbacdccb9169fdf64b65/base/irrationals.jl#L133\" target=\"_blank\">irrationals.jl:133</a></li> <li> +(x::<b>Number</b>) in Base at <a href=\"https://github.com/JuliaLang/julia/tree/5d4eaca0c9fa3d555c79dbacdccb9169fdf64b65/base/operators.jl#L477\" target=\"_blank\">operators.jl:477</a></li> <li> +<i>{T<:Number}</i>(x::<b>T</b>, y::<b>T</b>) in Base at <a href=\"https://github.com/JuliaLang/julia/tree/5d4eaca0c9fa3d555c79dbacdccb9169fdf64b65/base/promotion.jl#L411\" target=\"_blank\">promotion.jl:411</a></li> <li> +(x::<b>Number</b>, y::<b>Number</b>) in Base at <a href=\"https://github.com/JuliaLang/julia/tree/5d4eaca0c9fa3d555c79dbacdccb9169fdf64b65/base/promotion.jl#L313\" target=\"_blank\">promotion.jl:313</a></li> <li> +(r1::<b>OrdinalRange</b>, r2::<b>OrdinalRange</b>) in Base at <a href=\"https://github.com/JuliaLang/julia/tree/5d4eaca0c9fa3d555c79dbacdccb9169fdf64b65/base/range.jl#L978\" target=\"_blank\">range.jl:978</a></li> <li> +<i>{T}</i>(r1::<b>LinRange{T}</b>, r2::<b>LinRange{T}</b>) in Base at <a href=\"https://github.com/JuliaLang/julia/tree/5d4eaca0c9fa3d555c79dbacdccb9169fdf64b65/base/range.jl#L985\" target=\"_blank\">range.jl:985</a></li> <li> +<i>{R<:TwicePrecision, T}</i>(r1::<b>StepRangeLen{T,R,S} where S</b>, r2::<b>StepRangeLen{T,R,S} where S</b>) in Base at <a href=\"https://github.com/JuliaLang/julia/tree/5d4eaca0c9fa3d555c79dbacdccb9169fdf64b65/base/twiceprecision.jl#L554\" target=\"_blank\">twiceprecision.jl:554</a></li> <li> +<i>{T, S}</i>(r1::<b>StepRangeLen{T,S,S1} where S1</b>, r2::<b>StepRangeLen{T,S,S1} where S1</b>) in Base at <a href=\"https://github.com/JuliaLang/julia/tree/5d4eaca0c9fa3d555c79dbacdccb9169fdf64b65/base/range.jl#L1001\" target=\"_blank\">range.jl:1001</a></li> <li> +(r1::<b>Union{LinRange, OrdinalRange, StepRangeLen}</b>, r2::<b>Union{LinRange, OrdinalRange, StepRangeLen}</b>) in Base at <a href=\"https://github.com/JuliaLang/julia/tree/5d4eaca0c9fa3d555c79dbacdccb9169fdf64b65/base/range.jl#L993\" target=\"_blank\">range.jl:993</a></li> <li> +(x::<b>Ptr</b>, y::<b>Integer</b>) in Base at <a href=\"https://github.com/JuliaLang/julia/tree/5d4eaca0c9fa3d555c79dbacdccb9169fdf64b65/base/pointer.jl#L155\" target=\"_blank\">pointer.jl:155</a></li> <li> +(x::<b>Base.TwicePrecision</b>, y::<b>Number</b>) in Base at <a href=\"https://github.com/JuliaLang/julia/tree/5d4eaca0c9fa3d555c79dbacdccb9169fdf64b65/base/twiceprecision.jl#L265\" target=\"_blank\">twiceprecision.jl:265</a></li> <li> +(x::<b>Number</b>, y::<b>Base.TwicePrecision</b>) in Base at <a href=\"https://github.com/JuliaLang/julia/tree/5d4eaca0c9fa3d555c79dbacdccb9169fdf64b65/base/twiceprecision.jl#L268\" target=\"_blank\">twiceprecision.jl:268</a></li> <li> +<i>{T}</i>(x::<b>Base.TwicePrecision{T}</b>, y::<b>Base.TwicePrecision{T}</b>) in Base at <a href=\"https://github.com/JuliaLang/julia/tree/5d4eaca0c9fa3d555c79dbacdccb9169fdf64b65/base/twiceprecision.jl#L271\" target=\"_blank\">twiceprecision.jl:271</a></li> <li> +(x::<b>Base.TwicePrecision</b>, y::<b>Base.TwicePrecision</b>) in Base at <a href=\"https://github.com/JuliaLang/julia/tree/5d4eaca0c9fa3d555c79dbacdccb9169fdf64b65/base/twiceprecision.jl#L275\" target=\"_blank\">twiceprecision.jl:275</a></li> <li> +(A::<b>Array</b>, Bs::<b>Array...</b>) in Base at <a href=\"https://github.com/JuliaLang/julia/tree/5d4eaca0c9fa3d555c79dbacdccb9169fdf64b65/base/arraymath.jl#L44\" target=\"_blank\">arraymath.jl:44</a></li> <li> +(A::<b>BitArray</b>, B::<b>BitArray</b>) in Base at <a href=\"https://github.com/JuliaLang/julia/tree/5d4eaca0c9fa3d555c79dbacdccb9169fdf64b65/base/bitarray.jl#L1074\" target=\"_blank\">bitarray.jl:1074</a></li> <li> +(A::<b>Array{T,2} where T</b>, B::<b>LinearAlgebra.Diagonal</b>) in LinearAlgebra at <a href=\"file:///Users/osx/buildbot/slave/package_osx64/build/usr/share/julia/stdlib/v1.0/LinearAlgebra/src/special.jl\" target=\"_blank\">/Users/osx/buildbot/slave/package_osx64/build/usr/share/julia/stdlib/v1.0/LinearAlgebra/src/special.jl:88</a></li> <li> +(A::<b>Array{T,2} where T</b>, B::<b>LinearAlgebra.Bidiagonal</b>) in LinearAlgebra at <a href=\"file:///Users/osx/buildbot/slave/package_osx64/build/usr/share/julia/stdlib/v1.0/LinearAlgebra/src/special.jl\" target=\"_blank\">/Users/osx/buildbot/slave/package_osx64/build/usr/share/julia/stdlib/v1.0/LinearAlgebra/src/special.jl:88</a></li> <li> +(A::<b>Array{T,2} where T</b>, B::<b>LinearAlgebra.Tridiagonal</b>) in LinearAlgebra at <a href=\"file:///Users/osx/buildbot/slave/package_osx64/build/usr/share/julia/stdlib/v1.0/LinearAlgebra/src/special.jl\" target=\"_blank\">/Users/osx/buildbot/slave/package_osx64/build/usr/share/julia/stdlib/v1.0/LinearAlgebra/src/special.jl:88</a></li> <li> +(A::<b>Array{T,2} where T</b>, B::<b>LinearAlgebra.SymTridiagonal</b>) in LinearAlgebra at <a href=\"file:///Users/osx/buildbot/slave/package_osx64/build/usr/share/julia/stdlib/v1.0/LinearAlgebra/src/special.jl\" target=\"_blank\">/Users/osx/buildbot/slave/package_osx64/build/usr/share/julia/stdlib/v1.0/LinearAlgebra/src/special.jl:97</a></li> <li> +(A::<b>Array{T,2} where T</b>, B::<b>LinearAlgebra.AbstractTriangular</b>) in LinearAlgebra at <a href=\"file:///Users/osx/buildbot/slave/package_osx64/build/usr/share/julia/stdlib/v1.0/LinearAlgebra/src/special.jl\" target=\"_blank\">/Users/osx/buildbot/slave/package_osx64/build/usr/share/julia/stdlib/v1.0/LinearAlgebra/src/special.jl:125</a></li> <li> +(A::<b>Array</b>, B::<b>SparseArrays.SparseMatrixCSC</b>) in SparseArrays at <a href=\"file:///Users/osx/buildbot/slave/package_osx64/build/usr/share/julia/stdlib/v1.0/SparseArrays/src/sparsematrix.jl\" target=\"_blank\">/Users/osx/buildbot/slave/package_osx64/build/usr/share/julia/stdlib/v1.0/SparseArrays/src/sparsematrix.jl:1563</a></li> <li> +(x::<b>Union{DenseArray{#s549,N}, ReinterpretArray{#s549,N,S,A} where S where A<:Union{SubArray{T,N,A,I,true} where I<:Tuple{AbstractUnitRange,Vararg{Any,N} where N} where A<:DenseArray where N where T, DenseArray}, ReshapedArray{#s549,N,A,MI} where MI<:Tuple{Vararg{SignedMultiplicativeInverse{Int64},N} where N} where A<:Union{ReinterpretArray{T,N,S,A} where S where A<:Union{SubArray{T,N,A,I,true} where I<:Tuple{AbstractUnitRange,Vararg{Any,N} where N} where A<:DenseArray where N where T, DenseArray} where N where T, SubArray{T,N,A,I,true} where I<:Tuple{AbstractUnitRange,Vararg{Any,N} where N} where A<:DenseArray where N where T, DenseArray}, SubArray{#s549,N,A,I,L} where L where I<:Tuple{Vararg{Union{Int64, AbstractRange{Int64}, AbstractCartesianIndex},N} where N} where A<:Union{ReinterpretArray{T,N,S,A} where S where A<:Union{SubArray{T,N,A,I,true} where I<:Tuple{AbstractUnitRange,Vararg{Any,N} where N} where A<:DenseArray where N where T, DenseArray} where N where T, ReshapedArray{T,N,A,MI} where MI<:Tuple{Vararg{SignedMultiplicativeInverse{Int64},N} where N} where A<:Union{ReinterpretArray{T,N,S,A} where S where A<:Union{SubArray{T,N,A,I,true} where I<:Tuple{AbstractUnitRange,Vararg{Any,N} where N} where A<:DenseArray where N where T, DenseArray} where N where T, SubArray{T,N,A,I,true} where I<:Tuple{AbstractUnitRange,Vararg{Any,N} where N} where A<:DenseArray where N where T, DenseArray} where N where T, DenseArray}} where N where #s549<:Union{CompoundPeriod, Period}</b>) in Dates at <a href=\"file:///Users/osx/buildbot/slave/package_osx64/build/usr/share/julia/stdlib/v1.0/Dates/src/periods.jl\" target=\"_blank\">/Users/osx/buildbot/slave/package_osx64/build/usr/share/julia/stdlib/v1.0/Dates/src/periods.jl:358</a></li> <li> +(X::<b>Union{DenseArray{#s549,N}, ReinterpretArray{#s549,N,S,A} where S where A<:Union{SubArray{T,N,A,I,true} where I<:Tuple{AbstractUnitRange,Vararg{Any,N} where N} where A<:DenseArray where N where T, DenseArray}, ReshapedArray{#s549,N,A,MI} where MI<:Tuple{Vararg{SignedMultiplicativeInverse{Int64},N} where N} where A<:Union{ReinterpretArray{T,N,S,A} where S where A<:Union{SubArray{T,N,A,I,true} where I<:Tuple{AbstractUnitRange,Vararg{Any,N} where N} where A<:DenseArray where N where T, DenseArray} where N where T, SubArray{T,N,A,I,true} where I<:Tuple{AbstractUnitRange,Vararg{Any,N} where N} where A<:DenseArray where N where T, DenseArray}, SubArray{#s549,N,A,I,L} where L where I<:Tuple{Vararg{Union{Int64, AbstractRange{Int64}, AbstractCartesianIndex},N} where N} where A<:Union{ReinterpretArray{T,N,S,A} where S where A<:Union{SubArray{T,N,A,I,true} where I<:Tuple{AbstractUnitRange,Vararg{Any,N} where N} where A<:DenseArray where N where T, DenseArray} where N where T, ReshapedArray{T,N,A,MI} where MI<:Tuple{Vararg{SignedMultiplicativeInverse{Int64},N} where N} where A<:Union{ReinterpretArray{T,N,S,A} where S where A<:Union{SubArray{T,N,A,I,true} where I<:Tuple{AbstractUnitRange,Vararg{Any,N} where N} where A<:DenseArray where N where T, DenseArray} where N where T, SubArray{T,N,A,I,true} where I<:Tuple{AbstractUnitRange,Vararg{Any,N} where N} where A<:DenseArray where N where T, DenseArray} where N where T, DenseArray}} where N where #s549<:Union{CompoundPeriod, Period}</b>, Y::<b>Union{DenseArray{#s548,N}, ReinterpretArray{#s548,N,S,A} where S where A<:Union{SubArray{T,N,A,I,true} where I<:Tuple{AbstractUnitRange,Vararg{Any,N} where N} where A<:DenseArray where N where T, DenseArray}, ReshapedArray{#s548,N,A,MI} where MI<:Tuple{Vararg{SignedMultiplicativeInverse{Int64},N} where N} where A<:Union{ReinterpretArray{T,N,S,A} where S where A<:Union{SubArray{T,N,A,I,true} where I<:Tuple{AbstractUnitRange,Vararg{Any,N} where N} where A<:DenseArray where N where T, DenseArray} where N where T, SubArray{T,N,A,I,true} where I<:Tuple{AbstractUnitRange,Vararg{Any,N} where N} where A<:DenseArray where N where T, DenseArray}, SubArray{#s548,N,A,I,L} where L where I<:Tuple{Vararg{Union{Int64, AbstractRange{Int64}, AbstractCartesianIndex},N} where N} where A<:Union{ReinterpretArray{T,N,S,A} where S where A<:Union{SubArray{T,N,A,I,true} where I<:Tuple{AbstractUnitRange,Vararg{Any,N} where N} where A<:DenseArray where N where T, DenseArray} where N where T, ReshapedArray{T,N,A,MI} where MI<:Tuple{Vararg{SignedMultiplicativeInverse{Int64},N} where N} where A<:Union{ReinterpretArray{T,N,S,A} where S where A<:Union{SubArray{T,N,A,I,true} where I<:Tuple{AbstractUnitRange,Vararg{Any,N} where N} where A<:DenseArray where N where T, DenseArray} where N where T, SubArray{T,N,A,I,true} where I<:Tuple{AbstractUnitRange,Vararg{Any,N} where N} where A<:DenseArray where N where T, DenseArray} where N where T, DenseArray}} where N where #s548<:Union{CompoundPeriod, Period}</b>) in Dates at <a href=\"file:///Users/osx/buildbot/slave/package_osx64/build/usr/share/julia/stdlib/v1.0/Dates/src/periods.jl\" target=\"_blank\">/Users/osx/buildbot/slave/package_osx64/build/usr/share/julia/stdlib/v1.0/Dates/src/periods.jl:362</a></li> <li> +(x::<b>Union{DenseArray{#s549,N}, ReinterpretArray{#s549,N,S,A} where S where A<:Union{SubArray{T,N,A,I,true} where I<:Tuple{AbstractUnitRange,Vararg{Any,N} where N} where A<:DenseArray where N where T, DenseArray}, ReshapedArray{#s549,N,A,MI} where MI<:Tuple{Vararg{SignedMultiplicativeInverse{Int64},N} where N} where A<:Union{ReinterpretArray{T,N,S,A} where S where A<:Union{SubArray{T,N,A,I,true} where I<:Tuple{AbstractUnitRange,Vararg{Any,N} where N} where A<:DenseArray where N where T, DenseArray} where N where T, SubArray{T,N,A,I,true} where I<:Tuple{AbstractUnitRange,Vararg{Any,N} where N} where A<:DenseArray where N where T, DenseArray}, SubArray{#s549,N,A,I,L} where L where I<:Tuple{Vararg{Union{Int64, AbstractRange{Int64}, AbstractCartesianIndex},N} where N} where A<:Union{ReinterpretArray{T,N,S,A} where S where A<:Union{SubArray{T,N,A,I,true} where I<:Tuple{AbstractUnitRange,Vararg{Any,N} where N} where A<:DenseArray where N where T, DenseArray} where N where T, ReshapedArray{T,N,A,MI} where MI<:Tuple{Vararg{SignedMultiplicativeInverse{Int64},N} where N} where A<:Union{ReinterpretArray{T,N,S,A} where S where A<:Union{SubArray{T,N,A,I,true} where I<:Tuple{AbstractUnitRange,Vararg{Any,N} where N} where A<:DenseArray where N where T, DenseArray} where N where T, SubArray{T,N,A,I,true} where I<:Tuple{AbstractUnitRange,Vararg{Any,N} where N} where A<:DenseArray where N where T, DenseArray} where N where T, DenseArray}} where N where #s549<:Union{CompoundPeriod, Period}</b>, y::<b>Dates.TimeType</b>) in Dates at <a href=\"file:///Users/osx/buildbot/slave/package_osx64/build/usr/share/julia/stdlib/v1.0/Dates/src/arithmetic.jl\" target=\"_blank\">/Users/osx/buildbot/slave/package_osx64/build/usr/share/julia/stdlib/v1.0/Dates/src/arithmetic.jl:87</a></li> <li> +(r::<b>AbstractRange{#s549} where #s549<:Dates.TimeType</b>, x::<b>Dates.Period</b>) in Dates at <a href=\"file:///Users/osx/buildbot/slave/package_osx64/build/usr/share/julia/stdlib/v1.0/Dates/src/ranges.jl\" target=\"_blank\">/Users/osx/buildbot/slave/package_osx64/build/usr/share/julia/stdlib/v1.0/Dates/src/ranges.jl:58</a></li> <li> +(A::<b>LinearAlgebra.SymTridiagonal</b>, B::<b>LinearAlgebra.SymTridiagonal</b>) in LinearAlgebra at <a href=\"file:///Users/osx/buildbot/slave/package_osx64/build/usr/share/julia/stdlib/v1.0/LinearAlgebra/src/tridiag.jl\" target=\"_blank\">/Users/osx/buildbot/slave/package_osx64/build/usr/share/julia/stdlib/v1.0/LinearAlgebra/src/tridiag.jl:158</a></li> <li> +(A::<b>LinearAlgebra.Tridiagonal</b>, B::<b>LinearAlgebra.Tridiagonal</b>) in LinearAlgebra at <a href=\"file:///Users/osx/buildbot/slave/package_osx64/build/usr/share/julia/stdlib/v1.0/LinearAlgebra/src/tridiag.jl\" target=\"_blank\">/Users/osx/buildbot/slave/package_osx64/build/usr/share/julia/stdlib/v1.0/LinearAlgebra/src/tridiag.jl:644</a></li> <li> +(A::<b>LinearAlgebra.UpperTriangular</b>, B::<b>LinearAlgebra.UpperTriangular</b>) in LinearAlgebra at <a href=\"file:///Users/osx/buildbot/slave/package_osx64/build/usr/share/julia/stdlib/v1.0/LinearAlgebra/src/triangular.jl\" target=\"_blank\">/Users/osx/buildbot/slave/package_osx64/build/usr/share/julia/stdlib/v1.0/LinearAlgebra/src/triangular.jl:487</a></li> <li> +(A::<b>LinearAlgebra.LowerTriangular</b>, B::<b>LinearAlgebra.LowerTriangular</b>) in LinearAlgebra at <a href=\"file:///Users/osx/buildbot/slave/package_osx64/build/usr/share/julia/stdlib/v1.0/LinearAlgebra/src/triangular.jl\" target=\"_blank\">/Users/osx/buildbot/slave/package_osx64/build/usr/share/julia/stdlib/v1.0/LinearAlgebra/src/triangular.jl:488</a></li> <li> +(A::<b>LinearAlgebra.UpperTriangular</b>, B::<b>LinearAlgebra.UnitUpperTriangular</b>) in LinearAlgebra at <a href=\"file:///Users/osx/buildbot/slave/package_osx64/build/usr/share/julia/stdlib/v1.0/LinearAlgebra/src/triangular.jl\" target=\"_blank\">/Users/osx/buildbot/slave/package_osx64/build/usr/share/julia/stdlib/v1.0/LinearAlgebra/src/triangular.jl:489</a></li> <li> +(A::<b>LinearAlgebra.LowerTriangular</b>, B::<b>LinearAlgebra.UnitLowerTriangular</b>) in LinearAlgebra at <a href=\"file:///Users/osx/buildbot/slave/package_osx64/build/usr/share/julia/stdlib/v1.0/LinearAlgebra/src/triangular.jl\" target=\"_blank\">/Users/osx/buildbot/slave/package_osx64/build/usr/share/julia/stdlib/v1.0/LinearAlgebra/src/triangular.jl:490</a></li> <li> +(A::<b>LinearAlgebra.UnitUpperTriangular</b>, B::<b>LinearAlgebra.UpperTriangular</b>) in LinearAlgebra at <a href=\"file:///Users/osx/buildbot/slave/package_osx64/build/usr/share/julia/stdlib/v1.0/LinearAlgebra/src/triangular.jl\" target=\"_blank\">/Users/osx/buildbot/slave/package_osx64/build/usr/share/julia/stdlib/v1.0/LinearAlgebra/src/triangular.jl:491</a></li> <li> +(A::<b>LinearAlgebra.UnitLowerTriangular</b>, B::<b>LinearAlgebra.LowerTriangular</b>) in LinearAlgebra at <a href=\"file:///Users/osx/buildbot/slave/package_osx64/build/usr/share/julia/stdlib/v1.0/LinearAlgebra/src/triangular.jl\" target=\"_blank\">/Users/osx/buildbot/slave/package_osx64/build/usr/share/julia/stdlib/v1.0/LinearAlgebra/src/triangular.jl:492</a></li> <li> +(A::<b>LinearAlgebra.UnitUpperTriangular</b>, B::<b>LinearAlgebra.UnitUpperTriangular</b>) in LinearAlgebra at <a href=\"file:///Users/osx/buildbot/slave/package_osx64/build/usr/share/julia/stdlib/v1.0/LinearAlgebra/src/triangular.jl\" target=\"_blank\">/Users/osx/buildbot/slave/package_osx64/build/usr/share/julia/stdlib/v1.0/LinearAlgebra/src/triangular.jl:493</a></li> <li> +(A::<b>LinearAlgebra.UnitLowerTriangular</b>, B::<b>LinearAlgebra.UnitLowerTriangular</b>) in LinearAlgebra at <a href=\"file:///Users/osx/buildbot/slave/package_osx64/build/usr/share/julia/stdlib/v1.0/LinearAlgebra/src/triangular.jl\" target=\"_blank\">/Users/osx/buildbot/slave/package_osx64/build/usr/share/julia/stdlib/v1.0/LinearAlgebra/src/triangular.jl:494</a></li> <li> +(A::<b>LinearAlgebra.AbstractTriangular</b>, B::<b>LinearAlgebra.AbstractTriangular</b>) in LinearAlgebra at <a href=\"file:///Users/osx/buildbot/slave/package_osx64/build/usr/share/julia/stdlib/v1.0/LinearAlgebra/src/triangular.jl\" target=\"_blank\">/Users/osx/buildbot/slave/package_osx64/build/usr/share/julia/stdlib/v1.0/LinearAlgebra/src/triangular.jl:495</a></li> <li> +(Da::<b>LinearAlgebra.Diagonal</b>, Db::<b>LinearAlgebra.Diagonal</b>) in LinearAlgebra at <a href=\"file:///Users/osx/buildbot/slave/package_osx64/build/usr/share/julia/stdlib/v1.0/LinearAlgebra/src/diagonal.jl\" target=\"_blank\">/Users/osx/buildbot/slave/package_osx64/build/usr/share/julia/stdlib/v1.0/LinearAlgebra/src/diagonal.jl:152</a></li> <li> +(A::<b>LinearAlgebra.Bidiagonal</b>, B::<b>LinearAlgebra.Bidiagonal</b>) in LinearAlgebra at <a href=\"file:///Users/osx/buildbot/slave/package_osx64/build/usr/share/julia/stdlib/v1.0/LinearAlgebra/src/bidiag.jl\" target=\"_blank\">/Users/osx/buildbot/slave/package_osx64/build/usr/share/julia/stdlib/v1.0/LinearAlgebra/src/bidiag.jl:304</a></li> <li> +(UL::<b>LinearAlgebra.UnitUpperTriangular</b>, J::<b>LinearAlgebra.UniformScaling</b>) in LinearAlgebra at <a href=\"file:///Users/osx/buildbot/slave/package_osx64/build/usr/share/julia/stdlib/v1.0/LinearAlgebra/src/uniformscaling.jl\" target=\"_blank\">/Users/osx/buildbot/slave/package_osx64/build/usr/share/julia/stdlib/v1.0/LinearAlgebra/src/uniformscaling.jl:104</a></li> <li> +(UL::<b>LinearAlgebra.UnitLowerTriangular</b>, J::<b>LinearAlgebra.UniformScaling</b>) in LinearAlgebra at <a href=\"file:///Users/osx/buildbot/slave/package_osx64/build/usr/share/julia/stdlib/v1.0/LinearAlgebra/src/uniformscaling.jl\" target=\"_blank\">/Users/osx/buildbot/slave/package_osx64/build/usr/share/julia/stdlib/v1.0/LinearAlgebra/src/uniformscaling.jl:104</a></li> <li> +(A::<b>SparseArrays.SparseMatrixCSC</b>, J::<b>LinearAlgebra.UniformScaling</b>) in SparseArrays at <a href=\"file:///Users/osx/buildbot/slave/package_osx64/build/usr/share/julia/stdlib/v1.0/SparseArrays/src/sparsematrix.jl\" target=\"_blank\">/Users/osx/buildbot/slave/package_osx64/build/usr/share/julia/stdlib/v1.0/SparseArrays/src/sparsematrix.jl:3465</a></li> <li> +(A::<b>AbstractArray{T,2} where T</b>, J::<b>LinearAlgebra.UniformScaling</b>) in LinearAlgebra at <a href=\"file:///Users/osx/buildbot/slave/package_osx64/build/usr/share/julia/stdlib/v1.0/LinearAlgebra/src/uniformscaling.jl\" target=\"_blank\">/Users/osx/buildbot/slave/package_osx64/build/usr/share/julia/stdlib/v1.0/LinearAlgebra/src/uniformscaling.jl:114</a></li> <li> +(A::<b>LinearAlgebra.Diagonal</b>, B::<b>LinearAlgebra.Bidiagonal</b>) in LinearAlgebra at <a href=\"file:///Users/osx/buildbot/slave/package_osx64/build/usr/share/julia/stdlib/v1.0/LinearAlgebra/src/special.jl\" target=\"_blank\">/Users/osx/buildbot/slave/package_osx64/build/usr/share/julia/stdlib/v1.0/LinearAlgebra/src/special.jl:87</a></li> <li> +(A::<b>LinearAlgebra.Bidiagonal</b>, B::<b>LinearAlgebra.Diagonal</b>) in LinearAlgebra at <a href=\"file:///Users/osx/buildbot/slave/package_osx64/build/usr/share/julia/stdlib/v1.0/LinearAlgebra/src/special.jl\" target=\"_blank\">/Users/osx/buildbot/slave/package_osx64/build/usr/share/julia/stdlib/v1.0/LinearAlgebra/src/special.jl:88</a></li> <li> +(A::<b>LinearAlgebra.Diagonal</b>, B::<b>LinearAlgebra.Tridiagonal</b>) in LinearAlgebra at <a href=\"file:///Users/osx/buildbot/slave/package_osx64/build/usr/share/julia/stdlib/v1.0/LinearAlgebra/src/special.jl\" target=\"_blank\">/Users/osx/buildbot/slave/package_osx64/build/usr/share/julia/stdlib/v1.0/LinearAlgebra/src/special.jl:87</a></li> <li> +(A::<b>LinearAlgebra.Tridiagonal</b>, B::<b>LinearAlgebra.Diagonal</b>) in LinearAlgebra at <a href=\"file:///Users/osx/buildbot/slave/package_osx64/build/usr/share/julia/stdlib/v1.0/LinearAlgebra/src/special.jl\" target=\"_blank\">/Users/osx/buildbot/slave/package_osx64/build/usr/share/julia/stdlib/v1.0/LinearAlgebra/src/special.jl:88</a></li> <li> +(A::<b>LinearAlgebra.Diagonal</b>, B::<b>Array{T,2} where T</b>) in LinearAlgebra at <a href=\"file:///Users/osx/buildbot/slave/package_osx64/build/usr/share/julia/stdlib/v1.0/LinearAlgebra/src/special.jl\" target=\"_blank\">/Users/osx/buildbot/slave/package_osx64/build/usr/share/julia/stdlib/v1.0/LinearAlgebra/src/special.jl:87</a></li> <li> +(A::<b>LinearAlgebra.Bidiagonal</b>, B::<b>LinearAlgebra.Tridiagonal</b>) in LinearAlgebra at <a href=\"file:///Users/osx/buildbot/slave/package_osx64/build/usr/share/julia/stdlib/v1.0/LinearAlgebra/src/special.jl\" target=\"_blank\">/Users/osx/buildbot/slave/package_osx64/build/usr/share/julia/stdlib/v1.0/LinearAlgebra/src/special.jl:87</a></li> <li> +(A::<b>LinearAlgebra.Tridiagonal</b>, B::<b>LinearAlgebra.Bidiagonal</b>) in LinearAlgebra at <a href=\"file:///Users/osx/buildbot/slave/package_osx64/build/usr/share/julia/stdlib/v1.0/LinearAlgebra/src/special.jl\" target=\"_blank\">/Users/osx/buildbot/slave/package_osx64/build/usr/share/julia/stdlib/v1.0/LinearAlgebra/src/special.jl:88</a></li> <li> +(A::<b>LinearAlgebra.Bidiagonal</b>, B::<b>Array{T,2} where T</b>) in LinearAlgebra at <a href=\"file:///Users/osx/buildbot/slave/package_osx64/build/usr/share/julia/stdlib/v1.0/LinearAlgebra/src/special.jl\" target=\"_blank\">/Users/osx/buildbot/slave/package_osx64/build/usr/share/julia/stdlib/v1.0/LinearAlgebra/src/special.jl:87</a></li> <li> +(A::<b>LinearAlgebra.Tridiagonal</b>, B::<b>Array{T,2} where T</b>) in LinearAlgebra at <a href=\"file:///Users/osx/buildbot/slave/package_osx64/build/usr/share/julia/stdlib/v1.0/LinearAlgebra/src/special.jl\" target=\"_blank\">/Users/osx/buildbot/slave/package_osx64/build/usr/share/julia/stdlib/v1.0/LinearAlgebra/src/special.jl:87</a></li> <li> +(A::<b>LinearAlgebra.SymTridiagonal</b>, B::<b>LinearAlgebra.Tridiagonal</b>) in LinearAlgebra at <a href=\"file:///Users/osx/buildbot/slave/package_osx64/build/usr/share/julia/stdlib/v1.0/LinearAlgebra/src/special.jl\" target=\"_blank\">/Users/osx/buildbot/slave/package_osx64/build/usr/share/julia/stdlib/v1.0/LinearAlgebra/src/special.jl:96</a></li> <li> +(A::<b>LinearAlgebra.Tridiagonal</b>, B::<b>LinearAlgebra.SymTridiagonal</b>) in LinearAlgebra at <a href=\"file:///Users/osx/buildbot/slave/package_osx64/build/usr/share/julia/stdlib/v1.0/LinearAlgebra/src/special.jl\" target=\"_blank\">/Users/osx/buildbot/slave/package_osx64/build/usr/share/julia/stdlib/v1.0/LinearAlgebra/src/special.jl:97</a></li> <li> +(A::<b>LinearAlgebra.SymTridiagonal</b>, B::<b>Array{T,2} where T</b>) in LinearAlgebra at <a href=\"file:///Users/osx/buildbot/slave/package_osx64/build/usr/share/julia/stdlib/v1.0/LinearAlgebra/src/special.jl\" target=\"_blank\">/Users/osx/buildbot/slave/package_osx64/build/usr/share/julia/stdlib/v1.0/LinearAlgebra/src/special.jl:96</a></li> <li> +(A::<b>LinearAlgebra.Diagonal</b>, B::<b>LinearAlgebra.SymTridiagonal</b>) in LinearAlgebra at <a href=\"file:///Users/osx/buildbot/slave/package_osx64/build/usr/share/julia/stdlib/v1.0/LinearAlgebra/src/special.jl\" target=\"_blank\">/Users/osx/buildbot/slave/package_osx64/build/usr/share/julia/stdlib/v1.0/LinearAlgebra/src/special.jl:105</a></li> <li> +(A::<b>LinearAlgebra.SymTridiagonal</b>, B::<b>LinearAlgebra.Diagonal</b>) in LinearAlgebra at <a href=\"file:///Users/osx/buildbot/slave/package_osx64/build/usr/share/julia/stdlib/v1.0/LinearAlgebra/src/special.jl\" target=\"_blank\">/Users/osx/buildbot/slave/package_osx64/build/usr/share/julia/stdlib/v1.0/LinearAlgebra/src/special.jl:106</a></li> <li> +(A::<b>LinearAlgebra.Bidiagonal</b>, B::<b>LinearAlgebra.SymTridiagonal</b>) in LinearAlgebra at <a href=\"file:///Users/osx/buildbot/slave/package_osx64/build/usr/share/julia/stdlib/v1.0/LinearAlgebra/src/special.jl\" target=\"_blank\">/Users/osx/buildbot/slave/package_osx64/build/usr/share/julia/stdlib/v1.0/LinearAlgebra/src/special.jl:105</a></li> <li> +(A::<b>LinearAlgebra.SymTridiagonal</b>, B::<b>LinearAlgebra.Bidiagonal</b>) in LinearAlgebra at <a href=\"file:///Users/osx/buildbot/slave/package_osx64/build/usr/share/julia/stdlib/v1.0/LinearAlgebra/src/special.jl\" target=\"_blank\">/Users/osx/buildbot/slave/package_osx64/build/usr/share/julia/stdlib/v1.0/LinearAlgebra/src/special.jl:106</a></li> <li> +(A::<b>LinearAlgebra.Diagonal</b>, B::<b>LinearAlgebra.UpperTriangular</b>) in LinearAlgebra at <a href=\"file:///Users/osx/buildbot/slave/package_osx64/build/usr/share/julia/stdlib/v1.0/LinearAlgebra/src/special.jl\" target=\"_blank\">/Users/osx/buildbot/slave/package_osx64/build/usr/share/julia/stdlib/v1.0/LinearAlgebra/src/special.jl:117</a></li> <li> +(A::<b>LinearAlgebra.UpperTriangular</b>, B::<b>LinearAlgebra.Diagonal</b>) in LinearAlgebra at <a href=\"file:///Users/osx/buildbot/slave/package_osx64/build/usr/share/julia/stdlib/v1.0/LinearAlgebra/src/special.jl\" target=\"_blank\">/Users/osx/buildbot/slave/package_osx64/build/usr/share/julia/stdlib/v1.0/LinearAlgebra/src/special.jl:118</a></li> <li> +(A::<b>LinearAlgebra.Diagonal</b>, B::<b>LinearAlgebra.UnitUpperTriangular</b>) in LinearAlgebra at <a href=\"file:///Users/osx/buildbot/slave/package_osx64/build/usr/share/julia/stdlib/v1.0/LinearAlgebra/src/special.jl\" target=\"_blank\">/Users/osx/buildbot/slave/package_osx64/build/usr/share/julia/stdlib/v1.0/LinearAlgebra/src/special.jl:117</a></li> <li> +(A::<b>LinearAlgebra.UnitUpperTriangular</b>, B::<b>LinearAlgebra.Diagonal</b>) in LinearAlgebra at <a href=\"file:///Users/osx/buildbot/slave/package_osx64/build/usr/share/julia/stdlib/v1.0/LinearAlgebra/src/special.jl\" target=\"_blank\">/Users/osx/buildbot/slave/package_osx64/build/usr/share/julia/stdlib/v1.0/LinearAlgebra/src/special.jl:118</a></li> <li> +(A::<b>LinearAlgebra.Diagonal</b>, B::<b>LinearAlgebra.LowerTriangular</b>) in LinearAlgebra at <a href=\"file:///Users/osx/buildbot/slave/package_osx64/build/usr/share/julia/stdlib/v1.0/LinearAlgebra/src/special.jl\" target=\"_blank\">/Users/osx/buildbot/slave/package_osx64/build/usr/share/julia/stdlib/v1.0/LinearAlgebra/src/special.jl:117</a></li> <li> +(A::<b>LinearAlgebra.LowerTriangular</b>, B::<b>LinearAlgebra.Diagonal</b>) in LinearAlgebra at <a href=\"file:///Users/osx/buildbot/slave/package_osx64/build/usr/share/julia/stdlib/v1.0/LinearAlgebra/src/special.jl\" target=\"_blank\">/Users/osx/buildbot/slave/package_osx64/build/usr/share/julia/stdlib/v1.0/LinearAlgebra/src/special.jl:118</a></li> <li> +(A::<b>LinearAlgebra.Diagonal</b>, B::<b>LinearAlgebra.UnitLowerTriangular</b>) in LinearAlgebra at <a href=\"file:///Users/osx/buildbot/slave/package_osx64/build/usr/share/julia/stdlib/v1.0/LinearAlgebra/src/special.jl\" target=\"_blank\">/Users/osx/buildbot/slave/package_osx64/build/usr/share/julia/stdlib/v1.0/LinearAlgebra/src/special.jl:117</a></li> <li> +(A::<b>LinearAlgebra.UnitLowerTriangular</b>, B::<b>LinearAlgebra.Diagonal</b>) in LinearAlgebra at <a href=\"file:///Users/osx/buildbot/slave/package_osx64/build/usr/share/julia/stdlib/v1.0/LinearAlgebra/src/special.jl\" target=\"_blank\">/Users/osx/buildbot/slave/package_osx64/build/usr/share/julia/stdlib/v1.0/LinearAlgebra/src/special.jl:118</a></li> <li> +(A::<b>LinearAlgebra.AbstractTriangular</b>, B::<b>LinearAlgebra.SymTridiagonal</b>) in LinearAlgebra at <a href=\"file:///Users/osx/buildbot/slave/package_osx64/build/usr/share/julia/stdlib/v1.0/LinearAlgebra/src/special.jl\" target=\"_blank\">/Users/osx/buildbot/slave/package_osx64/build/usr/share/julia/stdlib/v1.0/LinearAlgebra/src/special.jl:124</a></li> <li> +(A::<b>LinearAlgebra.SymTridiagonal</b>, B::<b>LinearAlgebra.AbstractTriangular</b>) in LinearAlgebra at <a href=\"file:///Users/osx/buildbot/slave/package_osx64/build/usr/share/julia/stdlib/v1.0/LinearAlgebra/src/special.jl\" target=\"_blank\">/Users/osx/buildbot/slave/package_osx64/build/usr/share/julia/stdlib/v1.0/LinearAlgebra/src/special.jl:125</a></li> <li> +(A::<b>LinearAlgebra.AbstractTriangular</b>, B::<b>LinearAlgebra.Tridiagonal</b>) in LinearAlgebra at <a href=\"file:///Users/osx/buildbot/slave/package_osx64/build/usr/share/julia/stdlib/v1.0/LinearAlgebra/src/special.jl\" target=\"_blank\">/Users/osx/buildbot/slave/package_osx64/build/usr/share/julia/stdlib/v1.0/LinearAlgebra/src/special.jl:124</a></li> <li> +(A::<b>LinearAlgebra.Tridiagonal</b>, B::<b>LinearAlgebra.AbstractTriangular</b>) in LinearAlgebra at <a href=\"file:///Users/osx/buildbot/slave/package_osx64/build/usr/share/julia/stdlib/v1.0/LinearAlgebra/src/special.jl\" target=\"_blank\">/Users/osx/buildbot/slave/package_osx64/build/usr/share/julia/stdlib/v1.0/LinearAlgebra/src/special.jl:125</a></li> <li> +(A::<b>LinearAlgebra.AbstractTriangular</b>, B::<b>LinearAlgebra.Bidiagonal</b>) in LinearAlgebra at <a href=\"file:///Users/osx/buildbot/slave/package_osx64/build/usr/share/julia/stdlib/v1.0/LinearAlgebra/src/special.jl\" target=\"_blank\">/Users/osx/buildbot/slave/package_osx64/build/usr/share/julia/stdlib/v1.0/LinearAlgebra/src/special.jl:124</a></li> <li> +(A::<b>LinearAlgebra.Bidiagonal</b>, B::<b>LinearAlgebra.AbstractTriangular</b>) in LinearAlgebra at <a href=\"file:///Users/osx/buildbot/slave/package_osx64/build/usr/share/julia/stdlib/v1.0/LinearAlgebra/src/special.jl\" target=\"_blank\">/Users/osx/buildbot/slave/package_osx64/build/usr/share/julia/stdlib/v1.0/LinearAlgebra/src/special.jl:125</a></li> <li> +(A::<b>LinearAlgebra.AbstractTriangular</b>, B::<b>Array{T,2} where T</b>) in LinearAlgebra at <a href=\"file:///Users/osx/buildbot/slave/package_osx64/build/usr/share/julia/stdlib/v1.0/LinearAlgebra/src/special.jl\" target=\"_blank\">/Users/osx/buildbot/slave/package_osx64/build/usr/share/julia/stdlib/v1.0/LinearAlgebra/src/special.jl:124</a></li> <li> +(A::<b>SparseArrays.SparseMatrixCSC</b>, B::<b>SparseArrays.SparseMatrixCSC</b>) in SparseArrays at <a href=\"file:///Users/osx/buildbot/slave/package_osx64/build/usr/share/julia/stdlib/v1.0/SparseArrays/src/sparsematrix.jl\" target=\"_blank\">/Users/osx/buildbot/slave/package_osx64/build/usr/share/julia/stdlib/v1.0/SparseArrays/src/sparsematrix.jl:1559</a></li> <li> +(A::<b>SparseArrays.SparseMatrixCSC</b>, B::<b>Array</b>) in SparseArrays at <a href=\"file:///Users/osx/buildbot/slave/package_osx64/build/usr/share/julia/stdlib/v1.0/SparseArrays/src/sparsematrix.jl\" target=\"_blank\">/Users/osx/buildbot/slave/package_osx64/build/usr/share/julia/stdlib/v1.0/SparseArrays/src/sparsematrix.jl:1562</a></li> <li> +(x::<b>SparseArrays.AbstractSparseArray{Tv,Ti,1} where Ti where Tv</b>, y::<b>SparseArrays.AbstractSparseArray{Tv,Ti,1} where Ti where Tv</b>) in SparseArrays at <a href=\"file:///Users/osx/buildbot/slave/package_osx64/build/usr/share/julia/stdlib/v1.0/SparseArrays/src/sparsevector.jl\" target=\"_blank\">/Users/osx/buildbot/slave/package_osx64/build/usr/share/julia/stdlib/v1.0/SparseArrays/src/sparsevector.jl:1290</a></li> <li> +(x::<b>AbstractArray{#s57,N} where N where #s57<:Number</b>) in Base at <a href=\"https://github.com/JuliaLang/julia/tree/5d4eaca0c9fa3d555c79dbacdccb9169fdf64b65/base/abstractarraymath.jl#L98\" target=\"_blank\">abstractarraymath.jl:98</a></li> <li> +(A::<b>AbstractArray</b>, B::<b>AbstractArray</b>) in Base at <a href=\"https://github.com/JuliaLang/julia/tree/5d4eaca0c9fa3d555c79dbacdccb9169fdf64b65/base/arraymath.jl#L38\" target=\"_blank\">arraymath.jl:38</a></li> <li> +<i>{T<:AbstractChar}</i>(x::<b>T</b>, y::<b>Integer</b>) in Base at <a href=\"https://github.com/JuliaLang/julia/tree/5d4eaca0c9fa3d555c79dbacdccb9169fdf64b65/base/char.jl#L207\" target=\"_blank\">char.jl:207</a></li> <li> +<i>{N}</i>(index1::<b>CartesianIndex{N}</b>, index2::<b>CartesianIndex{N}</b>) in Base.IteratorsMD at <a href=\"https://github.com/JuliaLang/julia/tree/5d4eaca0c9fa3d555c79dbacdccb9169fdf64b65/base/multidimensional.jl#L106\" target=\"_blank\">multidimensional.jl:106</a></li> <li> +(::<b>Number</b>, ::<b>Missing</b>) in Base at <a href=\"https://github.com/JuliaLang/julia/tree/5d4eaca0c9fa3d555c79dbacdccb9169fdf64b65/base/missing.jl#L94\" target=\"_blank\">missing.jl:94</a></li> <li> +<i>{P<:Period}</i>(x::<b>P</b>, y::<b>P</b>) in Dates at <a href=\"file:///Users/osx/buildbot/slave/package_osx64/build/usr/share/julia/stdlib/v1.0/Dates/src/periods.jl\" target=\"_blank\">/Users/osx/buildbot/slave/package_osx64/build/usr/share/julia/stdlib/v1.0/Dates/src/periods.jl:69</a></li> <li> +(x::<b>Dates.Period</b>, y::<b>Dates.Period</b>) in Dates at <a href=\"file:///Users/osx/buildbot/slave/package_osx64/build/usr/share/julia/stdlib/v1.0/Dates/src/periods.jl\" target=\"_blank\">/Users/osx/buildbot/slave/package_osx64/build/usr/share/julia/stdlib/v1.0/Dates/src/periods.jl:346</a></li> <li> +(y::<b>Dates.Period</b>, x::<b>Dates.CompoundPeriod</b>) in Dates at <a href=\"file:///Users/osx/buildbot/slave/package_osx64/build/usr/share/julia/stdlib/v1.0/Dates/src/periods.jl\" target=\"_blank\">/Users/osx/buildbot/slave/package_osx64/build/usr/share/julia/stdlib/v1.0/Dates/src/periods.jl:348</a></li> <li> +(x::<b>Union{CompoundPeriod, Period}</b>) in Dates at <a href=\"file:///Users/osx/buildbot/slave/package_osx64/build/usr/share/julia/stdlib/v1.0/Dates/src/periods.jl\" target=\"_blank\">/Users/osx/buildbot/slave/package_osx64/build/usr/share/julia/stdlib/v1.0/Dates/src/periods.jl:357</a></li> <li> +(x::<b>Dates.TimeType</b>) in Dates at <a href=\"file:///Users/osx/buildbot/slave/package_osx64/build/usr/share/julia/stdlib/v1.0/Dates/src/arithmetic.jl\" target=\"_blank\">/Users/osx/buildbot/slave/package_osx64/build/usr/share/julia/stdlib/v1.0/Dates/src/arithmetic.jl:8</a></li> <li> +(a::<b>Dates.TimeType</b>, b::<b>Dates.Period</b>, c::<b>Dates.Period</b>) in Dates at <a href=\"file:///Users/osx/buildbot/slave/package_osx64/build/usr/share/julia/stdlib/v1.0/Dates/src/periods.jl\" target=\"_blank\">/Users/osx/buildbot/slave/package_osx64/build/usr/share/julia/stdlib/v1.0/Dates/src/periods.jl:376</a></li> <li> +(a::<b>Dates.TimeType</b>, b::<b>Dates.Period</b>, c::<b>Dates.Period</b>, d::<b>Dates.Period...</b>) in Dates at <a href=\"file:///Users/osx/buildbot/slave/package_osx64/build/usr/share/julia/stdlib/v1.0/Dates/src/periods.jl\" target=\"_blank\">/Users/osx/buildbot/slave/package_osx64/build/usr/share/julia/stdlib/v1.0/Dates/src/periods.jl:377</a></li> <li> +(x::<b>Dates.TimeType</b>, y::<b>Dates.CompoundPeriod</b>) in Dates at <a href=\"file:///Users/osx/buildbot/slave/package_osx64/build/usr/share/julia/stdlib/v1.0/Dates/src/periods.jl\" target=\"_blank\">/Users/osx/buildbot/slave/package_osx64/build/usr/share/julia/stdlib/v1.0/Dates/src/periods.jl:380</a></li> <li> +(x::<b>Dates.Instant</b>) in Dates at <a href=\"file:///Users/osx/buildbot/slave/package_osx64/build/usr/share/julia/stdlib/v1.0/Dates/src/arithmetic.jl\" target=\"_blank\">/Users/osx/buildbot/slave/package_osx64/build/usr/share/julia/stdlib/v1.0/Dates/src/arithmetic.jl:4</a></li> <li> +(y::<b>Dates.Period</b>, x::<b>Dates.TimeType</b>) in Dates at <a href=\"file:///Users/osx/buildbot/slave/package_osx64/build/usr/share/julia/stdlib/v1.0/Dates/src/arithmetic.jl\" target=\"_blank\">/Users/osx/buildbot/slave/package_osx64/build/usr/share/julia/stdlib/v1.0/Dates/src/arithmetic.jl:84</a></li> <li> +(x::<b>AbstractArray{#s549,N} where N where #s549<:Dates.TimeType</b>, y::<b>Union{CompoundPeriod, Period}</b>) in Dates at <a href=\"file:///Users/osx/buildbot/slave/package_osx64/build/usr/share/julia/stdlib/v1.0/Dates/src/arithmetic.jl\" target=\"_blank\">/Users/osx/buildbot/slave/package_osx64/build/usr/share/julia/stdlib/v1.0/Dates/src/arithmetic.jl:86</a></li> <li> +(x::<b>Dates.Period</b>, r::<b>AbstractRange{#s549} where #s549<:Dates.TimeType</b>) in Dates at <a href=\"file:///Users/osx/buildbot/slave/package_osx64/build/usr/share/julia/stdlib/v1.0/Dates/src/ranges.jl\" target=\"_blank\">/Users/osx/buildbot/slave/package_osx64/build/usr/share/julia/stdlib/v1.0/Dates/src/ranges.jl:57</a></li> <li> +(y::<b>Union{CompoundPeriod, Period}</b>, x::<b>AbstractArray{#s549,N} where N where #s549<:Dates.TimeType</b>) in Dates at <a href=\"file:///Users/osx/buildbot/slave/package_osx64/build/usr/share/julia/stdlib/v1.0/Dates/src/arithmetic.jl\" target=\"_blank\">/Users/osx/buildbot/slave/package_osx64/build/usr/share/julia/stdlib/v1.0/Dates/src/arithmetic.jl:88</a></li> <li> +(y::<b>Dates.TimeType</b>, x::<b>Union{DenseArray{#s549,N}, ReinterpretArray{#s549,N,S,A} where S where A<:Union{SubArray{T,N,A,I,true} where I<:Tuple{AbstractUnitRange,Vararg{Any,N} where N} where A<:DenseArray where N where T, DenseArray}, ReshapedArray{#s549,N,A,MI} where MI<:Tuple{Vararg{SignedMultiplicativeInverse{Int64},N} where N} where A<:Union{ReinterpretArray{T,N,S,A} where S where A<:Union{SubArray{T,N,A,I,true} where I<:Tuple{AbstractUnitRange,Vararg{Any,N} where N} where A<:DenseArray where N where T, DenseArray} where N where T, SubArray{T,N,A,I,true} where I<:Tuple{AbstractUnitRange,Vararg{Any,N} where N} where A<:DenseArray where N where T, DenseArray}, SubArray{#s549,N,A,I,L} where L where I<:Tuple{Vararg{Union{Int64, AbstractRange{Int64}, AbstractCartesianIndex},N} where N} where A<:Union{ReinterpretArray{T,N,S,A} where S where A<:Union{SubArray{T,N,A,I,true} where I<:Tuple{AbstractUnitRange,Vararg{Any,N} where N} where A<:DenseArray where N where T, DenseArray} where N where T, ReshapedArray{T,N,A,MI} where MI<:Tuple{Vararg{SignedMultiplicativeInverse{Int64},N} where N} where A<:Union{ReinterpretArray{T,N,S,A} where S where A<:Union{SubArray{T,N,A,I,true} where I<:Tuple{AbstractUnitRange,Vararg{Any,N} where N} where A<:DenseArray where N where T, DenseArray} where N where T, SubArray{T,N,A,I,true} where I<:Tuple{AbstractUnitRange,Vararg{Any,N} where N} where A<:DenseArray where N where T, DenseArray} where N where T, DenseArray}} where N where #s549<:Union{CompoundPeriod, Period}</b>) in Dates at <a href=\"file:///Users/osx/buildbot/slave/package_osx64/build/usr/share/julia/stdlib/v1.0/Dates/src/arithmetic.jl\" target=\"_blank\">/Users/osx/buildbot/slave/package_osx64/build/usr/share/julia/stdlib/v1.0/Dates/src/arithmetic.jl:89</a></li> <li> +(J::<b>LinearAlgebra.UniformScaling</b>, x::<b>Number</b>) in LinearAlgebra at <a href=\"file:///Users/osx/buildbot/slave/package_osx64/build/usr/share/julia/stdlib/v1.0/LinearAlgebra/src/uniformscaling.jl\" target=\"_blank\">/Users/osx/buildbot/slave/package_osx64/build/usr/share/julia/stdlib/v1.0/LinearAlgebra/src/uniformscaling.jl:82</a></li> <li> +(x::<b>Number</b>, J::<b>LinearAlgebra.UniformScaling</b>) in LinearAlgebra at <a href=\"file:///Users/osx/buildbot/slave/package_osx64/build/usr/share/julia/stdlib/v1.0/LinearAlgebra/src/uniformscaling.jl\" target=\"_blank\">/Users/osx/buildbot/slave/package_osx64/build/usr/share/julia/stdlib/v1.0/LinearAlgebra/src/uniformscaling.jl:83</a></li> <li> +(J1::<b>LinearAlgebra.UniformScaling</b>, J2::<b>LinearAlgebra.UniformScaling</b>) in LinearAlgebra at <a href=\"file:///Users/osx/buildbot/slave/package_osx64/build/usr/share/julia/stdlib/v1.0/LinearAlgebra/src/uniformscaling.jl\" target=\"_blank\">/Users/osx/buildbot/slave/package_osx64/build/usr/share/julia/stdlib/v1.0/LinearAlgebra/src/uniformscaling.jl:87</a></li> <li> +(J::<b>LinearAlgebra.UniformScaling</b>, B::<b>BitArray{2}</b>) in LinearAlgebra at <a href=\"file:///Users/osx/buildbot/slave/package_osx64/build/usr/share/julia/stdlib/v1.0/LinearAlgebra/src/uniformscaling.jl\" target=\"_blank\">/Users/osx/buildbot/slave/package_osx64/build/usr/share/julia/stdlib/v1.0/LinearAlgebra/src/uniformscaling.jl:89</a></li> <li> +(J::<b>LinearAlgebra.UniformScaling</b>, A::<b>AbstractArray{T,2} where T</b>) in LinearAlgebra at <a href=\"file:///Users/osx/buildbot/slave/package_osx64/build/usr/share/julia/stdlib/v1.0/LinearAlgebra/src/uniformscaling.jl\" target=\"_blank\">/Users/osx/buildbot/slave/package_osx64/build/usr/share/julia/stdlib/v1.0/LinearAlgebra/src/uniformscaling.jl:90</a></li> <li> +(a, b, c, xs...) in Base at <a href=\"https://github.com/JuliaLang/julia/tree/5d4eaca0c9fa3d555c79dbacdccb9169fdf64b65/base/operators.jl#L502\" target=\"_blank\">operators.jl:502</a></li> </ul>"
      ],
      "text/plain": [
       "# 163 methods for generic function \"+\":\n",
       "[1] +(x::Bool, z::Complex{Bool}) in Base at complex.jl:277\n",
       "[2] +(x::Bool, y::Bool) in Base at bool.jl:104\n",
       "[3] +(x::Bool) in Base at bool.jl:101\n",
       "[4] +(x::Bool, y::T) where T<:AbstractFloat in Base at bool.jl:112\n",
       "[5] +(x::Bool, z::Complex) in Base at complex.jl:284\n",
       "[6] +(a::Float16, b::Float16) in Base at float.jl:392\n",
       "[7] +(x::Float32, y::Float32) in Base at float.jl:394\n",
       "[8] +(x::Float64, y::Float64) in Base at float.jl:395\n",
       "[9] +(z::Complex{Bool}, x::Bool) in Base at complex.jl:278\n",
       "[10] +(z::Complex{Bool}, x::Real) in Base at complex.jl:292\n",
       "[11] +(::Missing, ::Missing) in Base at missing.jl:92\n",
       "[12] +(::Missing) in Base at missing.jl:79\n",
       "[13] +(::Missing, ::Number) in Base at missing.jl:93\n",
       "[14] +(level::Base.CoreLogging.LogLevel, inc::Integer) in Base.CoreLogging at logging.jl:106\n",
       "[15] +(c::BigInt, x::BigFloat) in Base.MPFR at mpfr.jl:353\n",
       "[16] +(a::BigInt, b::BigInt, c::BigInt, d::BigInt, e::BigInt) in Base.GMP at gmp.jl:443\n",
       "[17] +(a::BigInt, b::BigInt, c::BigInt, d::BigInt) in Base.GMP at gmp.jl:442\n",
       "[18] +(a::BigInt, b::BigInt, c::BigInt) in Base.GMP at gmp.jl:441\n",
       "[19] +(x::BigInt, y::BigInt) in Base.GMP at gmp.jl:412\n",
       "[20] +(x::BigInt, c::Union{UInt16, UInt32, UInt64, UInt8}) in Base.GMP at gmp.jl:449\n",
       "[21] +(x::BigInt, c::Union{Int16, Int32, Int64, Int8}) in Base.GMP at gmp.jl:455\n",
       "[22] +(a::BigFloat, b::BigFloat, c::BigFloat, d::BigFloat, e::BigFloat) in Base.MPFR at mpfr.jl:503\n",
       "[23] +(a::BigFloat, b::BigFloat, c::BigFloat, d::BigFloat) in Base.MPFR at mpfr.jl:496\n",
       "[24] +(a::BigFloat, b::BigFloat, c::BigFloat) in Base.MPFR at mpfr.jl:490\n",
       "[25] +(x::BigFloat, c::BigInt) in Base.MPFR at mpfr.jl:349\n",
       "[26] +(x::BigFloat, y::BigFloat) in Base.MPFR at mpfr.jl:318\n",
       "[27] +(x::BigFloat, c::Union{UInt16, UInt32, UInt64, UInt8}) in Base.MPFR at mpfr.jl:325\n",
       "[28] +(x::BigFloat, c::Union{Int16, Int32, Int64, Int8}) in Base.MPFR at mpfr.jl:333\n",
       "[29] +(x::BigFloat, c::Union{Float16, Float32, Float64}) in Base.MPFR at mpfr.jl:341\n",
       "[30] +(x::Dates.CompoundPeriod, y::Dates.CompoundPeriod) in Dates at /Users/osx/buildbot/slave/package_osx64/build/usr/share/julia/stdlib/v1.0/Dates/src/periods.jl:349\n",
       "[31] +(x::Dates.CompoundPeriod, y::Dates.Period) in Dates at /Users/osx/buildbot/slave/package_osx64/build/usr/share/julia/stdlib/v1.0/Dates/src/periods.jl:347\n",
       "[32] +(x::Dates.CompoundPeriod, y::Dates.TimeType) in Dates at /Users/osx/buildbot/slave/package_osx64/build/usr/share/julia/stdlib/v1.0/Dates/src/periods.jl:385\n",
       "[33] +(x::Dates.Date, y::Dates.Day) in Dates at /Users/osx/buildbot/slave/package_osx64/build/usr/share/julia/stdlib/v1.0/Dates/src/arithmetic.jl:78\n",
       "[34] +(x::Dates.Date, y::Dates.Week) in Dates at /Users/osx/buildbot/slave/package_osx64/build/usr/share/julia/stdlib/v1.0/Dates/src/arithmetic.jl:76\n",
       "[35] +(dt::Dates.Date, z::Dates.Month) in Dates at /Users/osx/buildbot/slave/package_osx64/build/usr/share/julia/stdlib/v1.0/Dates/src/arithmetic.jl:59\n",
       "[36] +(dt::Dates.Date, y::Dates.Year) in Dates at /Users/osx/buildbot/slave/package_osx64/build/usr/share/julia/stdlib/v1.0/Dates/src/arithmetic.jl:32\n",
       "[37] +(dt::Dates.Date, t::Dates.Time) in Dates at /Users/osx/buildbot/slave/package_osx64/build/usr/share/julia/stdlib/v1.0/Dates/src/arithmetic.jl:20\n",
       "[38] +(t::Dates.Time, dt::Dates.Date) in Dates at /Users/osx/buildbot/slave/package_osx64/build/usr/share/julia/stdlib/v1.0/Dates/src/arithmetic.jl:24\n",
       "[39] +(x::Dates.Time, y::Dates.TimePeriod) in Dates at /Users/osx/buildbot/slave/package_osx64/build/usr/share/julia/stdlib/v1.0/Dates/src/arithmetic.jl:82\n",
       "[40] +(dt::Dates.DateTime, z::Dates.Month) in Dates at /Users/osx/buildbot/slave/package_osx64/build/usr/share/julia/stdlib/v1.0/Dates/src/arithmetic.jl:52\n",
       "[41] +(dt::Dates.DateTime, y::Dates.Year) in Dates at /Users/osx/buildbot/slave/package_osx64/build/usr/share/julia/stdlib/v1.0/Dates/src/arithmetic.jl:28\n",
       "[42] +(x::Dates.DateTime, y::Dates.Period) in Dates at /Users/osx/buildbot/slave/package_osx64/build/usr/share/julia/stdlib/v1.0/Dates/src/arithmetic.jl:80\n",
       "[43] +(B::BitArray{2}, J::LinearAlgebra.UniformScaling) in LinearAlgebra at /Users/osx/buildbot/slave/package_osx64/build/usr/share/julia/stdlib/v1.0/LinearAlgebra/src/uniformscaling.jl:88\n",
       "[44] +(a::Pkg.Resolve.VersionWeights.VersionWeight, b::Pkg.Resolve.VersionWeights.VersionWeight) in Pkg.Resolve.VersionWeights at /Users/osx/buildbot/slave/package_osx64/build/usr/share/julia/stdlib/v1.0/Pkg/src/resolve/VersionWeights.jl:26\n",
       "[45] +(a::Pkg.Resolve.MaxSum.FieldValues.FieldValue, b::Pkg.Resolve.MaxSum.FieldValues.FieldValue) in Pkg.Resolve.MaxSum.FieldValues at /Users/osx/buildbot/slave/package_osx64/build/usr/share/julia/stdlib/v1.0/Pkg/src/resolve/FieldValues.jl:49\n",
       "[46] +(y::AbstractFloat, x::Bool) in Base at bool.jl:114\n",
       "[47] +(x::T, y::T) where T<:Union{Int128, Int16, Int32, Int64, Int8, UInt128, UInt16, UInt32, UInt64, UInt8} in Base at int.jl:53\n",
       "[48] +(c::Union{UInt16, UInt32, UInt64, UInt8}, x::BigInt) in Base.GMP at gmp.jl:450\n",
       "[49] +(c::Union{Int16, Int32, Int64, Int8}, x::BigInt) in Base.GMP at gmp.jl:456\n",
       "[50] +(a::Integer, b::Integer) in Base at int.jl:791\n",
       "[51] +(x::Integer, y::Ptr) in Base at pointer.jl:157\n",
       "[52] +(z::Complex, w::Complex) in Base at complex.jl:266\n",
       "[53] +(z::Complex, x::Bool) in Base at complex.jl:285\n",
       "[54] +(x::Real, z::Complex{Bool}) in Base at complex.jl:291\n",
       "[55] +(x::Real, z::Complex) in Base at complex.jl:303\n",
       "[56] +(z::Complex, x::Real) in Base at complex.jl:304\n",
       "[57] +(x::Rational, y::Rational) in Base at rational.jl:248\n",
       "[58] +(x::Integer, y::AbstractChar) in Base at char.jl:208\n",
       "[59] +(c::Union{UInt16, UInt32, UInt64, UInt8}, x::BigFloat) in Base.MPFR at mpfr.jl:329\n",
       "[60] +(c::Union{Int16, Int32, Int64, Int8}, x::BigFloat) in Base.MPFR at mpfr.jl:337\n",
       "[61] +(c::Union{Float16, Float32, Float64}, x::BigFloat) in Base.MPFR at mpfr.jl:345\n",
       "[62] +(x::AbstractIrrational, y::AbstractIrrational) in Base at irrationals.jl:133\n",
       "[63] +(x::Number) in Base at operators.jl:477\n",
       "[64] +(x::T, y::T) where T<:Number in Base at promotion.jl:411\n",
       "[65] +(x::Number, y::Number) in Base at promotion.jl:313\n",
       "[66] +(r1::OrdinalRange, r2::OrdinalRange) in Base at range.jl:978\n",
       "[67] +(r1::LinRange{T}, r2::LinRange{T}) where T in Base at range.jl:985\n",
       "[68] +(r1::StepRangeLen{T,R,S} where S, r2::StepRangeLen{T,R,S} where S) where {R<:TwicePrecision, T} in Base at twiceprecision.jl:554\n",
       "[69] +(r1::StepRangeLen{T,S,S1} where S1, r2::StepRangeLen{T,S,S1} where S1) where {T, S} in Base at range.jl:1001\n",
       "[70] +(r1::Union{LinRange, OrdinalRange, StepRangeLen}, r2::Union{LinRange, OrdinalRange, StepRangeLen}) in Base at range.jl:993\n",
       "[71] +(x::Ptr, y::Integer) in Base at pointer.jl:155\n",
       "[72] +(x::Base.TwicePrecision, y::Number) in Base at twiceprecision.jl:265\n",
       "[73] +(x::Number, y::Base.TwicePrecision) in Base at twiceprecision.jl:268\n",
       "[74] +(x::Base.TwicePrecision{T}, y::Base.TwicePrecision{T}) where T in Base at twiceprecision.jl:271\n",
       "[75] +(x::Base.TwicePrecision, y::Base.TwicePrecision) in Base at twiceprecision.jl:275\n",
       "[76] +(A::Array, Bs::Array...) in Base at arraymath.jl:44\n",
       "[77] +(A::BitArray, B::BitArray) in Base at bitarray.jl:1074\n",
       "[78] +(A::Array{T,2} where T, B::LinearAlgebra.Diagonal) in LinearAlgebra at /Users/osx/buildbot/slave/package_osx64/build/usr/share/julia/stdlib/v1.0/LinearAlgebra/src/special.jl:88\n",
       "[79] +(A::Array{T,2} where T, B::LinearAlgebra.Bidiagonal) in LinearAlgebra at /Users/osx/buildbot/slave/package_osx64/build/usr/share/julia/stdlib/v1.0/LinearAlgebra/src/special.jl:88\n",
       "[80] +(A::Array{T,2} where T, B::LinearAlgebra.Tridiagonal) in LinearAlgebra at /Users/osx/buildbot/slave/package_osx64/build/usr/share/julia/stdlib/v1.0/LinearAlgebra/src/special.jl:88\n",
       "[81] +(A::Array{T,2} where T, B::LinearAlgebra.SymTridiagonal) in LinearAlgebra at /Users/osx/buildbot/slave/package_osx64/build/usr/share/julia/stdlib/v1.0/LinearAlgebra/src/special.jl:97\n",
       "[82] +(A::Array{T,2} where T, B::LinearAlgebra.AbstractTriangular) in LinearAlgebra at /Users/osx/buildbot/slave/package_osx64/build/usr/share/julia/stdlib/v1.0/LinearAlgebra/src/special.jl:125\n",
       "[83] +(A::Array, B::SparseArrays.SparseMatrixCSC) in SparseArrays at /Users/osx/buildbot/slave/package_osx64/build/usr/share/julia/stdlib/v1.0/SparseArrays/src/sparsematrix.jl:1563\n",
       "[84] +(x::Union{DenseArray{#s549,N}, ReinterpretArray{#s549,N,S,A} where S where A<:Union{SubArray{T,N,A,I,true} where I<:Tuple{AbstractUnitRange,Vararg{Any,N} where N} where A<:DenseArray where N where T, DenseArray}, ReshapedArray{#s549,N,A,MI} where MI<:Tuple{Vararg{SignedMultiplicativeInverse{Int64},N} where N} where A<:Union{ReinterpretArray{T,N,S,A} where S where A<:Union{SubArray{T,N,A,I,true} where I<:Tuple{AbstractUnitRange,Vararg{Any,N} where N} where A<:DenseArray where N where T, DenseArray} where N where T, SubArray{T,N,A,I,true} where I<:Tuple{AbstractUnitRange,Vararg{Any,N} where N} where A<:DenseArray where N where T, DenseArray}, SubArray{#s549,N,A,I,L} where L where I<:Tuple{Vararg{Union{Int64, AbstractRange{Int64}, AbstractCartesianIndex},N} where N} where A<:Union{ReinterpretArray{T,N,S,A} where S where A<:Union{SubArray{T,N,A,I,true} where I<:Tuple{AbstractUnitRange,Vararg{Any,N} where N} where A<:DenseArray where N where T, DenseArray} where N where T, ReshapedArray{T,N,A,MI} where MI<:Tuple{Vararg{SignedMultiplicativeInverse{Int64},N} where N} where A<:Union{ReinterpretArray{T,N,S,A} where S where A<:Union{SubArray{T,N,A,I,true} where I<:Tuple{AbstractUnitRange,Vararg{Any,N} where N} where A<:DenseArray where N where T, DenseArray} where N where T, SubArray{T,N,A,I,true} where I<:Tuple{AbstractUnitRange,Vararg{Any,N} where N} where A<:DenseArray where N where T, DenseArray} where N where T, DenseArray}} where N where #s549<:Union{CompoundPeriod, Period}) in Dates at /Users/osx/buildbot/slave/package_osx64/build/usr/share/julia/stdlib/v1.0/Dates/src/periods.jl:358\n",
       "[85] +(X::Union{DenseArray{#s549,N}, ReinterpretArray{#s549,N,S,A} where S where A<:Union{SubArray{T,N,A,I,true} where I<:Tuple{AbstractUnitRange,Vararg{Any,N} where N} where A<:DenseArray where N where T, DenseArray}, ReshapedArray{#s549,N,A,MI} where MI<:Tuple{Vararg{SignedMultiplicativeInverse{Int64},N} where N} where A<:Union{ReinterpretArray{T,N,S,A} where S where A<:Union{SubArray{T,N,A,I,true} where I<:Tuple{AbstractUnitRange,Vararg{Any,N} where N} where A<:DenseArray where N where T, DenseArray} where N where T, SubArray{T,N,A,I,true} where I<:Tuple{AbstractUnitRange,Vararg{Any,N} where N} where A<:DenseArray where N where T, DenseArray}, SubArray{#s549,N,A,I,L} where L where I<:Tuple{Vararg{Union{Int64, AbstractRange{Int64}, AbstractCartesianIndex},N} where N} where A<:Union{ReinterpretArray{T,N,S,A} where S where A<:Union{SubArray{T,N,A,I,true} where I<:Tuple{AbstractUnitRange,Vararg{Any,N} where N} where A<:DenseArray where N where T, DenseArray} where N where T, ReshapedArray{T,N,A,MI} where MI<:Tuple{Vararg{SignedMultiplicativeInverse{Int64},N} where N} where A<:Union{ReinterpretArray{T,N,S,A} where S where A<:Union{SubArray{T,N,A,I,true} where I<:Tuple{AbstractUnitRange,Vararg{Any,N} where N} where A<:DenseArray where N where T, DenseArray} where N where T, SubArray{T,N,A,I,true} where I<:Tuple{AbstractUnitRange,Vararg{Any,N} where N} where A<:DenseArray where N where T, DenseArray} where N where T, DenseArray}} where N where #s549<:Union{CompoundPeriod, Period}, Y::Union{DenseArray{#s548,N}, ReinterpretArray{#s548,N,S,A} where S where A<:Union{SubArray{T,N,A,I,true} where I<:Tuple{AbstractUnitRange,Vararg{Any,N} where N} where A<:DenseArray where N where T, DenseArray}, ReshapedArray{#s548,N,A,MI} where MI<:Tuple{Vararg{SignedMultiplicativeInverse{Int64},N} where N} where A<:Union{ReinterpretArray{T,N,S,A} where S where A<:Union{SubArray{T,N,A,I,true} where I<:Tuple{AbstractUnitRange,Vararg{Any,N} where N} where A<:DenseArray where N where T, DenseArray} where N where T, SubArray{T,N,A,I,true} where I<:Tuple{AbstractUnitRange,Vararg{Any,N} where N} where A<:DenseArray where N where T, DenseArray}, SubArray{#s548,N,A,I,L} where L where I<:Tuple{Vararg{Union{Int64, AbstractRange{Int64}, AbstractCartesianIndex},N} where N} where A<:Union{ReinterpretArray{T,N,S,A} where S where A<:Union{SubArray{T,N,A,I,true} where I<:Tuple{AbstractUnitRange,Vararg{Any,N} where N} where A<:DenseArray where N where T, DenseArray} where N where T, ReshapedArray{T,N,A,MI} where MI<:Tuple{Vararg{SignedMultiplicativeInverse{Int64},N} where N} where A<:Union{ReinterpretArray{T,N,S,A} where S where A<:Union{SubArray{T,N,A,I,true} where I<:Tuple{AbstractUnitRange,Vararg{Any,N} where N} where A<:DenseArray where N where T, DenseArray} where N where T, SubArray{T,N,A,I,true} where I<:Tuple{AbstractUnitRange,Vararg{Any,N} where N} where A<:DenseArray where N where T, DenseArray} where N where T, DenseArray}} where N where #s548<:Union{CompoundPeriod, Period}) in Dates at /Users/osx/buildbot/slave/package_osx64/build/usr/share/julia/stdlib/v1.0/Dates/src/periods.jl:362\n",
       "[86] +(x::Union{DenseArray{#s549,N}, ReinterpretArray{#s549,N,S,A} where S where A<:Union{SubArray{T,N,A,I,true} where I<:Tuple{AbstractUnitRange,Vararg{Any,N} where N} where A<:DenseArray where N where T, DenseArray}, ReshapedArray{#s549,N,A,MI} where MI<:Tuple{Vararg{SignedMultiplicativeInverse{Int64},N} where N} where A<:Union{ReinterpretArray{T,N,S,A} where S where A<:Union{SubArray{T,N,A,I,true} where I<:Tuple{AbstractUnitRange,Vararg{Any,N} where N} where A<:DenseArray where N where T, DenseArray} where N where T, SubArray{T,N,A,I,true} where I<:Tuple{AbstractUnitRange,Vararg{Any,N} where N} where A<:DenseArray where N where T, DenseArray}, SubArray{#s549,N,A,I,L} where L where I<:Tuple{Vararg{Union{Int64, AbstractRange{Int64}, AbstractCartesianIndex},N} where N} where A<:Union{ReinterpretArray{T,N,S,A} where S where A<:Union{SubArray{T,N,A,I,true} where I<:Tuple{AbstractUnitRange,Vararg{Any,N} where N} where A<:DenseArray where N where T, DenseArray} where N where T, ReshapedArray{T,N,A,MI} where MI<:Tuple{Vararg{SignedMultiplicativeInverse{Int64},N} where N} where A<:Union{ReinterpretArray{T,N,S,A} where S where A<:Union{SubArray{T,N,A,I,true} where I<:Tuple{AbstractUnitRange,Vararg{Any,N} where N} where A<:DenseArray where N where T, DenseArray} where N where T, SubArray{T,N,A,I,true} where I<:Tuple{AbstractUnitRange,Vararg{Any,N} where N} where A<:DenseArray where N where T, DenseArray} where N where T, DenseArray}} where N where #s549<:Union{CompoundPeriod, Period}, y::Dates.TimeType) in Dates at /Users/osx/buildbot/slave/package_osx64/build/usr/share/julia/stdlib/v1.0/Dates/src/arithmetic.jl:87\n",
       "[87] +(r::AbstractRange{#s549} where #s549<:Dates.TimeType, x::Dates.Period) in Dates at /Users/osx/buildbot/slave/package_osx64/build/usr/share/julia/stdlib/v1.0/Dates/src/ranges.jl:58\n",
       "[88] +(A::LinearAlgebra.SymTridiagonal, B::LinearAlgebra.SymTridiagonal) in LinearAlgebra at /Users/osx/buildbot/slave/package_osx64/build/usr/share/julia/stdlib/v1.0/LinearAlgebra/src/tridiag.jl:158\n",
       "[89] +(A::LinearAlgebra.Tridiagonal, B::LinearAlgebra.Tridiagonal) in LinearAlgebra at /Users/osx/buildbot/slave/package_osx64/build/usr/share/julia/stdlib/v1.0/LinearAlgebra/src/tridiag.jl:644\n",
       "[90] +(A::LinearAlgebra.UpperTriangular, B::LinearAlgebra.UpperTriangular) in LinearAlgebra at /Users/osx/buildbot/slave/package_osx64/build/usr/share/julia/stdlib/v1.0/LinearAlgebra/src/triangular.jl:487\n",
       "[91] +(A::LinearAlgebra.LowerTriangular, B::LinearAlgebra.LowerTriangular) in LinearAlgebra at /Users/osx/buildbot/slave/package_osx64/build/usr/share/julia/stdlib/v1.0/LinearAlgebra/src/triangular.jl:488\n",
       "[92] +(A::LinearAlgebra.UpperTriangular, B::LinearAlgebra.UnitUpperTriangular) in LinearAlgebra at /Users/osx/buildbot/slave/package_osx64/build/usr/share/julia/stdlib/v1.0/LinearAlgebra/src/triangular.jl:489\n",
       "[93] +(A::LinearAlgebra.LowerTriangular, B::LinearAlgebra.UnitLowerTriangular) in LinearAlgebra at /Users/osx/buildbot/slave/package_osx64/build/usr/share/julia/stdlib/v1.0/LinearAlgebra/src/triangular.jl:490\n",
       "[94] +(A::LinearAlgebra.UnitUpperTriangular, B::LinearAlgebra.UpperTriangular) in LinearAlgebra at /Users/osx/buildbot/slave/package_osx64/build/usr/share/julia/stdlib/v1.0/LinearAlgebra/src/triangular.jl:491\n",
       "[95] +(A::LinearAlgebra.UnitLowerTriangular, B::LinearAlgebra.LowerTriangular) in LinearAlgebra at /Users/osx/buildbot/slave/package_osx64/build/usr/share/julia/stdlib/v1.0/LinearAlgebra/src/triangular.jl:492\n",
       "[96] +(A::LinearAlgebra.UnitUpperTriangular, B::LinearAlgebra.UnitUpperTriangular) in LinearAlgebra at /Users/osx/buildbot/slave/package_osx64/build/usr/share/julia/stdlib/v1.0/LinearAlgebra/src/triangular.jl:493\n",
       "[97] +(A::LinearAlgebra.UnitLowerTriangular, B::LinearAlgebra.UnitLowerTriangular) in LinearAlgebra at /Users/osx/buildbot/slave/package_osx64/build/usr/share/julia/stdlib/v1.0/LinearAlgebra/src/triangular.jl:494\n",
       "[98] +(A::LinearAlgebra.AbstractTriangular, B::LinearAlgebra.AbstractTriangular) in LinearAlgebra at /Users/osx/buildbot/slave/package_osx64/build/usr/share/julia/stdlib/v1.0/LinearAlgebra/src/triangular.jl:495\n",
       "[99] +(Da::LinearAlgebra.Diagonal, Db::LinearAlgebra.Diagonal) in LinearAlgebra at /Users/osx/buildbot/slave/package_osx64/build/usr/share/julia/stdlib/v1.0/LinearAlgebra/src/diagonal.jl:152\n",
       "[100] +(A::LinearAlgebra.Bidiagonal, B::LinearAlgebra.Bidiagonal) in LinearAlgebra at /Users/osx/buildbot/slave/package_osx64/build/usr/share/julia/stdlib/v1.0/LinearAlgebra/src/bidiag.jl:304\n",
       "[101] +(UL::LinearAlgebra.UnitUpperTriangular, J::LinearAlgebra.UniformScaling) in LinearAlgebra at /Users/osx/buildbot/slave/package_osx64/build/usr/share/julia/stdlib/v1.0/LinearAlgebra/src/uniformscaling.jl:104\n",
       "[102] +(UL::LinearAlgebra.UnitLowerTriangular, J::LinearAlgebra.UniformScaling) in LinearAlgebra at /Users/osx/buildbot/slave/package_osx64/build/usr/share/julia/stdlib/v1.0/LinearAlgebra/src/uniformscaling.jl:104\n",
       "[103] +(A::SparseArrays.SparseMatrixCSC, J::LinearAlgebra.UniformScaling) in SparseArrays at /Users/osx/buildbot/slave/package_osx64/build/usr/share/julia/stdlib/v1.0/SparseArrays/src/sparsematrix.jl:3465\n",
       "[104] +(A::AbstractArray{T,2} where T, J::LinearAlgebra.UniformScaling) in LinearAlgebra at /Users/osx/buildbot/slave/package_osx64/build/usr/share/julia/stdlib/v1.0/LinearAlgebra/src/uniformscaling.jl:114\n",
       "[105] +(A::LinearAlgebra.Diagonal, B::LinearAlgebra.Bidiagonal) in LinearAlgebra at /Users/osx/buildbot/slave/package_osx64/build/usr/share/julia/stdlib/v1.0/LinearAlgebra/src/special.jl:87\n",
       "[106] +(A::LinearAlgebra.Bidiagonal, B::LinearAlgebra.Diagonal) in LinearAlgebra at /Users/osx/buildbot/slave/package_osx64/build/usr/share/julia/stdlib/v1.0/LinearAlgebra/src/special.jl:88\n",
       "[107] +(A::LinearAlgebra.Diagonal, B::LinearAlgebra.Tridiagonal) in LinearAlgebra at /Users/osx/buildbot/slave/package_osx64/build/usr/share/julia/stdlib/v1.0/LinearAlgebra/src/special.jl:87\n",
       "[108] +(A::LinearAlgebra.Tridiagonal, B::LinearAlgebra.Diagonal) in LinearAlgebra at /Users/osx/buildbot/slave/package_osx64/build/usr/share/julia/stdlib/v1.0/LinearAlgebra/src/special.jl:88\n",
       "[109] +(A::LinearAlgebra.Diagonal, B::Array{T,2} where T) in LinearAlgebra at /Users/osx/buildbot/slave/package_osx64/build/usr/share/julia/stdlib/v1.0/LinearAlgebra/src/special.jl:87\n",
       "[110] +(A::LinearAlgebra.Bidiagonal, B::LinearAlgebra.Tridiagonal) in LinearAlgebra at /Users/osx/buildbot/slave/package_osx64/build/usr/share/julia/stdlib/v1.0/LinearAlgebra/src/special.jl:87\n",
       "[111] +(A::LinearAlgebra.Tridiagonal, B::LinearAlgebra.Bidiagonal) in LinearAlgebra at /Users/osx/buildbot/slave/package_osx64/build/usr/share/julia/stdlib/v1.0/LinearAlgebra/src/special.jl:88\n",
       "[112] +(A::LinearAlgebra.Bidiagonal, B::Array{T,2} where T) in LinearAlgebra at /Users/osx/buildbot/slave/package_osx64/build/usr/share/julia/stdlib/v1.0/LinearAlgebra/src/special.jl:87\n",
       "[113] +(A::LinearAlgebra.Tridiagonal, B::Array{T,2} where T) in LinearAlgebra at /Users/osx/buildbot/slave/package_osx64/build/usr/share/julia/stdlib/v1.0/LinearAlgebra/src/special.jl:87\n",
       "[114] +(A::LinearAlgebra.SymTridiagonal, B::LinearAlgebra.Tridiagonal) in LinearAlgebra at /Users/osx/buildbot/slave/package_osx64/build/usr/share/julia/stdlib/v1.0/LinearAlgebra/src/special.jl:96\n",
       "[115] +(A::LinearAlgebra.Tridiagonal, B::LinearAlgebra.SymTridiagonal) in LinearAlgebra at /Users/osx/buildbot/slave/package_osx64/build/usr/share/julia/stdlib/v1.0/LinearAlgebra/src/special.jl:97\n",
       "[116] +(A::LinearAlgebra.SymTridiagonal, B::Array{T,2} where T) in LinearAlgebra at /Users/osx/buildbot/slave/package_osx64/build/usr/share/julia/stdlib/v1.0/LinearAlgebra/src/special.jl:96\n",
       "[117] +(A::LinearAlgebra.Diagonal, B::LinearAlgebra.SymTridiagonal) in LinearAlgebra at /Users/osx/buildbot/slave/package_osx64/build/usr/share/julia/stdlib/v1.0/LinearAlgebra/src/special.jl:105\n",
       "[118] +(A::LinearAlgebra.SymTridiagonal, B::LinearAlgebra.Diagonal) in LinearAlgebra at /Users/osx/buildbot/slave/package_osx64/build/usr/share/julia/stdlib/v1.0/LinearAlgebra/src/special.jl:106\n",
       "[119] +(A::LinearAlgebra.Bidiagonal, B::LinearAlgebra.SymTridiagonal) in LinearAlgebra at /Users/osx/buildbot/slave/package_osx64/build/usr/share/julia/stdlib/v1.0/LinearAlgebra/src/special.jl:105\n",
       "[120] +(A::LinearAlgebra.SymTridiagonal, B::LinearAlgebra.Bidiagonal) in LinearAlgebra at /Users/osx/buildbot/slave/package_osx64/build/usr/share/julia/stdlib/v1.0/LinearAlgebra/src/special.jl:106\n",
       "[121] +(A::LinearAlgebra.Diagonal, B::LinearAlgebra.UpperTriangular) in LinearAlgebra at /Users/osx/buildbot/slave/package_osx64/build/usr/share/julia/stdlib/v1.0/LinearAlgebra/src/special.jl:117\n",
       "[122] +(A::LinearAlgebra.UpperTriangular, B::LinearAlgebra.Diagonal) in LinearAlgebra at /Users/osx/buildbot/slave/package_osx64/build/usr/share/julia/stdlib/v1.0/LinearAlgebra/src/special.jl:118\n",
       "[123] +(A::LinearAlgebra.Diagonal, B::LinearAlgebra.UnitUpperTriangular) in LinearAlgebra at /Users/osx/buildbot/slave/package_osx64/build/usr/share/julia/stdlib/v1.0/LinearAlgebra/src/special.jl:117\n",
       "[124] +(A::LinearAlgebra.UnitUpperTriangular, B::LinearAlgebra.Diagonal) in LinearAlgebra at /Users/osx/buildbot/slave/package_osx64/build/usr/share/julia/stdlib/v1.0/LinearAlgebra/src/special.jl:118\n",
       "[125] +(A::LinearAlgebra.Diagonal, B::LinearAlgebra.LowerTriangular) in LinearAlgebra at /Users/osx/buildbot/slave/package_osx64/build/usr/share/julia/stdlib/v1.0/LinearAlgebra/src/special.jl:117\n",
       "[126] +(A::LinearAlgebra.LowerTriangular, B::LinearAlgebra.Diagonal) in LinearAlgebra at /Users/osx/buildbot/slave/package_osx64/build/usr/share/julia/stdlib/v1.0/LinearAlgebra/src/special.jl:118\n",
       "[127] +(A::LinearAlgebra.Diagonal, B::LinearAlgebra.UnitLowerTriangular) in LinearAlgebra at /Users/osx/buildbot/slave/package_osx64/build/usr/share/julia/stdlib/v1.0/LinearAlgebra/src/special.jl:117\n",
       "[128] +(A::LinearAlgebra.UnitLowerTriangular, B::LinearAlgebra.Diagonal) in LinearAlgebra at /Users/osx/buildbot/slave/package_osx64/build/usr/share/julia/stdlib/v1.0/LinearAlgebra/src/special.jl:118\n",
       "[129] +(A::LinearAlgebra.AbstractTriangular, B::LinearAlgebra.SymTridiagonal) in LinearAlgebra at /Users/osx/buildbot/slave/package_osx64/build/usr/share/julia/stdlib/v1.0/LinearAlgebra/src/special.jl:124\n",
       "[130] +(A::LinearAlgebra.SymTridiagonal, B::LinearAlgebra.AbstractTriangular) in LinearAlgebra at /Users/osx/buildbot/slave/package_osx64/build/usr/share/julia/stdlib/v1.0/LinearAlgebra/src/special.jl:125\n",
       "[131] +(A::LinearAlgebra.AbstractTriangular, B::LinearAlgebra.Tridiagonal) in LinearAlgebra at /Users/osx/buildbot/slave/package_osx64/build/usr/share/julia/stdlib/v1.0/LinearAlgebra/src/special.jl:124\n",
       "[132] +(A::LinearAlgebra.Tridiagonal, B::LinearAlgebra.AbstractTriangular) in LinearAlgebra at /Users/osx/buildbot/slave/package_osx64/build/usr/share/julia/stdlib/v1.0/LinearAlgebra/src/special.jl:125\n",
       "[133] +(A::LinearAlgebra.AbstractTriangular, B::LinearAlgebra.Bidiagonal) in LinearAlgebra at /Users/osx/buildbot/slave/package_osx64/build/usr/share/julia/stdlib/v1.0/LinearAlgebra/src/special.jl:124\n",
       "[134] +(A::LinearAlgebra.Bidiagonal, B::LinearAlgebra.AbstractTriangular) in LinearAlgebra at /Users/osx/buildbot/slave/package_osx64/build/usr/share/julia/stdlib/v1.0/LinearAlgebra/src/special.jl:125\n",
       "[135] +(A::LinearAlgebra.AbstractTriangular, B::Array{T,2} where T) in LinearAlgebra at /Users/osx/buildbot/slave/package_osx64/build/usr/share/julia/stdlib/v1.0/LinearAlgebra/src/special.jl:124\n",
       "[136] +(A::SparseArrays.SparseMatrixCSC, B::SparseArrays.SparseMatrixCSC) in SparseArrays at /Users/osx/buildbot/slave/package_osx64/build/usr/share/julia/stdlib/v1.0/SparseArrays/src/sparsematrix.jl:1559\n",
       "[137] +(A::SparseArrays.SparseMatrixCSC, B::Array) in SparseArrays at /Users/osx/buildbot/slave/package_osx64/build/usr/share/julia/stdlib/v1.0/SparseArrays/src/sparsematrix.jl:1562\n",
       "[138] +(x::SparseArrays.AbstractSparseArray{Tv,Ti,1} where Ti where Tv, y::SparseArrays.AbstractSparseArray{Tv,Ti,1} where Ti where Tv) in SparseArrays at /Users/osx/buildbot/slave/package_osx64/build/usr/share/julia/stdlib/v1.0/SparseArrays/src/sparsevector.jl:1290\n",
       "[139] +(x::AbstractArray{#s57,N} where N where #s57<:Number) in Base at abstractarraymath.jl:98\n",
       "[140] +(A::AbstractArray, B::AbstractArray) in Base at arraymath.jl:38\n",
       "[141] +(x::T, y::Integer) where T<:AbstractChar in Base at char.jl:207\n",
       "[142] +(index1::CartesianIndex{N}, index2::CartesianIndex{N}) where N in Base.IteratorsMD at multidimensional.jl:106\n",
       "[143] +(::Number, ::Missing) in Base at missing.jl:94\n",
       "[144] +(x::P, y::P) where P<:Dates.Period in Dates at /Users/osx/buildbot/slave/package_osx64/build/usr/share/julia/stdlib/v1.0/Dates/src/periods.jl:69\n",
       "[145] +(x::Dates.Period, y::Dates.Period) in Dates at /Users/osx/buildbot/slave/package_osx64/build/usr/share/julia/stdlib/v1.0/Dates/src/periods.jl:346\n",
       "[146] +(y::Dates.Period, x::Dates.CompoundPeriod) in Dates at /Users/osx/buildbot/slave/package_osx64/build/usr/share/julia/stdlib/v1.0/Dates/src/periods.jl:348\n",
       "[147] +(x::Union{CompoundPeriod, Period}) in Dates at /Users/osx/buildbot/slave/package_osx64/build/usr/share/julia/stdlib/v1.0/Dates/src/periods.jl:357\n",
       "[148] +(x::Dates.TimeType) in Dates at /Users/osx/buildbot/slave/package_osx64/build/usr/share/julia/stdlib/v1.0/Dates/src/arithmetic.jl:8\n",
       "[149] +(a::Dates.TimeType, b::Dates.Period, c::Dates.Period) in Dates at /Users/osx/buildbot/slave/package_osx64/build/usr/share/julia/stdlib/v1.0/Dates/src/periods.jl:376\n",
       "[150] +(a::Dates.TimeType, b::Dates.Period, c::Dates.Period, d::Dates.Period...) in Dates at /Users/osx/buildbot/slave/package_osx64/build/usr/share/julia/stdlib/v1.0/Dates/src/periods.jl:377\n",
       "[151] +(x::Dates.TimeType, y::Dates.CompoundPeriod) in Dates at /Users/osx/buildbot/slave/package_osx64/build/usr/share/julia/stdlib/v1.0/Dates/src/periods.jl:380\n",
       "[152] +(x::Dates.Instant) in Dates at /Users/osx/buildbot/slave/package_osx64/build/usr/share/julia/stdlib/v1.0/Dates/src/arithmetic.jl:4\n",
       "[153] +(y::Dates.Period, x::Dates.TimeType) in Dates at /Users/osx/buildbot/slave/package_osx64/build/usr/share/julia/stdlib/v1.0/Dates/src/arithmetic.jl:84\n",
       "[154] +(x::AbstractArray{#s549,N} where N where #s549<:Dates.TimeType, y::Union{CompoundPeriod, Period}) in Dates at /Users/osx/buildbot/slave/package_osx64/build/usr/share/julia/stdlib/v1.0/Dates/src/arithmetic.jl:86\n",
       "[155] +(x::Dates.Period, r::AbstractRange{#s549} where #s549<:Dates.TimeType) in Dates at /Users/osx/buildbot/slave/package_osx64/build/usr/share/julia/stdlib/v1.0/Dates/src/ranges.jl:57\n",
       "[156] +(y::Union{CompoundPeriod, Period}, x::AbstractArray{#s549,N} where N where #s549<:Dates.TimeType) in Dates at /Users/osx/buildbot/slave/package_osx64/build/usr/share/julia/stdlib/v1.0/Dates/src/arithmetic.jl:88\n",
       "[157] +(y::Dates.TimeType, x::Union{DenseArray{#s549,N}, ReinterpretArray{#s549,N,S,A} where S where A<:Union{SubArray{T,N,A,I,true} where I<:Tuple{AbstractUnitRange,Vararg{Any,N} where N} where A<:DenseArray where N where T, DenseArray}, ReshapedArray{#s549,N,A,MI} where MI<:Tuple{Vararg{SignedMultiplicativeInverse{Int64},N} where N} where A<:Union{ReinterpretArray{T,N,S,A} where S where A<:Union{SubArray{T,N,A,I,true} where I<:Tuple{AbstractUnitRange,Vararg{Any,N} where N} where A<:DenseArray where N where T, DenseArray} where N where T, SubArray{T,N,A,I,true} where I<:Tuple{AbstractUnitRange,Vararg{Any,N} where N} where A<:DenseArray where N where T, DenseArray}, SubArray{#s549,N,A,I,L} where L where I<:Tuple{Vararg{Union{Int64, AbstractRange{Int64}, AbstractCartesianIndex},N} where N} where A<:Union{ReinterpretArray{T,N,S,A} where S where A<:Union{SubArray{T,N,A,I,true} where I<:Tuple{AbstractUnitRange,Vararg{Any,N} where N} where A<:DenseArray where N where T, DenseArray} where N where T, ReshapedArray{T,N,A,MI} where MI<:Tuple{Vararg{SignedMultiplicativeInverse{Int64},N} where N} where A<:Union{ReinterpretArray{T,N,S,A} where S where A<:Union{SubArray{T,N,A,I,true} where I<:Tuple{AbstractUnitRange,Vararg{Any,N} where N} where A<:DenseArray where N where T, DenseArray} where N where T, SubArray{T,N,A,I,true} where I<:Tuple{AbstractUnitRange,Vararg{Any,N} where N} where A<:DenseArray where N where T, DenseArray} where N where T, DenseArray}} where N where #s549<:Union{CompoundPeriod, Period}) in Dates at /Users/osx/buildbot/slave/package_osx64/build/usr/share/julia/stdlib/v1.0/Dates/src/arithmetic.jl:89\n",
       "[158] +(J::LinearAlgebra.UniformScaling, x::Number) in LinearAlgebra at /Users/osx/buildbot/slave/package_osx64/build/usr/share/julia/stdlib/v1.0/LinearAlgebra/src/uniformscaling.jl:82\n",
       "[159] +(x::Number, J::LinearAlgebra.UniformScaling) in LinearAlgebra at /Users/osx/buildbot/slave/package_osx64/build/usr/share/julia/stdlib/v1.0/LinearAlgebra/src/uniformscaling.jl:83\n",
       "[160] +(J1::LinearAlgebra.UniformScaling, J2::LinearAlgebra.UniformScaling) in LinearAlgebra at /Users/osx/buildbot/slave/package_osx64/build/usr/share/julia/stdlib/v1.0/LinearAlgebra/src/uniformscaling.jl:87\n",
       "[161] +(J::LinearAlgebra.UniformScaling, B::BitArray{2}) in LinearAlgebra at /Users/osx/buildbot/slave/package_osx64/build/usr/share/julia/stdlib/v1.0/LinearAlgebra/src/uniformscaling.jl:89\n",
       "[162] +(J::LinearAlgebra.UniformScaling, A::AbstractArray{T,2} where T) in LinearAlgebra at /Users/osx/buildbot/slave/package_osx64/build/usr/share/julia/stdlib/v1.0/LinearAlgebra/src/uniformscaling.jl:90\n",
       "[163] +(a, b, c, xs...) in Base at operators.jl:502"
      ]
     },
     "execution_count": 5,
     "metadata": {},
     "output_type": "execute_result"
    }
   ],
   "source": [
    "methods(+)"
   ]
  },
  {
   "cell_type": "code",
   "execution_count": 6,
   "metadata": {},
   "outputs": [],
   "source": [
    "Base.:+(x::Dual, y::Dual) = Dual(x.val + y.val, x.der + y.der)\n",
    "Base.:-(x::Dual, y::Dual) = Dual(x.val - y.val, x.der - y.der)"
   ]
  },
  {
   "cell_type": "code",
   "execution_count": 7,
   "metadata": {},
   "outputs": [
    {
     "data": {
      "text/plain": [
       "Dual(8, 10)"
      ]
     },
     "execution_count": 7,
     "metadata": {},
     "output_type": "execute_result"
    }
   ],
   "source": [
    "Dual(3,4) + Dual(5,6)"
   ]
  },
  {
   "cell_type": "code",
   "execution_count": 8,
   "metadata": {},
   "outputs": [
    {
     "data": {
      "text/plain": [
       "3-element Array{Dual,1}:\n",
       "  Dual(3, 4)\n",
       "  Dual(5, 6)\n",
       " Dual(9, 10)"
      ]
     },
     "execution_count": 8,
     "metadata": {},
     "output_type": "execute_result"
    }
   ],
   "source": [
    "a = [Dual(3,4), Dual(5,6), Dual(9,10)]"
   ]
  },
  {
   "cell_type": "code",
   "execution_count": 9,
   "metadata": {},
   "outputs": [
    {
     "data": {
      "text/plain": [
       "Dual(17, 20)"
      ]
     },
     "execution_count": 9,
     "metadata": {},
     "output_type": "execute_result"
    }
   ],
   "source": [
    "sum(a)"
   ]
  },
  {
   "cell_type": "code",
   "execution_count": 10,
   "metadata": {},
   "outputs": [
    {
     "data": {
      "text/plain": [
       "Dual(-2, -2)"
      ]
     },
     "execution_count": 10,
     "metadata": {},
     "output_type": "execute_result"
    }
   ],
   "source": [
    "Dual(3,4) - Dual(5,6) "
   ]
  },
  {
   "cell_type": "code",
   "execution_count": 11,
   "metadata": {},
   "outputs": [],
   "source": [
    "Base.:*(x::Dual, y::Dual) = Dual(x.val * y.val, x.der * y.val + x.val * y.der)"
   ]
  },
  {
   "cell_type": "code",
   "execution_count": 12,
   "metadata": {},
   "outputs": [
    {
     "data": {
      "text/plain": [
       "fun (generic function with 1 method)"
      ]
     },
     "execution_count": 12,
     "metadata": {},
     "output_type": "execute_result"
    }
   ],
   "source": [
    "fun(x) = x^3 + x"
   ]
  },
  {
   "cell_type": "markdown",
   "metadata": {},
   "source": [
    "Let's try to evaluate $\\operatorname{fun}'(4)$:"
   ]
  },
  {
   "cell_type": "code",
   "execution_count": 13,
   "metadata": {},
   "outputs": [
    {
     "data": {
      "text/plain": [
       "Dual(68, 49)"
      ]
     },
     "execution_count": 13,
     "metadata": {},
     "output_type": "execute_result"
    }
   ],
   "source": [
    "fun(Dual(4,1))"
   ]
  },
  {
   "cell_type": "markdown",
   "metadata": {},
   "source": [
    "The correct derivative is $3x^2 + 1$, which gives:"
   ]
  },
  {
   "cell_type": "code",
   "execution_count": 14,
   "metadata": {},
   "outputs": [
    {
     "data": {
      "text/plain": [
       "49"
      ]
     },
     "execution_count": 14,
     "metadata": {},
     "output_type": "execute_result"
    }
   ],
   "source": [
    "x = 4\n",
    "3x^2 + 1"
   ]
  },
  {
   "cell_type": "markdown",
   "metadata": {},
   "source": [
    "Let's compute the derivate of $x^5$ at $x=2$.  The value should be $2^5 = 32$, and the derivative should be $5 \\times 2^4 = 80$:"
   ]
  },
  {
   "cell_type": "code",
   "execution_count": 15,
   "metadata": {},
   "outputs": [
    {
     "data": {
      "text/plain": [
       "Dual(32, 80)"
      ]
     },
     "execution_count": 15,
     "metadata": {},
     "output_type": "execute_result"
    }
   ],
   "source": [
    "Dual(2,1)^5"
   ]
  },
  {
   "cell_type": "code",
   "execution_count": 16,
   "metadata": {},
   "outputs": [
    {
     "ename": "ErrorException",
     "evalue": "promotion of types Dual and Int64 failed to change any arguments",
     "output_type": "error",
     "traceback": [
      "promotion of types Dual and Int64 failed to change any arguments",
      "",
      "Stacktrace:",
      " [1] error(::String, ::String, ::String) at ./error.jl:42",
      " [2] sametype_error(::Tuple{Dual,Int64}) at ./promotion.jl:308",
      " [3] not_sametype(::Tuple{Dual,Int64}, ::Tuple{Dual,Int64}) at ./promotion.jl:302",
      " [4] promote at ./promotion.jl:285 [inlined]",
      " [5] +(::Dual, ::Int64) at ./promotion.jl:313",
      " [6] top-level scope at In[16]:1"
     ]
    }
   ],
   "source": [
    "Dual(2,1) + 3"
   ]
  },
  {
   "cell_type": "code",
   "execution_count": 17,
   "metadata": {},
   "outputs": [
    {
     "data": {
      "text/plain": [
       "5.7"
      ]
     },
     "execution_count": 17,
     "metadata": {},
     "output_type": "execute_result"
    }
   ],
   "source": [
    "2 + 3.7"
   ]
  },
  {
   "cell_type": "code",
   "execution_count": 18,
   "metadata": {},
   "outputs": [
    {
     "data": {
      "text/plain": [
       "promote_rule (generic function with 133 methods)"
      ]
     },
     "execution_count": 18,
     "metadata": {},
     "output_type": "execute_result"
    }
   ],
   "source": [
    "promote_rule"
   ]
  },
  {
   "cell_type": "code",
   "execution_count": 19,
   "metadata": {},
   "outputs": [
    {
     "data": {
      "text/html": [
       "133 methods for generic function <b>promote_rule</b>:<ul><li> promote_rule<i>{T<:Number}</i>(::<b>Type{Bool}</b>, ::<b>Type{T}</b>) in Base at <a href=\"https://github.com/JuliaLang/julia/tree/5d4eaca0c9fa3d555c79dbacdccb9169fdf64b65/base/bool.jl#L4\" target=\"_blank\">bool.jl:4</a></li> <li> promote_rule(::<b>Type{Int16}</b>, ::<b>Union{Type{Int8}, Type{UInt8}}</b>) in Base at <a href=\"https://github.com/JuliaLang/julia/tree/5d4eaca0c9fa3d555c79dbacdccb9169fdf64b65/base/int.jl#L611\" target=\"_blank\">int.jl:611</a></li> <li> promote_rule(::<b>Type{Int32}</b>, ::<b>Union{Type{Int16}, Type{Int8}, Type{UInt16}, Type{UInt8}}</b>) in Base at <a href=\"https://github.com/JuliaLang/julia/tree/5d4eaca0c9fa3d555c79dbacdccb9169fdf64b65/base/int.jl#L612\" target=\"_blank\">int.jl:612</a></li> <li> promote_rule(::<b>Type{Int64}</b>, ::<b>Union{Type{Int16}, Type{Int32}, Type{Int8}, Type{UInt16}, Type{UInt32}, Type{UInt8}}</b>) in Base at <a href=\"https://github.com/JuliaLang/julia/tree/5d4eaca0c9fa3d555c79dbacdccb9169fdf64b65/base/int.jl#L613\" target=\"_blank\">int.jl:613</a></li> <li> promote_rule(::<b>Type{Int128}</b>, ::<b>Union{Type{Int16}, Type{Int32}, Type{Int64}, Type{Int8}, Type{UInt16}, Type{UInt32}, Type{UInt64}, Type{UInt8}}</b>) in Base at <a href=\"https://github.com/JuliaLang/julia/tree/5d4eaca0c9fa3d555c79dbacdccb9169fdf64b65/base/int.jl#L614\" target=\"_blank\">int.jl:614</a></li> <li> promote_rule(::<b>Type{UInt16}</b>, ::<b>Union{Type{Int8}, Type{UInt8}}</b>) in Base at <a href=\"https://github.com/JuliaLang/julia/tree/5d4eaca0c9fa3d555c79dbacdccb9169fdf64b65/base/int.jl#L615\" target=\"_blank\">int.jl:615</a></li> <li> promote_rule(::<b>Type{UInt16}</b>, ::<b>Type{Int16}</b>) in Base at <a href=\"https://github.com/JuliaLang/julia/tree/5d4eaca0c9fa3d555c79dbacdccb9169fdf64b65/base/int.jl#L621\" target=\"_blank\">int.jl:621</a></li> <li> promote_rule(::<b>Type{UInt32}</b>, ::<b>Union{Type{Int16}, Type{Int8}, Type{UInt16}, Type{UInt8}}</b>) in Base at <a href=\"https://github.com/JuliaLang/julia/tree/5d4eaca0c9fa3d555c79dbacdccb9169fdf64b65/base/int.jl#L616\" target=\"_blank\">int.jl:616</a></li> <li> promote_rule(::<b>Type{UInt32}</b>, ::<b>Type{Int32}</b>) in Base at <a href=\"https://github.com/JuliaLang/julia/tree/5d4eaca0c9fa3d555c79dbacdccb9169fdf64b65/base/int.jl#L622\" target=\"_blank\">int.jl:622</a></li> <li> promote_rule(::<b>Type{UInt64}</b>, ::<b>Union{Type{Int16}, Type{Int32}, Type{Int8}, Type{UInt16}, Type{UInt32}, Type{UInt8}}</b>) in Base at <a href=\"https://github.com/JuliaLang/julia/tree/5d4eaca0c9fa3d555c79dbacdccb9169fdf64b65/base/int.jl#L617\" target=\"_blank\">int.jl:617</a></li> <li> promote_rule(::<b>Type{UInt64}</b>, ::<b>Type{Int64}</b>) in Base at <a href=\"https://github.com/JuliaLang/julia/tree/5d4eaca0c9fa3d555c79dbacdccb9169fdf64b65/base/int.jl#L623\" target=\"_blank\">int.jl:623</a></li> <li> promote_rule(::<b>Type{UInt128}</b>, ::<b>Union{Type{Int16}, Type{Int32}, Type{Int64}, Type{Int8}, Type{UInt16}, Type{UInt32}, Type{UInt64}, Type{UInt8}}</b>) in Base at <a href=\"https://github.com/JuliaLang/julia/tree/5d4eaca0c9fa3d555c79dbacdccb9169fdf64b65/base/int.jl#L618\" target=\"_blank\">int.jl:618</a></li> <li> promote_rule(::<b>Type{UInt128}</b>, ::<b>Type{Int128}</b>) in Base at <a href=\"https://github.com/JuliaLang/julia/tree/5d4eaca0c9fa3d555c79dbacdccb9169fdf64b65/base/int.jl#L624\" target=\"_blank\">int.jl:624</a></li> <li> promote_rule(::<b>Type{UInt8}</b>, ::<b>Type{Int8}</b>) in Base at <a href=\"https://github.com/JuliaLang/julia/tree/5d4eaca0c9fa3d555c79dbacdccb9169fdf64b65/base/int.jl#L620\" target=\"_blank\">int.jl:620</a></li> <li> promote_rule(::<b>Type{Float16}</b>, ::<b>Type{Int8}</b>) in Base at <a href=\"https://github.com/JuliaLang/julia/tree/5d4eaca0c9fa3d555c79dbacdccb9169fdf64b65/base/float.jl#L53\" target=\"_blank\">float.jl:53</a></li> <li> promote_rule(::<b>Type{Float16}</b>, ::<b>Type{Int16}</b>) in Base at <a href=\"https://github.com/JuliaLang/julia/tree/5d4eaca0c9fa3d555c79dbacdccb9169fdf64b65/base/float.jl#L53\" target=\"_blank\">float.jl:53</a></li> <li> promote_rule(::<b>Type{Float16}</b>, ::<b>Type{Int32}</b>) in Base at <a href=\"https://github.com/JuliaLang/julia/tree/5d4eaca0c9fa3d555c79dbacdccb9169fdf64b65/base/float.jl#L53\" target=\"_blank\">float.jl:53</a></li> <li> promote_rule(::<b>Type{Float16}</b>, ::<b>Type{Int64}</b>) in Base at <a href=\"https://github.com/JuliaLang/julia/tree/5d4eaca0c9fa3d555c79dbacdccb9169fdf64b65/base/float.jl#L53\" target=\"_blank\">float.jl:53</a></li> <li> promote_rule(::<b>Type{Float16}</b>, ::<b>Type{Int128}</b>) in Base at <a href=\"https://github.com/JuliaLang/julia/tree/5d4eaca0c9fa3d555c79dbacdccb9169fdf64b65/base/float.jl#L53\" target=\"_blank\">float.jl:53</a></li> <li> promote_rule(::<b>Type{Float16}</b>, ::<b>Type{UInt8}</b>) in Base at <a href=\"https://github.com/JuliaLang/julia/tree/5d4eaca0c9fa3d555c79dbacdccb9169fdf64b65/base/float.jl#L53\" target=\"_blank\">float.jl:53</a></li> <li> promote_rule(::<b>Type{Float16}</b>, ::<b>Type{UInt16}</b>) in Base at <a href=\"https://github.com/JuliaLang/julia/tree/5d4eaca0c9fa3d555c79dbacdccb9169fdf64b65/base/float.jl#L53\" target=\"_blank\">float.jl:53</a></li> <li> promote_rule(::<b>Type{Float16}</b>, ::<b>Type{UInt32}</b>) in Base at <a href=\"https://github.com/JuliaLang/julia/tree/5d4eaca0c9fa3d555c79dbacdccb9169fdf64b65/base/float.jl#L53\" target=\"_blank\">float.jl:53</a></li> <li> promote_rule(::<b>Type{Float16}</b>, ::<b>Type{UInt64}</b>) in Base at <a href=\"https://github.com/JuliaLang/julia/tree/5d4eaca0c9fa3d555c79dbacdccb9169fdf64b65/base/float.jl#L53\" target=\"_blank\">float.jl:53</a></li> <li> promote_rule(::<b>Type{Float16}</b>, ::<b>Type{UInt128}</b>) in Base at <a href=\"https://github.com/JuliaLang/julia/tree/5d4eaca0c9fa3d555c79dbacdccb9169fdf64b65/base/float.jl#L53\" target=\"_blank\">float.jl:53</a></li> <li> promote_rule(::<b>Type{Float16}</b>, ::<b>Type{Bool}</b>) in Base at <a href=\"https://github.com/JuliaLang/julia/tree/5d4eaca0c9fa3d555c79dbacdccb9169fdf64b65/base/float.jl#L55\" target=\"_blank\">float.jl:55</a></li> <li> promote_rule(::<b>Type{Float32}</b>, ::<b>Type{Int8}</b>) in Base at <a href=\"https://github.com/JuliaLang/julia/tree/5d4eaca0c9fa3d555c79dbacdccb9169fdf64b65/base/float.jl#L61\" target=\"_blank\">float.jl:61</a></li> <li> promote_rule(::<b>Type{Float32}</b>, ::<b>Type{Int16}</b>) in Base at <a href=\"https://github.com/JuliaLang/julia/tree/5d4eaca0c9fa3d555c79dbacdccb9169fdf64b65/base/float.jl#L61\" target=\"_blank\">float.jl:61</a></li> <li> promote_rule(::<b>Type{Float32}</b>, ::<b>Type{Int32}</b>) in Base at <a href=\"https://github.com/JuliaLang/julia/tree/5d4eaca0c9fa3d555c79dbacdccb9169fdf64b65/base/float.jl#L61\" target=\"_blank\">float.jl:61</a></li> <li> promote_rule(::<b>Type{Float32}</b>, ::<b>Type{Int64}</b>) in Base at <a href=\"https://github.com/JuliaLang/julia/tree/5d4eaca0c9fa3d555c79dbacdccb9169fdf64b65/base/float.jl#L61\" target=\"_blank\">float.jl:61</a></li> <li> promote_rule(::<b>Type{Float32}</b>, ::<b>Type{Bool}</b>) in Base at <a href=\"https://github.com/JuliaLang/julia/tree/5d4eaca0c9fa3d555c79dbacdccb9169fdf64b65/base/float.jl#L67\" target=\"_blank\">float.jl:67</a></li> <li> promote_rule(::<b>Type{Float32}</b>, ::<b>Type{UInt8}</b>) in Base at <a href=\"https://github.com/JuliaLang/julia/tree/5d4eaca0c9fa3d555c79dbacdccb9169fdf64b65/base/float.jl#L67\" target=\"_blank\">float.jl:67</a></li> <li> promote_rule(::<b>Type{Float32}</b>, ::<b>Type{UInt16}</b>) in Base at <a href=\"https://github.com/JuliaLang/julia/tree/5d4eaca0c9fa3d555c79dbacdccb9169fdf64b65/base/float.jl#L67\" target=\"_blank\">float.jl:67</a></li> <li> promote_rule(::<b>Type{Float32}</b>, ::<b>Type{UInt32}</b>) in Base at <a href=\"https://github.com/JuliaLang/julia/tree/5d4eaca0c9fa3d555c79dbacdccb9169fdf64b65/base/float.jl#L67\" target=\"_blank\">float.jl:67</a></li> <li> promote_rule(::<b>Type{Float32}</b>, ::<b>Type{UInt64}</b>) in Base at <a href=\"https://github.com/JuliaLang/julia/tree/5d4eaca0c9fa3d555c79dbacdccb9169fdf64b65/base/float.jl#L67\" target=\"_blank\">float.jl:67</a></li> <li> promote_rule(::<b>Type{Float32}</b>, ::<b>Type{UInt128}</b>) in Base at <a href=\"https://github.com/JuliaLang/julia/tree/5d4eaca0c9fa3d555c79dbacdccb9169fdf64b65/base/float.jl#L77\" target=\"_blank\">float.jl:77</a></li> <li> promote_rule(::<b>Type{Float32}</b>, ::<b>Type{Int128}</b>) in Base at <a href=\"https://github.com/JuliaLang/julia/tree/5d4eaca0c9fa3d555c79dbacdccb9169fdf64b65/base/float.jl#L78\" target=\"_blank\">float.jl:78</a></li> <li> promote_rule(::<b>Type{Float32}</b>, ::<b>Type{Float16}</b>) in Base at <a href=\"https://github.com/JuliaLang/julia/tree/5d4eaca0c9fa3d555c79dbacdccb9169fdf64b65/base/float.jl#L377\" target=\"_blank\">float.jl:377</a></li> <li> promote_rule(::<b>Type{Float64}</b>, ::<b>Type{Int8}</b>) in Base at <a href=\"https://github.com/JuliaLang/julia/tree/5d4eaca0c9fa3d555c79dbacdccb9169fdf64b65/base/float.jl#L61\" target=\"_blank\">float.jl:61</a></li> <li> promote_rule(::<b>Type{Float64}</b>, ::<b>Type{Int16}</b>) in Base at <a href=\"https://github.com/JuliaLang/julia/tree/5d4eaca0c9fa3d555c79dbacdccb9169fdf64b65/base/float.jl#L61\" target=\"_blank\">float.jl:61</a></li> <li> promote_rule(::<b>Type{Float64}</b>, ::<b>Type{Int32}</b>) in Base at <a href=\"https://github.com/JuliaLang/julia/tree/5d4eaca0c9fa3d555c79dbacdccb9169fdf64b65/base/float.jl#L61\" target=\"_blank\">float.jl:61</a></li> <li> promote_rule(::<b>Type{Float64}</b>, ::<b>Type{Int64}</b>) in Base at <a href=\"https://github.com/JuliaLang/julia/tree/5d4eaca0c9fa3d555c79dbacdccb9169fdf64b65/base/float.jl#L61\" target=\"_blank\">float.jl:61</a></li> <li> promote_rule(::<b>Type{Float64}</b>, ::<b>Type{Bool}</b>) in Base at <a href=\"https://github.com/JuliaLang/julia/tree/5d4eaca0c9fa3d555c79dbacdccb9169fdf64b65/base/float.jl#L67\" target=\"_blank\">float.jl:67</a></li> <li> promote_rule(::<b>Type{Float64}</b>, ::<b>Type{UInt8}</b>) in Base at <a href=\"https://github.com/JuliaLang/julia/tree/5d4eaca0c9fa3d555c79dbacdccb9169fdf64b65/base/float.jl#L67\" target=\"_blank\">float.jl:67</a></li> <li> promote_rule(::<b>Type{Float64}</b>, ::<b>Type{UInt16}</b>) in Base at <a href=\"https://github.com/JuliaLang/julia/tree/5d4eaca0c9fa3d555c79dbacdccb9169fdf64b65/base/float.jl#L67\" target=\"_blank\">float.jl:67</a></li> <li> promote_rule(::<b>Type{Float64}</b>, ::<b>Type{UInt32}</b>) in Base at <a href=\"https://github.com/JuliaLang/julia/tree/5d4eaca0c9fa3d555c79dbacdccb9169fdf64b65/base/float.jl#L67\" target=\"_blank\">float.jl:67</a></li> <li> promote_rule(::<b>Type{Float64}</b>, ::<b>Type{UInt64}</b>) in Base at <a href=\"https://github.com/JuliaLang/julia/tree/5d4eaca0c9fa3d555c79dbacdccb9169fdf64b65/base/float.jl#L67\" target=\"_blank\">float.jl:67</a></li> <li> promote_rule(::<b>Type{Float64}</b>, ::<b>Type{UInt128}</b>) in Base at <a href=\"https://github.com/JuliaLang/julia/tree/5d4eaca0c9fa3d555c79dbacdccb9169fdf64b65/base/float.jl#L75\" target=\"_blank\">float.jl:75</a></li> <li> promote_rule(::<b>Type{Float64}</b>, ::<b>Type{Int128}</b>) in Base at <a href=\"https://github.com/JuliaLang/julia/tree/5d4eaca0c9fa3d555c79dbacdccb9169fdf64b65/base/float.jl#L76\" target=\"_blank\">float.jl:76</a></li> <li> promote_rule(::<b>Type{Float64}</b>, ::<b>Type{Float16}</b>) in Base at <a href=\"https://github.com/JuliaLang/julia/tree/5d4eaca0c9fa3d555c79dbacdccb9169fdf64b65/base/float.jl#L378\" target=\"_blank\">float.jl:378</a></li> <li> promote_rule(::<b>Type{Float64}</b>, ::<b>Type{Float32}</b>) in Base at <a href=\"https://github.com/JuliaLang/julia/tree/5d4eaca0c9fa3d555c79dbacdccb9169fdf64b65/base/float.jl#L379\" target=\"_blank\">float.jl:379</a></li> <li> promote_rule(::<b>Type{Nothing}</b>, ::<b>Type{Any}</b>) in Base at <a href=\"https://github.com/JuliaLang/julia/tree/5d4eaca0c9fa3d555c79dbacdccb9169fdf64b65/base/missing.jl#L32\" target=\"_blank\">missing.jl:32</a></li> <li> promote_rule(::<b>Type{Nothing}</b>, ::<b>Type{Nothing}</b>) in Base at <a href=\"https://github.com/JuliaLang/julia/tree/5d4eaca0c9fa3d555c79dbacdccb9169fdf64b65/base/missing.jl#L34\" target=\"_blank\">missing.jl:34</a></li> <li> promote_rule<i>{T}</i>(::<b>Type{Nothing}</b>, ::<b>Type{T}</b>) in Base at <a href=\"https://github.com/JuliaLang/julia/tree/5d4eaca0c9fa3d555c79dbacdccb9169fdf64b65/base/missing.jl#L29\" target=\"_blank\">missing.jl:29</a></li> <li> promote_rule(::<b>Type{Missing}</b>, ::<b>Type{Any}</b>) in Base at <a href=\"https://github.com/JuliaLang/julia/tree/5d4eaca0c9fa3d555c79dbacdccb9169fdf64b65/base/missing.jl#L32\" target=\"_blank\">missing.jl:32</a></li> <li> promote_rule(::<b>Type{Missing}</b>, ::<b>Type{Missing}</b>) in Base at <a href=\"https://github.com/JuliaLang/julia/tree/5d4eaca0c9fa3d555c79dbacdccb9169fdf64b65/base/missing.jl#L34\" target=\"_blank\">missing.jl:34</a></li> <li> promote_rule<i>{T}</i>(::<b>Type{Missing}</b>, ::<b>Type{T}</b>) in Base at <a href=\"https://github.com/JuliaLang/julia/tree/5d4eaca0c9fa3d555c79dbacdccb9169fdf64b65/base/missing.jl#L29\" target=\"_blank\">missing.jl:29</a></li> <li> promote_rule(::<b>Type{BigInt}</b>, ::<b>Type{#s549} where #s549<:Integer</b>) in Base.GMP at <a href=\"https://github.com/JuliaLang/julia/tree/5d4eaca0c9fa3d555c79dbacdccb9169fdf64b65/base/gmp.jl#L393\" target=\"_blank\">gmp.jl:393</a></li> <li> promote_rule(::<b>Type{BigInt}</b>, ::<b>Type{#s549} where #s549<:AbstractFloat</b>) in Base.MPFR at <a href=\"https://github.com/JuliaLang/julia/tree/5d4eaca0c9fa3d555c79dbacdccb9169fdf64b65/base/mpfr.jl#L300\" target=\"_blank\">mpfr.jl:300</a></li> <li> promote_rule(::<b>Type{BigFloat}</b>, ::<b>Type{#s549} where #s549<:AbstractFloat</b>) in Base.MPFR at <a href=\"https://github.com/JuliaLang/julia/tree/5d4eaca0c9fa3d555c79dbacdccb9169fdf64b65/base/mpfr.jl#L301\" target=\"_blank\">mpfr.jl:301</a></li> <li> promote_rule(::<b>Type{BigFloat}</b>, ::<b>Type{#s549} where #s549<:Real</b>) in Base.MPFR at <a href=\"https://github.com/JuliaLang/julia/tree/5d4eaca0c9fa3d555c79dbacdccb9169fdf64b65/base/mpfr.jl#L299\" target=\"_blank\">mpfr.jl:299</a></li> <li> promote_rule(::<b>Type{Dates.Date}</b>, x::<b>Type{Dates.DateTime}</b>) in Dates at <a href=\"file:///Users/osx/buildbot/slave/package_osx64/build/usr/share/julia/stdlib/v1.0/Dates/src/types.jl\" target=\"_blank\">/Users/osx/buildbot/slave/package_osx64/build/usr/share/julia/stdlib/v1.0/Dates/src/types.jl:343</a></li> <li> promote_rule(::<b>Type{Dates.Week}</b>, ::<b>Type{Dates.Day}</b>) in Dates at <a href=\"file:///Users/osx/buildbot/slave/package_osx64/build/usr/share/julia/stdlib/v1.0/Dates/src/periods.jl\" target=\"_blank\">/Users/osx/buildbot/slave/package_osx64/build/usr/share/julia/stdlib/v1.0/Dates/src/periods.jl:429</a></li> <li> promote_rule(::<b>Type{Dates.Week}</b>, ::<b>Type{Dates.Hour}</b>) in Dates at <a href=\"file:///Users/osx/buildbot/slave/package_osx64/build/usr/share/julia/stdlib/v1.0/Dates/src/periods.jl\" target=\"_blank\">/Users/osx/buildbot/slave/package_osx64/build/usr/share/julia/stdlib/v1.0/Dates/src/periods.jl:429</a></li> <li> promote_rule(::<b>Type{Dates.Week}</b>, ::<b>Type{Dates.Minute}</b>) in Dates at <a href=\"file:///Users/osx/buildbot/slave/package_osx64/build/usr/share/julia/stdlib/v1.0/Dates/src/periods.jl\" target=\"_blank\">/Users/osx/buildbot/slave/package_osx64/build/usr/share/julia/stdlib/v1.0/Dates/src/periods.jl:429</a></li> <li> promote_rule(::<b>Type{Dates.Week}</b>, ::<b>Type{Dates.Second}</b>) in Dates at <a href=\"file:///Users/osx/buildbot/slave/package_osx64/build/usr/share/julia/stdlib/v1.0/Dates/src/periods.jl\" target=\"_blank\">/Users/osx/buildbot/slave/package_osx64/build/usr/share/julia/stdlib/v1.0/Dates/src/periods.jl:429</a></li> <li> promote_rule(::<b>Type{Dates.Week}</b>, ::<b>Type{Dates.Millisecond}</b>) in Dates at <a href=\"file:///Users/osx/buildbot/slave/package_osx64/build/usr/share/julia/stdlib/v1.0/Dates/src/periods.jl\" target=\"_blank\">/Users/osx/buildbot/slave/package_osx64/build/usr/share/julia/stdlib/v1.0/Dates/src/periods.jl:429</a></li> <li> promote_rule(::<b>Type{Dates.Week}</b>, ::<b>Type{Dates.Microsecond}</b>) in Dates at <a href=\"file:///Users/osx/buildbot/slave/package_osx64/build/usr/share/julia/stdlib/v1.0/Dates/src/periods.jl\" target=\"_blank\">/Users/osx/buildbot/slave/package_osx64/build/usr/share/julia/stdlib/v1.0/Dates/src/periods.jl:429</a></li> <li> promote_rule(::<b>Type{Dates.Week}</b>, ::<b>Type{Dates.Nanosecond}</b>) in Dates at <a href=\"file:///Users/osx/buildbot/slave/package_osx64/build/usr/share/julia/stdlib/v1.0/Dates/src/periods.jl\" target=\"_blank\">/Users/osx/buildbot/slave/package_osx64/build/usr/share/julia/stdlib/v1.0/Dates/src/periods.jl:429</a></li> <li> promote_rule(::<b>Type{Dates.Day}</b>, ::<b>Type{Dates.Hour}</b>) in Dates at <a href=\"file:///Users/osx/buildbot/slave/package_osx64/build/usr/share/julia/stdlib/v1.0/Dates/src/periods.jl\" target=\"_blank\">/Users/osx/buildbot/slave/package_osx64/build/usr/share/julia/stdlib/v1.0/Dates/src/periods.jl:429</a></li> <li> promote_rule(::<b>Type{Dates.Day}</b>, ::<b>Type{Dates.Minute}</b>) in Dates at <a href=\"file:///Users/osx/buildbot/slave/package_osx64/build/usr/share/julia/stdlib/v1.0/Dates/src/periods.jl\" target=\"_blank\">/Users/osx/buildbot/slave/package_osx64/build/usr/share/julia/stdlib/v1.0/Dates/src/periods.jl:429</a></li> <li> promote_rule(::<b>Type{Dates.Day}</b>, ::<b>Type{Dates.Second}</b>) in Dates at <a href=\"file:///Users/osx/buildbot/slave/package_osx64/build/usr/share/julia/stdlib/v1.0/Dates/src/periods.jl\" target=\"_blank\">/Users/osx/buildbot/slave/package_osx64/build/usr/share/julia/stdlib/v1.0/Dates/src/periods.jl:429</a></li> <li> promote_rule(::<b>Type{Dates.Day}</b>, ::<b>Type{Dates.Millisecond}</b>) in Dates at <a href=\"file:///Users/osx/buildbot/slave/package_osx64/build/usr/share/julia/stdlib/v1.0/Dates/src/periods.jl\" target=\"_blank\">/Users/osx/buildbot/slave/package_osx64/build/usr/share/julia/stdlib/v1.0/Dates/src/periods.jl:429</a></li> <li> promote_rule(::<b>Type{Dates.Day}</b>, ::<b>Type{Dates.Microsecond}</b>) in Dates at <a href=\"file:///Users/osx/buildbot/slave/package_osx64/build/usr/share/julia/stdlib/v1.0/Dates/src/periods.jl\" target=\"_blank\">/Users/osx/buildbot/slave/package_osx64/build/usr/share/julia/stdlib/v1.0/Dates/src/periods.jl:429</a></li> <li> promote_rule(::<b>Type{Dates.Day}</b>, ::<b>Type{Dates.Nanosecond}</b>) in Dates at <a href=\"file:///Users/osx/buildbot/slave/package_osx64/build/usr/share/julia/stdlib/v1.0/Dates/src/periods.jl\" target=\"_blank\">/Users/osx/buildbot/slave/package_osx64/build/usr/share/julia/stdlib/v1.0/Dates/src/periods.jl:429</a></li> <li> promote_rule(::<b>Type{Dates.Hour}</b>, ::<b>Type{Dates.Minute}</b>) in Dates at <a href=\"file:///Users/osx/buildbot/slave/package_osx64/build/usr/share/julia/stdlib/v1.0/Dates/src/periods.jl\" target=\"_blank\">/Users/osx/buildbot/slave/package_osx64/build/usr/share/julia/stdlib/v1.0/Dates/src/periods.jl:429</a></li> <li> promote_rule(::<b>Type{Dates.Hour}</b>, ::<b>Type{Dates.Second}</b>) in Dates at <a href=\"file:///Users/osx/buildbot/slave/package_osx64/build/usr/share/julia/stdlib/v1.0/Dates/src/periods.jl\" target=\"_blank\">/Users/osx/buildbot/slave/package_osx64/build/usr/share/julia/stdlib/v1.0/Dates/src/periods.jl:429</a></li> <li> promote_rule(::<b>Type{Dates.Hour}</b>, ::<b>Type{Dates.Millisecond}</b>) in Dates at <a href=\"file:///Users/osx/buildbot/slave/package_osx64/build/usr/share/julia/stdlib/v1.0/Dates/src/periods.jl\" target=\"_blank\">/Users/osx/buildbot/slave/package_osx64/build/usr/share/julia/stdlib/v1.0/Dates/src/periods.jl:429</a></li> <li> promote_rule(::<b>Type{Dates.Hour}</b>, ::<b>Type{Dates.Microsecond}</b>) in Dates at <a href=\"file:///Users/osx/buildbot/slave/package_osx64/build/usr/share/julia/stdlib/v1.0/Dates/src/periods.jl\" target=\"_blank\">/Users/osx/buildbot/slave/package_osx64/build/usr/share/julia/stdlib/v1.0/Dates/src/periods.jl:429</a></li> <li> promote_rule(::<b>Type{Dates.Hour}</b>, ::<b>Type{Dates.Nanosecond}</b>) in Dates at <a href=\"file:///Users/osx/buildbot/slave/package_osx64/build/usr/share/julia/stdlib/v1.0/Dates/src/periods.jl\" target=\"_blank\">/Users/osx/buildbot/slave/package_osx64/build/usr/share/julia/stdlib/v1.0/Dates/src/periods.jl:429</a></li> <li> promote_rule(::<b>Type{Dates.Minute}</b>, ::<b>Type{Dates.Second}</b>) in Dates at <a href=\"file:///Users/osx/buildbot/slave/package_osx64/build/usr/share/julia/stdlib/v1.0/Dates/src/periods.jl\" target=\"_blank\">/Users/osx/buildbot/slave/package_osx64/build/usr/share/julia/stdlib/v1.0/Dates/src/periods.jl:429</a></li> <li> promote_rule(::<b>Type{Dates.Minute}</b>, ::<b>Type{Dates.Millisecond}</b>) in Dates at <a href=\"file:///Users/osx/buildbot/slave/package_osx64/build/usr/share/julia/stdlib/v1.0/Dates/src/periods.jl\" target=\"_blank\">/Users/osx/buildbot/slave/package_osx64/build/usr/share/julia/stdlib/v1.0/Dates/src/periods.jl:429</a></li> <li> promote_rule(::<b>Type{Dates.Minute}</b>, ::<b>Type{Dates.Microsecond}</b>) in Dates at <a href=\"file:///Users/osx/buildbot/slave/package_osx64/build/usr/share/julia/stdlib/v1.0/Dates/src/periods.jl\" target=\"_blank\">/Users/osx/buildbot/slave/package_osx64/build/usr/share/julia/stdlib/v1.0/Dates/src/periods.jl:429</a></li> <li> promote_rule(::<b>Type{Dates.Minute}</b>, ::<b>Type{Dates.Nanosecond}</b>) in Dates at <a href=\"file:///Users/osx/buildbot/slave/package_osx64/build/usr/share/julia/stdlib/v1.0/Dates/src/periods.jl\" target=\"_blank\">/Users/osx/buildbot/slave/package_osx64/build/usr/share/julia/stdlib/v1.0/Dates/src/periods.jl:429</a></li> <li> promote_rule(::<b>Type{Dates.Second}</b>, ::<b>Type{Dates.Millisecond}</b>) in Dates at <a href=\"file:///Users/osx/buildbot/slave/package_osx64/build/usr/share/julia/stdlib/v1.0/Dates/src/periods.jl\" target=\"_blank\">/Users/osx/buildbot/slave/package_osx64/build/usr/share/julia/stdlib/v1.0/Dates/src/periods.jl:429</a></li> <li> promote_rule(::<b>Type{Dates.Second}</b>, ::<b>Type{Dates.Microsecond}</b>) in Dates at <a href=\"file:///Users/osx/buildbot/slave/package_osx64/build/usr/share/julia/stdlib/v1.0/Dates/src/periods.jl\" target=\"_blank\">/Users/osx/buildbot/slave/package_osx64/build/usr/share/julia/stdlib/v1.0/Dates/src/periods.jl:429</a></li> <li> promote_rule(::<b>Type{Dates.Second}</b>, ::<b>Type{Dates.Nanosecond}</b>) in Dates at <a href=\"file:///Users/osx/buildbot/slave/package_osx64/build/usr/share/julia/stdlib/v1.0/Dates/src/periods.jl\" target=\"_blank\">/Users/osx/buildbot/slave/package_osx64/build/usr/share/julia/stdlib/v1.0/Dates/src/periods.jl:429</a></li> <li> promote_rule(::<b>Type{Dates.Millisecond}</b>, ::<b>Type{Dates.Microsecond}</b>) in Dates at <a href=\"file:///Users/osx/buildbot/slave/package_osx64/build/usr/share/julia/stdlib/v1.0/Dates/src/periods.jl\" target=\"_blank\">/Users/osx/buildbot/slave/package_osx64/build/usr/share/julia/stdlib/v1.0/Dates/src/periods.jl:429</a></li> <li> promote_rule(::<b>Type{Dates.Millisecond}</b>, ::<b>Type{Dates.Nanosecond}</b>) in Dates at <a href=\"file:///Users/osx/buildbot/slave/package_osx64/build/usr/share/julia/stdlib/v1.0/Dates/src/periods.jl\" target=\"_blank\">/Users/osx/buildbot/slave/package_osx64/build/usr/share/julia/stdlib/v1.0/Dates/src/periods.jl:429</a></li> <li> promote_rule(::<b>Type{Dates.Microsecond}</b>, ::<b>Type{Dates.Nanosecond}</b>) in Dates at <a href=\"file:///Users/osx/buildbot/slave/package_osx64/build/usr/share/julia/stdlib/v1.0/Dates/src/periods.jl\" target=\"_blank\">/Users/osx/buildbot/slave/package_osx64/build/usr/share/julia/stdlib/v1.0/Dates/src/periods.jl:429</a></li> <li> promote_rule(::<b>Type{Dates.Year}</b>, ::<b>Type{Dates.Month}</b>) in Dates at <a href=\"file:///Users/osx/buildbot/slave/package_osx64/build/usr/share/julia/stdlib/v1.0/Dates/src/periods.jl\" target=\"_blank\">/Users/osx/buildbot/slave/package_osx64/build/usr/share/julia/stdlib/v1.0/Dates/src/periods.jl:443</a></li> <li> promote_rule(::<b>Type{Any}</b>, ::<b>Type{Any}</b>) in Base at <a href=\"https://github.com/JuliaLang/julia/tree/5d4eaca0c9fa3d555c79dbacdccb9169fdf64b65/base/promotion.jl#L237\" target=\"_blank\">promotion.jl:237</a></li> <li> promote_rule(::<b>Type{Any}</b>, ::<b>Type{Nothing}</b>) in Base at <a href=\"https://github.com/JuliaLang/julia/tree/5d4eaca0c9fa3d555c79dbacdccb9169fdf64b65/base/missing.jl#L31\" target=\"_blank\">missing.jl:31</a></li> <li> promote_rule(::<b>Type{Any}</b>, ::<b>Type{Missing}</b>) in Base at <a href=\"https://github.com/JuliaLang/julia/tree/5d4eaca0c9fa3d555c79dbacdccb9169fdf64b65/base/missing.jl#L31\" target=\"_blank\">missing.jl:31</a></li> <li> promote_rule(::<b>Type{Any}</b>, ::<b>Type{#s57} where #s57</b>) in Base at <a href=\"https://github.com/JuliaLang/julia/tree/5d4eaca0c9fa3d555c79dbacdccb9169fdf64b65/base/promotion.jl#L235\" target=\"_blank\">promotion.jl:235</a></li> <li> promote_rule(::<b>Type{Union{Missing, Nothing}}</b>, ::<b>Type{Any}</b>) in Base at <a href=\"https://github.com/JuliaLang/julia/tree/5d4eaca0c9fa3d555c79dbacdccb9169fdf64b65/base/missing.jl#L37\" target=\"_blank\">missing.jl:37</a></li> <li> promote_rule(::<b>Type{#s57} where #s57</b>, ::<b>Type{Any}</b>) in Base at <a href=\"https://github.com/JuliaLang/julia/tree/5d4eaca0c9fa3d555c79dbacdccb9169fdf64b65/base/promotion.jl#L236\" target=\"_blank\">promotion.jl:236</a></li> <li> promote_rule<i>{A1, B1, A2, B2}</i>(::<b>Type{Pair{A1,B1}}</b>, ::<b>Type{Pair{A2,B2}}</b>) in Base at <a href=\"https://github.com/JuliaLang/julia/tree/5d4eaca0c9fa3d555c79dbacdccb9169fdf64b65/base/pair.jl#L74\" target=\"_blank\">pair.jl:74</a></li> <li> promote_rule<i>{T1, T2}</i>(a::<b>Type{UnitRange{T1}}</b>, b::<b>Type{UnitRange{T2}}</b>) in Base at <a href=\"https://github.com/JuliaLang/julia/tree/5d4eaca0c9fa3d555c79dbacdccb9169fdf64b65/base/range.jl#L844\" target=\"_blank\">range.jl:844</a></li> <li> promote_rule<i>{T1, T2}</i>(a::<b>Type{Base.OneTo{T1}}</b>, b::<b>Type{Base.OneTo{T2}}</b>) in Base at <a href=\"https://github.com/JuliaLang/julia/tree/5d4eaca0c9fa3d555c79dbacdccb9169fdf64b65/base/range.jl#L849\" target=\"_blank\">range.jl:849</a></li> <li> promote_rule<i>{T1, UR<:AbstractUnitRange}</i>(a::<b>Type{UnitRange{T1}}</b>, ::<b>Type{UR}</b>) in Base at <a href=\"https://github.com/JuliaLang/julia/tree/5d4eaca0c9fa3d555c79dbacdccb9169fdf64b65/base/range.jl#L854\" target=\"_blank\">range.jl:854</a></li> <li> promote_rule<i>{T1a, T1b, T2a, T2b}</i>(::<b>Type{StepRange{T1a,T1b}}</b>, ::<b>Type{StepRange{T2a,T2b}}</b>) in Base at <a href=\"https://github.com/JuliaLang/julia/tree/5d4eaca0c9fa3d555c79dbacdccb9169fdf64b65/base/range.jl#L863\" target=\"_blank\">range.jl:863</a></li> <li> promote_rule<i>{T1a, T1b, UR<:AbstractUnitRange}</i>(a::<b>Type{StepRange{T1a,T1b}}</b>, ::<b>Type{UR}</b>) in Base at <a href=\"https://github.com/JuliaLang/julia/tree/5d4eaca0c9fa3d555c79dbacdccb9169fdf64b65/base/range.jl#L870\" target=\"_blank\">range.jl:870</a></li> <li> promote_rule<i>{T1, T2, R1, R2, S1, S2}</i>(::<b>Type{StepRangeLen{T1,R1,S1}}</b>, ::<b>Type{StepRangeLen{T2,R2,S2}}</b>) in Base at <a href=\"https://github.com/JuliaLang/julia/tree/5d4eaca0c9fa3d555c79dbacdccb9169fdf64b65/base/range.jl#L878\" target=\"_blank\">range.jl:878</a></li> <li> promote_rule<i>{T, R, S, OR<:AbstractRange}</i>(a::<b>Type{StepRangeLen{T,R,S}}</b>, ::<b>Type{OR}</b>) in Base at <a href=\"https://github.com/JuliaLang/julia/tree/5d4eaca0c9fa3d555c79dbacdccb9169fdf64b65/base/range.jl#L888\" target=\"_blank\">range.jl:888</a></li> <li> promote_rule<i>{T1, T2}</i>(a::<b>Type{LinRange{T1}}</b>, b::<b>Type{LinRange{T2}}</b>) in Base at <a href=\"https://github.com/JuliaLang/julia/tree/5d4eaca0c9fa3d555c79dbacdccb9169fdf64b65/base/range.jl#L896\" target=\"_blank\">range.jl:896</a></li> <li> promote_rule<i>{T, OR<:OrdinalRange}</i>(a::<b>Type{LinRange{T}}</b>, ::<b>Type{OR}</b>) in Base at <a href=\"https://github.com/JuliaLang/julia/tree/5d4eaca0c9fa3d555c79dbacdccb9169fdf64b65/base/range.jl#L902\" target=\"_blank\">range.jl:902</a></li> <li> promote_rule<i>{L, T, R, S}</i>(::<b>Type{LinRange{L}}</b>, b::<b>Type{StepRangeLen{T,R,S}}</b>) in Base at <a href=\"https://github.com/JuliaLang/julia/tree/5d4eaca0c9fa3d555c79dbacdccb9169fdf64b65/base/range.jl#L905\" target=\"_blank\">range.jl:905</a></li> <li> promote_rule<i>{N, R1, R2}</i>(::<b>Type{LinearIndices{N,R1}}</b>, ::<b>Type{LinearIndices{N,R2}}</b>) in Base at <a href=\"https://github.com/JuliaLang/julia/tree/5d4eaca0c9fa3d555c79dbacdccb9169fdf64b65/base/indices.jl#L365\" target=\"_blank\">indices.jl:365</a></li> <li> promote_rule<i>{T, n, S}</i>(a::<b>Type{Array{T,n}}</b>, b::<b>Type{Array{S,n}}</b>) in Base at <a href=\"https://github.com/JuliaLang/julia/tree/5d4eaca0c9fa3d555c79dbacdccb9169fdf64b65/base/array.jl#L491\" target=\"_blank\">array.jl:491</a></li> <li> promote_rule<i>{R, S}</i>(::<b>Type{Base.TwicePrecision{R}}</b>, ::<b>Type{Base.TwicePrecision{S}}</b>) in Base at <a href=\"https://github.com/JuliaLang/julia/tree/5d4eaca0c9fa3d555c79dbacdccb9169fdf64b65/base/twiceprecision.jl#L238\" target=\"_blank\">twiceprecision.jl:238</a></li> <li> promote_rule<i>{R, S<:Number}</i>(::<b>Type{Base.TwicePrecision{R}}</b>, ::<b>Type{S}</b>) in Base at <a href=\"https://github.com/JuliaLang/julia/tree/5d4eaca0c9fa3d555c79dbacdccb9169fdf64b65/base/twiceprecision.jl#L240\" target=\"_blank\">twiceprecision.jl:240</a></li> <li> promote_rule<i>{T<:Real, S<:Real}</i>(::<b>Type{Complex{T}}</b>, ::<b>Type{S}</b>) in Base at <a href=\"https://github.com/JuliaLang/julia/tree/5d4eaca0c9fa3d555c79dbacdccb9169fdf64b65/base/complex.jl#L42\" target=\"_blank\">complex.jl:42</a></li> <li> promote_rule<i>{T<:Real, S<:Real}</i>(::<b>Type{Complex{T}}</b>, ::<b>Type{Complex{S}}</b>) in Base at <a href=\"https://github.com/JuliaLang/julia/tree/5d4eaca0c9fa3d555c79dbacdccb9169fdf64b65/base/complex.jl#L44\" target=\"_blank\">complex.jl:44</a></li> <li> promote_rule<i>{T<:Integer, S<:Integer}</i>(::<b>Type{Rational{T}}</b>, ::<b>Type{S}</b>) in Base at <a href=\"https://github.com/JuliaLang/julia/tree/5d4eaca0c9fa3d555c79dbacdccb9169fdf64b65/base/rational.jl#L104\" target=\"_blank\">rational.jl:104</a></li> <li> promote_rule<i>{T<:Integer, S<:Integer}</i>(::<b>Type{Rational{T}}</b>, ::<b>Type{Rational{S}}</b>) in Base at <a href=\"https://github.com/JuliaLang/julia/tree/5d4eaca0c9fa3d555c79dbacdccb9169fdf64b65/base/rational.jl#L105\" target=\"_blank\">rational.jl:105</a></li> <li> promote_rule<i>{T<:Integer, S<:AbstractFloat}</i>(::<b>Type{Rational{T}}</b>, ::<b>Type{S}</b>) in Base at <a href=\"https://github.com/JuliaLang/julia/tree/5d4eaca0c9fa3d555c79dbacdccb9169fdf64b65/base/rational.jl#L106\" target=\"_blank\">rational.jl:106</a></li> <li> promote_rule<i>{T, S<:T}</i>(::<b>Type{Some{T}}</b>, ::<b>Type{Some{S}}</b>) in Base at <a href=\"https://github.com/JuliaLang/julia/tree/5d4eaca0c9fa3d555c79dbacdccb9169fdf64b65/base/some.jl#L15\" target=\"_blank\">some.jl:15</a></li> <li> promote_rule<i>{T}</i>(::<b>Type{Some{T}}</b>, ::<b>Type{Nothing}</b>) in Base at <a href=\"https://github.com/JuliaLang/julia/tree/5d4eaca0c9fa3d555c79dbacdccb9169fdf64b65/base/some.jl#L16\" target=\"_blank\">some.jl:16</a></li> <li> promote_rule<i>{N, R1, R2}</i>(::<b>Type{CartesianIndices{N,R1}}</b>, ::<b>Type{CartesianIndices{N,R2}}</b>) in Base.IteratorsMD at <a href=\"https://github.com/JuliaLang/julia/tree/5d4eaca0c9fa3d555c79dbacdccb9169fdf64b65/base/multidimensional.jl#L231\" target=\"_blank\">multidimensional.jl:231</a></li> <li> promote_rule<i>{T}</i>(::<b>Type{Union{Missing, Nothing}}</b>, ::<b>Type{T}</b>) in Base at <a href=\"https://github.com/JuliaLang/julia/tree/5d4eaca0c9fa3d555c79dbacdccb9169fdf64b65/base/missing.jl#L38\" target=\"_blank\">missing.jl:38</a></li> <li> promote_rule(::<b>Type{#s549} where #s549<:AbstractIrrational</b>, ::<b>Type{Float16}</b>) in Base at <a href=\"https://github.com/JuliaLang/julia/tree/5d4eaca0c9fa3d555c79dbacdccb9169fdf64b65/base/irrationals.jl#L22\" target=\"_blank\">irrationals.jl:22</a></li> <li> promote_rule(::<b>Type{#s549} where #s549<:AbstractIrrational</b>, ::<b>Type{Float32}</b>) in Base at <a href=\"https://github.com/JuliaLang/julia/tree/5d4eaca0c9fa3d555c79dbacdccb9169fdf64b65/base/irrationals.jl#L23\" target=\"_blank\">irrationals.jl:23</a></li> <li> promote_rule(::<b>Type{#s549} where #s549<:AbstractIrrational</b>, ::<b>Type{#s548} where #s548<:AbstractIrrational</b>) in Base at <a href=\"https://github.com/JuliaLang/julia/tree/5d4eaca0c9fa3d555c79dbacdccb9169fdf64b65/base/irrationals.jl#L24\" target=\"_blank\">irrationals.jl:24</a></li> <li> promote_rule<i>{T<:Real}</i>(::<b>Type{#s549} where #s549<:AbstractIrrational</b>, ::<b>Type{T}</b>) in Base at <a href=\"https://github.com/JuliaLang/julia/tree/5d4eaca0c9fa3d555c79dbacdccb9169fdf64b65/base/irrationals.jl#L25\" target=\"_blank\">irrationals.jl:25</a></li> <li> promote_rule<i>{S<:AbstractIrrational, T<:Number}</i>(::<b>Type{S}</b>, ::<b>Type{T}</b>) in Base at <a href=\"https://github.com/JuliaLang/julia/tree/5d4eaca0c9fa3d555c79dbacdccb9169fdf64b65/base/irrationals.jl#L26\" target=\"_blank\">irrationals.jl:26</a></li> <li> promote_rule<i>{T, S}</i>(::<b>Type{Array{T,2}}</b>, ::<b>Type{#s549} where #s549<:(LinearAlgebra.Bidiagonal{S,V} where V<:AbstractArray{S,1})</b>) in LinearAlgebra at <a href=\"file:///Users/osx/buildbot/slave/package_osx64/build/usr/share/julia/stdlib/v1.0/LinearAlgebra/src/bidiag.jl\" target=\"_blank\">/Users/osx/buildbot/slave/package_osx64/build/usr/share/julia/stdlib/v1.0/LinearAlgebra/src/bidiag.jl:163</a></li> <li> promote_rule(::<b>Type{Array{T,2} where T}</b>, ::<b>Type{#s549} where #s549<:LinearAlgebra.Bidiagonal</b>) in LinearAlgebra at <a href=\"file:///Users/osx/buildbot/slave/package_osx64/build/usr/share/julia/stdlib/v1.0/LinearAlgebra/src/bidiag.jl\" target=\"_blank\">/Users/osx/buildbot/slave/package_osx64/build/usr/share/julia/stdlib/v1.0/LinearAlgebra/src/bidiag.jl:165</a></li> <li> promote_rule<i>{T, S}</i>(::<b>Type{#s549} where #s549<:(LinearAlgebra.Tridiagonal{T,V} where V<:AbstractArray{T,1})</b>, ::<b>Type{#s548} where #s548<:(LinearAlgebra.Bidiagonal{S,V} where V<:AbstractArray{S,1})</b>) in LinearAlgebra at <a href=\"file:///Users/osx/buildbot/slave/package_osx64/build/usr/share/julia/stdlib/v1.0/LinearAlgebra/src/bidiag.jl\" target=\"_blank\">/Users/osx/buildbot/slave/package_osx64/build/usr/share/julia/stdlib/v1.0/LinearAlgebra/src/bidiag.jl:174</a></li> <li> promote_rule(::<b>Type{#s549} where #s549<:LinearAlgebra.Tridiagonal</b>, ::<b>Type{#s548} where #s548<:LinearAlgebra.Bidiagonal</b>) in LinearAlgebra at <a href=\"file:///Users/osx/buildbot/slave/package_osx64/build/usr/share/julia/stdlib/v1.0/LinearAlgebra/src/bidiag.jl\" target=\"_blank\">/Users/osx/buildbot/slave/package_osx64/build/usr/share/julia/stdlib/v1.0/LinearAlgebra/src/bidiag.jl:176</a></li> <li> promote_rule<i>{T, S}</i>(::<b>Type{Union{Missing, Nothing, S}}</b>, ::<b>Type{T}</b>) in Base at <a href=\"https://github.com/JuliaLang/julia/tree/5d4eaca0c9fa3d555c79dbacdccb9169fdf64b65/base/missing.jl#L40\" target=\"_blank\">missing.jl:40</a></li> <li> promote_rule<i>{T, S}</i>(::<b>Type{Union{Nothing, S}}</b>, ::<b>Type{T}</b>) in Base at <a href=\"https://github.com/JuliaLang/julia/tree/5d4eaca0c9fa3d555c79dbacdccb9169fdf64b65/base/missing.jl#L30\" target=\"_blank\">missing.jl:30</a></li> <li> promote_rule<i>{T, S}</i>(::<b>Type{Union{Missing, S}}</b>, ::<b>Type{T}</b>) in Base at <a href=\"https://github.com/JuliaLang/julia/tree/5d4eaca0c9fa3d555c79dbacdccb9169fdf64b65/base/missing.jl#L30\" target=\"_blank\">missing.jl:30</a></li> <li> promote_rule(::<b>Type{#s57} where #s57</b>, ::<b>Type{#s56} where #s56</b>) in Base at <a href=\"https://github.com/JuliaLang/julia/tree/5d4eaca0c9fa3d555c79dbacdccb9169fdf64b65/base/promotion.jl#L233\" target=\"_blank\">promotion.jl:233</a></li> </ul>"
      ],
      "text/plain": [
       "# 133 methods for generic function \"promote_rule\":\n",
       "[1] promote_rule(::Type{Bool}, ::Type{T}) where T<:Number in Base at bool.jl:4\n",
       "[2] promote_rule(::Type{Int16}, ::Union{Type{Int8}, Type{UInt8}}) in Base at int.jl:611\n",
       "[3] promote_rule(::Type{Int32}, ::Union{Type{Int16}, Type{Int8}, Type{UInt16}, Type{UInt8}}) in Base at int.jl:612\n",
       "[4] promote_rule(::Type{Int64}, ::Union{Type{Int16}, Type{Int32}, Type{Int8}, Type{UInt16}, Type{UInt32}, Type{UInt8}}) in Base at int.jl:613\n",
       "[5] promote_rule(::Type{Int128}, ::Union{Type{Int16}, Type{Int32}, Type{Int64}, Type{Int8}, Type{UInt16}, Type{UInt32}, Type{UInt64}, Type{UInt8}}) in Base at int.jl:614\n",
       "[6] promote_rule(::Type{UInt16}, ::Union{Type{Int8}, Type{UInt8}}) in Base at int.jl:615\n",
       "[7] promote_rule(::Type{UInt16}, ::Type{Int16}) in Base at int.jl:621\n",
       "[8] promote_rule(::Type{UInt32}, ::Union{Type{Int16}, Type{Int8}, Type{UInt16}, Type{UInt8}}) in Base at int.jl:616\n",
       "[9] promote_rule(::Type{UInt32}, ::Type{Int32}) in Base at int.jl:622\n",
       "[10] promote_rule(::Type{UInt64}, ::Union{Type{Int16}, Type{Int32}, Type{Int8}, Type{UInt16}, Type{UInt32}, Type{UInt8}}) in Base at int.jl:617\n",
       "[11] promote_rule(::Type{UInt64}, ::Type{Int64}) in Base at int.jl:623\n",
       "[12] promote_rule(::Type{UInt128}, ::Union{Type{Int16}, Type{Int32}, Type{Int64}, Type{Int8}, Type{UInt16}, Type{UInt32}, Type{UInt64}, Type{UInt8}}) in Base at int.jl:618\n",
       "[13] promote_rule(::Type{UInt128}, ::Type{Int128}) in Base at int.jl:624\n",
       "[14] promote_rule(::Type{UInt8}, ::Type{Int8}) in Base at int.jl:620\n",
       "[15] promote_rule(::Type{Float16}, ::Type{Int8}) in Base at float.jl:53\n",
       "[16] promote_rule(::Type{Float16}, ::Type{Int16}) in Base at float.jl:53\n",
       "[17] promote_rule(::Type{Float16}, ::Type{Int32}) in Base at float.jl:53\n",
       "[18] promote_rule(::Type{Float16}, ::Type{Int64}) in Base at float.jl:53\n",
       "[19] promote_rule(::Type{Float16}, ::Type{Int128}) in Base at float.jl:53\n",
       "[20] promote_rule(::Type{Float16}, ::Type{UInt8}) in Base at float.jl:53\n",
       "[21] promote_rule(::Type{Float16}, ::Type{UInt16}) in Base at float.jl:53\n",
       "[22] promote_rule(::Type{Float16}, ::Type{UInt32}) in Base at float.jl:53\n",
       "[23] promote_rule(::Type{Float16}, ::Type{UInt64}) in Base at float.jl:53\n",
       "[24] promote_rule(::Type{Float16}, ::Type{UInt128}) in Base at float.jl:53\n",
       "[25] promote_rule(::Type{Float16}, ::Type{Bool}) in Base at float.jl:55\n",
       "[26] promote_rule(::Type{Float32}, ::Type{Int8}) in Base at float.jl:61\n",
       "[27] promote_rule(::Type{Float32}, ::Type{Int16}) in Base at float.jl:61\n",
       "[28] promote_rule(::Type{Float32}, ::Type{Int32}) in Base at float.jl:61\n",
       "[29] promote_rule(::Type{Float32}, ::Type{Int64}) in Base at float.jl:61\n",
       "[30] promote_rule(::Type{Float32}, ::Type{Bool}) in Base at float.jl:67\n",
       "[31] promote_rule(::Type{Float32}, ::Type{UInt8}) in Base at float.jl:67\n",
       "[32] promote_rule(::Type{Float32}, ::Type{UInt16}) in Base at float.jl:67\n",
       "[33] promote_rule(::Type{Float32}, ::Type{UInt32}) in Base at float.jl:67\n",
       "[34] promote_rule(::Type{Float32}, ::Type{UInt64}) in Base at float.jl:67\n",
       "[35] promote_rule(::Type{Float32}, ::Type{UInt128}) in Base at float.jl:77\n",
       "[36] promote_rule(::Type{Float32}, ::Type{Int128}) in Base at float.jl:78\n",
       "[37] promote_rule(::Type{Float32}, ::Type{Float16}) in Base at float.jl:377\n",
       "[38] promote_rule(::Type{Float64}, ::Type{Int8}) in Base at float.jl:61\n",
       "[39] promote_rule(::Type{Float64}, ::Type{Int16}) in Base at float.jl:61\n",
       "[40] promote_rule(::Type{Float64}, ::Type{Int32}) in Base at float.jl:61\n",
       "[41] promote_rule(::Type{Float64}, ::Type{Int64}) in Base at float.jl:61\n",
       "[42] promote_rule(::Type{Float64}, ::Type{Bool}) in Base at float.jl:67\n",
       "[43] promote_rule(::Type{Float64}, ::Type{UInt8}) in Base at float.jl:67\n",
       "[44] promote_rule(::Type{Float64}, ::Type{UInt16}) in Base at float.jl:67\n",
       "[45] promote_rule(::Type{Float64}, ::Type{UInt32}) in Base at float.jl:67\n",
       "[46] promote_rule(::Type{Float64}, ::Type{UInt64}) in Base at float.jl:67\n",
       "[47] promote_rule(::Type{Float64}, ::Type{UInt128}) in Base at float.jl:75\n",
       "[48] promote_rule(::Type{Float64}, ::Type{Int128}) in Base at float.jl:76\n",
       "[49] promote_rule(::Type{Float64}, ::Type{Float16}) in Base at float.jl:378\n",
       "[50] promote_rule(::Type{Float64}, ::Type{Float32}) in Base at float.jl:379\n",
       "[51] promote_rule(::Type{Nothing}, ::Type{Any}) in Base at missing.jl:32\n",
       "[52] promote_rule(::Type{Nothing}, ::Type{Nothing}) in Base at missing.jl:34\n",
       "[53] promote_rule(::Type{Nothing}, ::Type{T}) where T in Base at missing.jl:29\n",
       "[54] promote_rule(::Type{Missing}, ::Type{Any}) in Base at missing.jl:32\n",
       "[55] promote_rule(::Type{Missing}, ::Type{Missing}) in Base at missing.jl:34\n",
       "[56] promote_rule(::Type{Missing}, ::Type{T}) where T in Base at missing.jl:29\n",
       "[57] promote_rule(::Type{BigInt}, ::Type{#s549} where #s549<:Integer) in Base.GMP at gmp.jl:393\n",
       "[58] promote_rule(::Type{BigInt}, ::Type{#s549} where #s549<:AbstractFloat) in Base.MPFR at mpfr.jl:300\n",
       "[59] promote_rule(::Type{BigFloat}, ::Type{#s549} where #s549<:AbstractFloat) in Base.MPFR at mpfr.jl:301\n",
       "[60] promote_rule(::Type{BigFloat}, ::Type{#s549} where #s549<:Real) in Base.MPFR at mpfr.jl:299\n",
       "[61] promote_rule(::Type{Dates.Date}, x::Type{Dates.DateTime}) in Dates at /Users/osx/buildbot/slave/package_osx64/build/usr/share/julia/stdlib/v1.0/Dates/src/types.jl:343\n",
       "[62] promote_rule(::Type{Dates.Week}, ::Type{Dates.Day}) in Dates at /Users/osx/buildbot/slave/package_osx64/build/usr/share/julia/stdlib/v1.0/Dates/src/periods.jl:429\n",
       "[63] promote_rule(::Type{Dates.Week}, ::Type{Dates.Hour}) in Dates at /Users/osx/buildbot/slave/package_osx64/build/usr/share/julia/stdlib/v1.0/Dates/src/periods.jl:429\n",
       "[64] promote_rule(::Type{Dates.Week}, ::Type{Dates.Minute}) in Dates at /Users/osx/buildbot/slave/package_osx64/build/usr/share/julia/stdlib/v1.0/Dates/src/periods.jl:429\n",
       "[65] promote_rule(::Type{Dates.Week}, ::Type{Dates.Second}) in Dates at /Users/osx/buildbot/slave/package_osx64/build/usr/share/julia/stdlib/v1.0/Dates/src/periods.jl:429\n",
       "[66] promote_rule(::Type{Dates.Week}, ::Type{Dates.Millisecond}) in Dates at /Users/osx/buildbot/slave/package_osx64/build/usr/share/julia/stdlib/v1.0/Dates/src/periods.jl:429\n",
       "[67] promote_rule(::Type{Dates.Week}, ::Type{Dates.Microsecond}) in Dates at /Users/osx/buildbot/slave/package_osx64/build/usr/share/julia/stdlib/v1.0/Dates/src/periods.jl:429\n",
       "[68] promote_rule(::Type{Dates.Week}, ::Type{Dates.Nanosecond}) in Dates at /Users/osx/buildbot/slave/package_osx64/build/usr/share/julia/stdlib/v1.0/Dates/src/periods.jl:429\n",
       "[69] promote_rule(::Type{Dates.Day}, ::Type{Dates.Hour}) in Dates at /Users/osx/buildbot/slave/package_osx64/build/usr/share/julia/stdlib/v1.0/Dates/src/periods.jl:429\n",
       "[70] promote_rule(::Type{Dates.Day}, ::Type{Dates.Minute}) in Dates at /Users/osx/buildbot/slave/package_osx64/build/usr/share/julia/stdlib/v1.0/Dates/src/periods.jl:429\n",
       "[71] promote_rule(::Type{Dates.Day}, ::Type{Dates.Second}) in Dates at /Users/osx/buildbot/slave/package_osx64/build/usr/share/julia/stdlib/v1.0/Dates/src/periods.jl:429\n",
       "[72] promote_rule(::Type{Dates.Day}, ::Type{Dates.Millisecond}) in Dates at /Users/osx/buildbot/slave/package_osx64/build/usr/share/julia/stdlib/v1.0/Dates/src/periods.jl:429\n",
       "[73] promote_rule(::Type{Dates.Day}, ::Type{Dates.Microsecond}) in Dates at /Users/osx/buildbot/slave/package_osx64/build/usr/share/julia/stdlib/v1.0/Dates/src/periods.jl:429\n",
       "[74] promote_rule(::Type{Dates.Day}, ::Type{Dates.Nanosecond}) in Dates at /Users/osx/buildbot/slave/package_osx64/build/usr/share/julia/stdlib/v1.0/Dates/src/periods.jl:429\n",
       "[75] promote_rule(::Type{Dates.Hour}, ::Type{Dates.Minute}) in Dates at /Users/osx/buildbot/slave/package_osx64/build/usr/share/julia/stdlib/v1.0/Dates/src/periods.jl:429\n",
       "[76] promote_rule(::Type{Dates.Hour}, ::Type{Dates.Second}) in Dates at /Users/osx/buildbot/slave/package_osx64/build/usr/share/julia/stdlib/v1.0/Dates/src/periods.jl:429\n",
       "[77] promote_rule(::Type{Dates.Hour}, ::Type{Dates.Millisecond}) in Dates at /Users/osx/buildbot/slave/package_osx64/build/usr/share/julia/stdlib/v1.0/Dates/src/periods.jl:429\n",
       "[78] promote_rule(::Type{Dates.Hour}, ::Type{Dates.Microsecond}) in Dates at /Users/osx/buildbot/slave/package_osx64/build/usr/share/julia/stdlib/v1.0/Dates/src/periods.jl:429\n",
       "[79] promote_rule(::Type{Dates.Hour}, ::Type{Dates.Nanosecond}) in Dates at /Users/osx/buildbot/slave/package_osx64/build/usr/share/julia/stdlib/v1.0/Dates/src/periods.jl:429\n",
       "[80] promote_rule(::Type{Dates.Minute}, ::Type{Dates.Second}) in Dates at /Users/osx/buildbot/slave/package_osx64/build/usr/share/julia/stdlib/v1.0/Dates/src/periods.jl:429\n",
       "[81] promote_rule(::Type{Dates.Minute}, ::Type{Dates.Millisecond}) in Dates at /Users/osx/buildbot/slave/package_osx64/build/usr/share/julia/stdlib/v1.0/Dates/src/periods.jl:429\n",
       "[82] promote_rule(::Type{Dates.Minute}, ::Type{Dates.Microsecond}) in Dates at /Users/osx/buildbot/slave/package_osx64/build/usr/share/julia/stdlib/v1.0/Dates/src/periods.jl:429\n",
       "[83] promote_rule(::Type{Dates.Minute}, ::Type{Dates.Nanosecond}) in Dates at /Users/osx/buildbot/slave/package_osx64/build/usr/share/julia/stdlib/v1.0/Dates/src/periods.jl:429\n",
       "[84] promote_rule(::Type{Dates.Second}, ::Type{Dates.Millisecond}) in Dates at /Users/osx/buildbot/slave/package_osx64/build/usr/share/julia/stdlib/v1.0/Dates/src/periods.jl:429\n",
       "[85] promote_rule(::Type{Dates.Second}, ::Type{Dates.Microsecond}) in Dates at /Users/osx/buildbot/slave/package_osx64/build/usr/share/julia/stdlib/v1.0/Dates/src/periods.jl:429\n",
       "[86] promote_rule(::Type{Dates.Second}, ::Type{Dates.Nanosecond}) in Dates at /Users/osx/buildbot/slave/package_osx64/build/usr/share/julia/stdlib/v1.0/Dates/src/periods.jl:429\n",
       "[87] promote_rule(::Type{Dates.Millisecond}, ::Type{Dates.Microsecond}) in Dates at /Users/osx/buildbot/slave/package_osx64/build/usr/share/julia/stdlib/v1.0/Dates/src/periods.jl:429\n",
       "[88] promote_rule(::Type{Dates.Millisecond}, ::Type{Dates.Nanosecond}) in Dates at /Users/osx/buildbot/slave/package_osx64/build/usr/share/julia/stdlib/v1.0/Dates/src/periods.jl:429\n",
       "[89] promote_rule(::Type{Dates.Microsecond}, ::Type{Dates.Nanosecond}) in Dates at /Users/osx/buildbot/slave/package_osx64/build/usr/share/julia/stdlib/v1.0/Dates/src/periods.jl:429\n",
       "[90] promote_rule(::Type{Dates.Year}, ::Type{Dates.Month}) in Dates at /Users/osx/buildbot/slave/package_osx64/build/usr/share/julia/stdlib/v1.0/Dates/src/periods.jl:443\n",
       "[91] promote_rule(::Type{Any}, ::Type{Any}) in Base at promotion.jl:237\n",
       "[92] promote_rule(::Type{Any}, ::Type{Nothing}) in Base at missing.jl:31\n",
       "[93] promote_rule(::Type{Any}, ::Type{Missing}) in Base at missing.jl:31\n",
       "[94] promote_rule(::Type{Any}, ::Type{#s57} where #s57) in Base at promotion.jl:235\n",
       "[95] promote_rule(::Type{Union{Missing, Nothing}}, ::Type{Any}) in Base at missing.jl:37\n",
       "[96] promote_rule(::Type{#s57} where #s57, ::Type{Any}) in Base at promotion.jl:236\n",
       "[97] promote_rule(::Type{Pair{A1,B1}}, ::Type{Pair{A2,B2}}) where {A1, B1, A2, B2} in Base at pair.jl:74\n",
       "[98] promote_rule(a::Type{UnitRange{T1}}, b::Type{UnitRange{T2}}) where {T1, T2} in Base at range.jl:844\n",
       "[99] promote_rule(a::Type{Base.OneTo{T1}}, b::Type{Base.OneTo{T2}}) where {T1, T2} in Base at range.jl:849\n",
       "[100] promote_rule(a::Type{UnitRange{T1}}, ::Type{UR}) where {T1, UR<:AbstractUnitRange} in Base at range.jl:854\n",
       "[101] promote_rule(::Type{StepRange{T1a,T1b}}, ::Type{StepRange{T2a,T2b}}) where {T1a, T1b, T2a, T2b} in Base at range.jl:863\n",
       "[102] promote_rule(a::Type{StepRange{T1a,T1b}}, ::Type{UR}) where {T1a, T1b, UR<:AbstractUnitRange} in Base at range.jl:870\n",
       "[103] promote_rule(::Type{StepRangeLen{T1,R1,S1}}, ::Type{StepRangeLen{T2,R2,S2}}) where {T1, T2, R1, R2, S1, S2} in Base at range.jl:878\n",
       "[104] promote_rule(a::Type{StepRangeLen{T,R,S}}, ::Type{OR}) where {T, R, S, OR<:AbstractRange} in Base at range.jl:888\n",
       "[105] promote_rule(a::Type{LinRange{T1}}, b::Type{LinRange{T2}}) where {T1, T2} in Base at range.jl:896\n",
       "[106] promote_rule(a::Type{LinRange{T}}, ::Type{OR}) where {T, OR<:OrdinalRange} in Base at range.jl:902\n",
       "[107] promote_rule(::Type{LinRange{L}}, b::Type{StepRangeLen{T,R,S}}) where {L, T, R, S} in Base at range.jl:905\n",
       "[108] promote_rule(::Type{LinearIndices{N,R1}}, ::Type{LinearIndices{N,R2}}) where {N, R1, R2} in Base at indices.jl:365\n",
       "[109] promote_rule(a::Type{Array{T,n}}, b::Type{Array{S,n}}) where {T, n, S} in Base at array.jl:491\n",
       "[110] promote_rule(::Type{Base.TwicePrecision{R}}, ::Type{Base.TwicePrecision{S}}) where {R, S} in Base at twiceprecision.jl:238\n",
       "[111] promote_rule(::Type{Base.TwicePrecision{R}}, ::Type{S}) where {R, S<:Number} in Base at twiceprecision.jl:240\n",
       "[112] promote_rule(::Type{Complex{T}}, ::Type{S}) where {T<:Real, S<:Real} in Base at complex.jl:42\n",
       "[113] promote_rule(::Type{Complex{T}}, ::Type{Complex{S}}) where {T<:Real, S<:Real} in Base at complex.jl:44\n",
       "[114] promote_rule(::Type{Rational{T}}, ::Type{S}) where {T<:Integer, S<:Integer} in Base at rational.jl:104\n",
       "[115] promote_rule(::Type{Rational{T}}, ::Type{Rational{S}}) where {T<:Integer, S<:Integer} in Base at rational.jl:105\n",
       "[116] promote_rule(::Type{Rational{T}}, ::Type{S}) where {T<:Integer, S<:AbstractFloat} in Base at rational.jl:106\n",
       "[117] promote_rule(::Type{Some{T}}, ::Type{Some{S}}) where {T, S<:T} in Base at some.jl:15\n",
       "[118] promote_rule(::Type{Some{T}}, ::Type{Nothing}) where T in Base at some.jl:16\n",
       "[119] promote_rule(::Type{CartesianIndices{N,R1}}, ::Type{CartesianIndices{N,R2}}) where {N, R1, R2} in Base.IteratorsMD at multidimensional.jl:231\n",
       "[120] promote_rule(::Type{Union{Missing, Nothing}}, ::Type{T}) where T in Base at missing.jl:38\n",
       "[121] promote_rule(::Type{#s549} where #s549<:AbstractIrrational, ::Type{Float16}) in Base at irrationals.jl:22\n",
       "[122] promote_rule(::Type{#s549} where #s549<:AbstractIrrational, ::Type{Float32}) in Base at irrationals.jl:23\n",
       "[123] promote_rule(::Type{#s549} where #s549<:AbstractIrrational, ::Type{#s548} where #s548<:AbstractIrrational) in Base at irrationals.jl:24\n",
       "[124] promote_rule(::Type{#s549} where #s549<:AbstractIrrational, ::Type{T}) where T<:Real in Base at irrationals.jl:25\n",
       "[125] promote_rule(::Type{S}, ::Type{T}) where {S<:AbstractIrrational, T<:Number} in Base at irrationals.jl:26\n",
       "[126] promote_rule(::Type{Array{T,2}}, ::Type{#s549} where #s549<:(LinearAlgebra.Bidiagonal{S,V} where V<:AbstractArray{S,1})) where {T, S} in LinearAlgebra at /Users/osx/buildbot/slave/package_osx64/build/usr/share/julia/stdlib/v1.0/LinearAlgebra/src/bidiag.jl:163\n",
       "[127] promote_rule(::Type{Array{T,2} where T}, ::Type{#s549} where #s549<:LinearAlgebra.Bidiagonal) in LinearAlgebra at /Users/osx/buildbot/slave/package_osx64/build/usr/share/julia/stdlib/v1.0/LinearAlgebra/src/bidiag.jl:165\n",
       "[128] promote_rule(::Type{#s549} where #s549<:(LinearAlgebra.Tridiagonal{T,V} where V<:AbstractArray{T,1}), ::Type{#s548} where #s548<:(LinearAlgebra.Bidiagonal{S,V} where V<:AbstractArray{S,1})) where {T, S} in LinearAlgebra at /Users/osx/buildbot/slave/package_osx64/build/usr/share/julia/stdlib/v1.0/LinearAlgebra/src/bidiag.jl:174\n",
       "[129] promote_rule(::Type{#s549} where #s549<:LinearAlgebra.Tridiagonal, ::Type{#s548} where #s548<:LinearAlgebra.Bidiagonal) in LinearAlgebra at /Users/osx/buildbot/slave/package_osx64/build/usr/share/julia/stdlib/v1.0/LinearAlgebra/src/bidiag.jl:176\n",
       "[130] promote_rule(::Type{Union{Missing, Nothing, S}}, ::Type{T}) where {T, S} in Base at missing.jl:40\n",
       "[131] promote_rule(::Type{Union{Nothing, S}}, ::Type{T}) where {T, S} in Base at missing.jl:30\n",
       "[132] promote_rule(::Type{Union{Missing, S}}, ::Type{T}) where {T, S} in Base at missing.jl:30\n",
       "[133] promote_rule(::Type{#s57} where #s57, ::Type{#s56} where #s56) in Base at promotion.jl:233"
      ]
     },
     "execution_count": 19,
     "metadata": {},
     "output_type": "execute_result"
    }
   ],
   "source": [
    "methods(promote_rule)"
   ]
  },
  {
   "cell_type": "code",
   "execution_count": 21,
   "metadata": {},
   "outputs": [
    {
     "data": {
      "text/plain": [
       "Dual(3, 4)"
      ]
     },
     "execution_count": 21,
     "metadata": {},
     "output_type": "execute_result"
    }
   ],
   "source": [
    "x = Dual(3,4)"
   ]
  },
  {
   "cell_type": "code",
   "execution_count": 24,
   "metadata": {},
   "outputs": [
    {
     "data": {
      "text/plain": [
       "foo (generic function with 1 method)"
      ]
     },
     "execution_count": 24,
     "metadata": {},
     "output_type": "execute_result"
    }
   ],
   "source": [
    "foo(x::Dual) = 3"
   ]
  },
  {
   "cell_type": "code",
   "execution_count": 28,
   "metadata": {},
   "outputs": [
    {
     "data": {
      "text/plain": [
       "foo (generic function with 3 methods)"
      ]
     },
     "execution_count": 28,
     "metadata": {},
     "output_type": "execute_result"
    }
   ],
   "source": [
    "foo(::Integer) = 7\n",
    "foo(::Float64) = 8"
   ]
  },
  {
   "cell_type": "code",
   "execution_count": 29,
   "metadata": {},
   "outputs": [
    {
     "data": {
      "text/plain": [
       "7"
      ]
     },
     "execution_count": 29,
     "metadata": {},
     "output_type": "execute_result"
    }
   ],
   "source": [
    "foo(3)"
   ]
  },
  {
   "cell_type": "code",
   "execution_count": 30,
   "metadata": {},
   "outputs": [
    {
     "data": {
      "text/plain": [
       "8"
      ]
     },
     "execution_count": 30,
     "metadata": {},
     "output_type": "execute_result"
    }
   ],
   "source": [
    "foo(3.5)"
   ]
  },
  {
   "cell_type": "code",
   "execution_count": 27,
   "metadata": {},
   "outputs": [
    {
     "data": {
      "text/plain": [
       "true"
      ]
     },
     "execution_count": 27,
     "metadata": {},
     "output_type": "execute_result"
    }
   ],
   "source": [
    "Dual isa Type{Dual}"
   ]
  },
  {
   "cell_type": "code",
   "execution_count": 31,
   "metadata": {},
   "outputs": [],
   "source": [
    "Base.promote_rule(::Type{Dual}, ::Type{<:Number}) = Dual"
   ]
  },
  {
   "cell_type": "code",
   "execution_count": 47,
   "metadata": {},
   "outputs": [
    {
     "data": {
      "text/plain": [
       "Float64"
      ]
     },
     "execution_count": 47,
     "metadata": {},
     "output_type": "execute_result"
    }
   ],
   "source": [
    "promote_rule(Float64, Int)"
   ]
  },
  {
   "cell_type": "code",
   "execution_count": 48,
   "metadata": {},
   "outputs": [
    {
     "data": {
      "text/plain": [
       "Dual"
      ]
     },
     "execution_count": 48,
     "metadata": {},
     "output_type": "execute_result"
    }
   ],
   "source": [
    "promote_rule(Dual, Int)"
   ]
  },
  {
   "cell_type": "code",
   "execution_count": 51,
   "metadata": {},
   "outputs": [
    {
     "data": {
      "text/html": [
       "promote(x, y) in Base at <a href=\"https://github.com/JuliaLang/julia/tree/5d4eaca0c9fa3d555c79dbacdccb9169fdf64b65/base/promotion.jl#L283\" target=\"_blank\">promotion.jl:283</a>"
      ],
      "text/plain": [
       "promote(x, y) in Base at promotion.jl:283"
      ]
     },
     "execution_count": 51,
     "metadata": {},
     "output_type": "execute_result"
    }
   ],
   "source": [
    "@which promote(Dual(3,4), 4.5)"
   ]
  },
  {
   "cell_type": "code",
   "execution_count": 34,
   "metadata": {},
   "outputs": [
    {
     "ename": "MethodError",
     "evalue": "MethodError: no method matching Dual(::Int64)\nClosest candidates are:\n  Dual(::Real, !Matched::Real) at In[1]:2\n  Dual(::Any, !Matched::Any) at In[1]:2\n  Dual(::T<:Number) where T<:Number at boot.jl:725\n  ...",
     "output_type": "error",
     "traceback": [
      "MethodError: no method matching Dual(::Int64)\nClosest candidates are:\n  Dual(::Real, !Matched::Real) at In[1]:2\n  Dual(::Any, !Matched::Any) at In[1]:2\n  Dual(::T<:Number) where T<:Number at boot.jl:725\n  ...",
      "",
      "Stacktrace:",
      " [1] convert(::Type{Dual}, ::Int64) at ./number.jl:7",
      " [2] _promote at ./promotion.jl:261 [inlined]",
      " [3] promote at ./promotion.jl:284 [inlined]",
      " [4] +(::Dual, ::Int64) at ./promotion.jl:313",
      " [5] top-level scope at In[34]:1"
     ]
    }
   ],
   "source": [
    "Dual(3,4) + 5"
   ]
  },
  {
   "cell_type": "code",
   "execution_count": 35,
   "metadata": {},
   "outputs": [
    {
     "data": {
      "text/plain": [
       "Dual"
      ]
     },
     "execution_count": 35,
     "metadata": {},
     "output_type": "execute_result"
    }
   ],
   "source": [
    "Dual(x::Number) = Dual(x, 0)"
   ]
  },
  {
   "cell_type": "code",
   "execution_count": 36,
   "metadata": {},
   "outputs": [
    {
     "data": {
      "text/plain": [
       "Dual(8, 4)"
      ]
     },
     "execution_count": 36,
     "metadata": {},
     "output_type": "execute_result"
    }
   ],
   "source": [
    "Dual(3,4) + 5"
   ]
  },
  {
   "cell_type": "code",
   "execution_count": 37,
   "metadata": {},
   "outputs": [
    {
     "data": {
      "text/plain": [
       "f (generic function with 1 method)"
      ]
     },
     "execution_count": 37,
     "metadata": {},
     "output_type": "execute_result"
    }
   ],
   "source": [
    "f(x) = 3x^2 + 2x + 1"
   ]
  },
  {
   "cell_type": "code",
   "execution_count": 38,
   "metadata": {},
   "outputs": [
    {
     "data": {
      "text/plain": [
       "34"
      ]
     },
     "execution_count": 38,
     "metadata": {},
     "output_type": "execute_result"
    }
   ],
   "source": [
    "f(3)"
   ]
  },
  {
   "cell_type": "code",
   "execution_count": 39,
   "metadata": {},
   "outputs": [
    {
     "data": {
      "text/plain": [
       "Dual(34, 20)"
      ]
     },
     "execution_count": 39,
     "metadata": {},
     "output_type": "execute_result"
    }
   ],
   "source": [
    "f(Dual(3,1))"
   ]
  },
  {
   "cell_type": "code",
   "execution_count": 40,
   "metadata": {},
   "outputs": [
    {
     "data": {
      "text/plain": [
       "f′ (generic function with 1 method)"
      ]
     },
     "execution_count": 40,
     "metadata": {},
     "output_type": "execute_result"
    }
   ],
   "source": [
    "# manual derivative\n",
    "f′(x) = 6x + 2"
   ]
  },
  {
   "cell_type": "code",
   "execution_count": 41,
   "metadata": {},
   "outputs": [
    {
     "data": {
      "text/plain": [
       "20"
      ]
     },
     "execution_count": 41,
     "metadata": {},
     "output_type": "execute_result"
    }
   ],
   "source": [
    "f′(3)"
   ]
  },
  {
   "cell_type": "code",
   "execution_count": 42,
   "metadata": {},
   "outputs": [
    {
     "data": {
      "text/plain": [
       "Dual(6, 12)"
      ]
     },
     "execution_count": 42,
     "metadata": {},
     "output_type": "execute_result"
    }
   ],
   "source": [
    "3 * Dual(2,4)"
   ]
  },
  {
   "cell_type": "code",
   "execution_count": 52,
   "metadata": {},
   "outputs": [
    {
     "ename": "ErrorException",
     "evalue": "/ not defined for Dual",
     "output_type": "error",
     "traceback": [
      "/ not defined for Dual",
      "",
      "Stacktrace:",
      " [1] error(::String, ::String, ::Type) at ./error.jl:42",
      " [2] no_op_err(::String, ::Type) at ./promotion.jl:410",
      " [3] /(::Dual, ::Dual) at ./promotion.jl:414",
      " [4] /(::Dual, ::Int64) at ./promotion.jl:316",
      " [5] top-level scope at In[52]:1"
     ]
    }
   ],
   "source": [
    "Dual(2,4) / 3"
   ]
  },
  {
   "cell_type": "code",
   "execution_count": 54,
   "metadata": {},
   "outputs": [],
   "source": [
    "Base.:/(x::Dual, y::Dual) = Dual(x.val / y.val, (x.der * y.val - x.val * y.der) / y.val^2)"
   ]
  },
  {
   "cell_type": "code",
   "execution_count": 55,
   "metadata": {},
   "outputs": [
    {
     "data": {
      "text/plain": [
       "Dual(1.5, 2.0)"
      ]
     },
     "execution_count": 55,
     "metadata": {},
     "output_type": "execute_result"
    }
   ],
   "source": [
    "Dual(3,4) / 2"
   ]
  },
  {
   "cell_type": "code",
   "execution_count": 56,
   "metadata": {},
   "outputs": [
    {
     "data": {
      "text/plain": [
       "f (generic function with 1 method)"
      ]
     },
     "execution_count": 56,
     "metadata": {},
     "output_type": "execute_result"
    }
   ],
   "source": [
    "f(x) = 1/x^3"
   ]
  },
  {
   "cell_type": "code",
   "execution_count": 59,
   "metadata": {},
   "outputs": [
    {
     "data": {
      "text/plain": [
       "0.125"
      ]
     },
     "execution_count": 59,
     "metadata": {},
     "output_type": "execute_result"
    }
   ],
   "source": [
    "f(2)"
   ]
  },
  {
   "cell_type": "code",
   "execution_count": 60,
   "metadata": {},
   "outputs": [
    {
     "data": {
      "text/plain": [
       "Dual(0.125, -0.1875)"
      ]
     },
     "execution_count": 60,
     "metadata": {},
     "output_type": "execute_result"
    }
   ],
   "source": [
    "f(Dual(2,1))"
   ]
  },
  {
   "cell_type": "code",
   "execution_count": 61,
   "metadata": {},
   "outputs": [
    {
     "data": {
      "text/plain": [
       "-0.1875"
      ]
     },
     "execution_count": 61,
     "metadata": {},
     "output_type": "execute_result"
    }
   ],
   "source": [
    "-3 / 2^4"
   ]
  },
  {
   "cell_type": "code",
   "execution_count": 62,
   "metadata": {},
   "outputs": [
    {
     "ename": "MethodError",
     "evalue": "MethodError: no method matching sin(::Dual)\nClosest candidates are:\n  sin(!Matched::BigFloat) at mpfr.jl:683\n  sin(!Matched::Missing) at math.jl:1056\n  sin(!Matched::Complex{Float16}) at math.jl:1005\n  ...",
     "output_type": "error",
     "traceback": [
      "MethodError: no method matching sin(::Dual)\nClosest candidates are:\n  sin(!Matched::BigFloat) at mpfr.jl:683\n  sin(!Matched::Missing) at math.jl:1056\n  sin(!Matched::Complex{Float16}) at math.jl:1005\n  ...",
      "",
      "Stacktrace:",
      " [1] top-level scope at In[62]:1"
     ]
    }
   ],
   "source": [
    "sin(Dual(2,1))"
   ]
  },
  {
   "cell_type": "code",
   "execution_count": 63,
   "metadata": {},
   "outputs": [
    {
     "data": {
      "text/plain": [
       "mysin (generic function with 1 method)"
      ]
     },
     "execution_count": 63,
     "metadata": {},
     "output_type": "execute_result"
    }
   ],
   "source": [
    "mysin(x) = x - x^3/6 + x^5/120"
   ]
  },
  {
   "cell_type": "code",
   "execution_count": 65,
   "metadata": {},
   "outputs": [
    {
     "data": {
      "text/plain": [
       "0.09983341666666667"
      ]
     },
     "execution_count": 65,
     "metadata": {},
     "output_type": "execute_result"
    }
   ],
   "source": [
    "mysin(0.1)"
   ]
  },
  {
   "cell_type": "code",
   "execution_count": 66,
   "metadata": {},
   "outputs": [
    {
     "data": {
      "text/plain": [
       "0.09983341664682815"
      ]
     },
     "execution_count": 66,
     "metadata": {},
     "output_type": "execute_result"
    }
   ],
   "source": [
    "sin(0.1)"
   ]
  },
  {
   "cell_type": "code",
   "execution_count": 67,
   "metadata": {},
   "outputs": [
    {
     "data": {
      "text/plain": [
       "Dual(0.09983341666666667, 0.9950041666666667)"
      ]
     },
     "execution_count": 67,
     "metadata": {},
     "output_type": "execute_result"
    }
   ],
   "source": [
    "mysin(Dual(0.1,1))"
   ]
  },
  {
   "cell_type": "code",
   "execution_count": 68,
   "metadata": {},
   "outputs": [
    {
     "data": {
      "text/plain": [
       "0.9950041652780258"
      ]
     },
     "execution_count": 68,
     "metadata": {},
     "output_type": "execute_result"
    }
   ],
   "source": [
    "cos(0.1)"
   ]
  },
  {
   "cell_type": "code",
   "execution_count": 69,
   "metadata": {},
   "outputs": [],
   "source": [
    "Base.sin(x::Dual) = Dual(sin(x.val), cos(x.val)*x.der)"
   ]
  },
  {
   "cell_type": "code",
   "execution_count": 70,
   "metadata": {},
   "outputs": [
    {
     "data": {
      "text/plain": [
       "Dual(0.6784304773607402, 0.2645082703959581)"
      ]
     },
     "execution_count": 70,
     "metadata": {},
     "output_type": "execute_result"
    }
   ],
   "source": [
    "sin(sin(sin(Dual(1,1))))"
   ]
  },
  {
   "cell_type": "code",
   "execution_count": 71,
   "metadata": {},
   "outputs": [
    {
     "data": {
      "text/plain": [
       "0.6784304773607402"
      ]
     },
     "execution_count": 71,
     "metadata": {},
     "output_type": "execute_result"
    }
   ],
   "source": [
    "sin(sin(sin(1)))"
   ]
  },
  {
   "cell_type": "markdown",
   "metadata": {},
   "source": [
    "# Performance\n",
    "\n",
    "The `Dual` type defined above works, but it is slow.   Let's try to understand this."
   ]
  },
  {
   "cell_type": "code",
   "execution_count": 75,
   "metadata": {},
   "outputs": [],
   "source": [
    "# install with:  ] add BenchmarkTools\n",
    "using BenchmarkTools"
   ]
  },
  {
   "cell_type": "code",
   "execution_count": 76,
   "metadata": {},
   "outputs": [
    {
     "name": "stdout",
     "output_type": "stream",
     "text": [
      "  7.988 ns (0 allocations: 0 bytes)\n"
     ]
    },
    {
     "data": {
      "text/plain": [
       "0.8414709848078965"
      ]
     },
     "execution_count": 76,
     "metadata": {},
     "output_type": "execute_result"
    }
   ],
   "source": [
    "@btime sin(1)"
   ]
  },
  {
   "cell_type": "code",
   "execution_count": 78,
   "metadata": {},
   "outputs": [
    {
     "data": {
      "text/plain": [
       "BenchmarkTools.Trial: \n",
       "  memory estimate:  0 bytes\n",
       "  allocs estimate:  0\n",
       "  --------------\n",
       "  minimum time:     7.540 ns (0.00% GC)\n",
       "  median time:      7.789 ns (0.00% GC)\n",
       "  mean time:        8.010 ns (0.00% GC)\n",
       "  maximum time:     54.465 ns (0.00% GC)\n",
       "  --------------\n",
       "  samples:          10000\n",
       "  evals/sample:     999"
      ]
     },
     "execution_count": 78,
     "metadata": {},
     "output_type": "execute_result"
    }
   ],
   "source": [
    "@benchmark sin(1)"
   ]
  },
  {
   "cell_type": "code",
   "execution_count": 82,
   "metadata": {},
   "outputs": [
    {
     "name": "stdout",
     "output_type": "stream",
     "text": [
      "  1.504 ns (0 allocations: 0 bytes)\n"
     ]
    },
    {
     "data": {
      "text/plain": [
       "8.2 + 8.9im"
      ]
     },
     "execution_count": 82,
     "metadata": {},
     "output_type": "execute_result"
    }
   ],
   "source": [
    "@btime (3.7+2.5im) + (4.5+6.4im)"
   ]
  },
  {
   "cell_type": "code",
   "execution_count": 83,
   "metadata": {},
   "outputs": [
    {
     "name": "stdout",
     "output_type": "stream",
     "text": [
      "  134.681 ns (7 allocations: 160 bytes)\n"
     ]
    },
    {
     "data": {
      "text/plain": [
       "Dual(8.2, 8.9)"
      ]
     },
     "execution_count": 83,
     "metadata": {},
     "output_type": "execute_result"
    }
   ],
   "source": [
    "@btime Dual(3.7,2.5) + Dual(4.5,6.4)"
   ]
  },
  {
   "cell_type": "code",
   "execution_count": 84,
   "metadata": {},
   "outputs": [
    {
     "data": {
      "text/plain": [
       "100000-element Array{Float64,1}:\n",
       " 0.44400521872407306  \n",
       " 0.4632049540213794   \n",
       " 0.18918637498391822  \n",
       " 0.23664273217516407  \n",
       " 0.5718319804572034   \n",
       " 0.3135945358548766   \n",
       " 0.42709292870253845  \n",
       " 0.44755220598447587  \n",
       " 0.17300006457620754  \n",
       " 0.17253257532796185  \n",
       " 0.6251881309639795   \n",
       " 0.8137315380906045   \n",
       " 0.5065892771699303   \n",
       " ⋮                    \n",
       " 0.6012587887575735   \n",
       " 0.0007215745390714012\n",
       " 0.6808662402900936   \n",
       " 0.8138007077960143   \n",
       " 0.6106868164429891   \n",
       " 0.8298862931854845   \n",
       " 0.834683433827301    \n",
       " 0.28432798729998576  \n",
       " 0.43462694058307383  \n",
       " 0.07734277175037008  \n",
       " 0.3498099105335042   \n",
       " 0.09688165144720329  "
      ]
     },
     "execution_count": 84,
     "metadata": {},
     "output_type": "execute_result"
    }
   ],
   "source": [
    "a = rand(10^5)"
   ]
  },
  {
   "cell_type": "code",
   "execution_count": 85,
   "metadata": {},
   "outputs": [
    {
     "data": {
      "text/plain": [
       "100000-element Array{Complex{Float64},1}:\n",
       "   0.44400521872407306 + 0.0im\n",
       "    0.4632049540213794 + 0.0im\n",
       "   0.18918637498391822 + 0.0im\n",
       "   0.23664273217516407 + 0.0im\n",
       "    0.5718319804572034 + 0.0im\n",
       "    0.3135945358548766 + 0.0im\n",
       "   0.42709292870253845 + 0.0im\n",
       "   0.44755220598447587 + 0.0im\n",
       "   0.17300006457620754 + 0.0im\n",
       "   0.17253257532796185 + 0.0im\n",
       "    0.6251881309639795 + 0.0im\n",
       "    0.8137315380906045 + 0.0im\n",
       "    0.5065892771699303 + 0.0im\n",
       "                       ⋮      \n",
       "    0.6012587887575735 + 0.0im\n",
       " 0.0007215745390714012 + 0.0im\n",
       "    0.6808662402900936 + 0.0im\n",
       "    0.8138007077960143 + 0.0im\n",
       "    0.6106868164429891 + 0.0im\n",
       "    0.8298862931854845 + 0.0im\n",
       "     0.834683433827301 + 0.0im\n",
       "   0.28432798729998576 + 0.0im\n",
       "   0.43462694058307383 + 0.0im\n",
       "   0.07734277175037008 + 0.0im\n",
       "    0.3498099105335042 + 0.0im\n",
       "   0.09688165144720329 + 0.0im"
      ]
     },
     "execution_count": 85,
     "metadata": {},
     "output_type": "execute_result"
    }
   ],
   "source": [
    "ac = complex(a)"
   ]
  },
  {
   "cell_type": "code",
   "execution_count": 86,
   "metadata": {},
   "outputs": [
    {
     "data": {
      "text/plain": [
       "100000-element Array{Dual,1}:\n",
       "   Dual(0.44400521872407306, 0)\n",
       "    Dual(0.4632049540213794, 0)\n",
       "   Dual(0.18918637498391822, 0)\n",
       "   Dual(0.23664273217516407, 0)\n",
       "    Dual(0.5718319804572034, 0)\n",
       "    Dual(0.3135945358548766, 0)\n",
       "   Dual(0.42709292870253845, 0)\n",
       "   Dual(0.44755220598447587, 0)\n",
       "   Dual(0.17300006457620754, 0)\n",
       "   Dual(0.17253257532796185, 0)\n",
       "    Dual(0.6251881309639795, 0)\n",
       "    Dual(0.8137315380906045, 0)\n",
       "    Dual(0.5065892771699303, 0)\n",
       "                              ⋮\n",
       "    Dual(0.6012587887575735, 0)\n",
       " Dual(0.0007215745390714012, 0)\n",
       "    Dual(0.6808662402900936, 0)\n",
       "    Dual(0.8138007077960143, 0)\n",
       "    Dual(0.6106868164429891, 0)\n",
       "    Dual(0.8298862931854845, 0)\n",
       "     Dual(0.834683433827301, 0)\n",
       "   Dual(0.28432798729998576, 0)\n",
       "   Dual(0.43462694058307383, 0)\n",
       "   Dual(0.07734277175037008, 0)\n",
       "    Dual(0.3498099105335042, 0)\n",
       "   Dual(0.09688165144720329, 0)"
      ]
     },
     "execution_count": 86,
     "metadata": {},
     "output_type": "execute_result"
    }
   ],
   "source": [
    "ad = Dual.(a)"
   ]
  },
  {
   "cell_type": "code",
   "execution_count": 88,
   "metadata": {},
   "outputs": [
    {
     "name": "stdout",
     "output_type": "stream",
     "text": [
      "  15.356 μs (0 allocations: 0 bytes)\n"
     ]
    },
    {
     "data": {
      "text/plain": [
       "50046.85362857155"
      ]
     },
     "execution_count": 88,
     "metadata": {},
     "output_type": "execute_result"
    }
   ],
   "source": [
    "@btime sum($a)"
   ]
  },
  {
   "cell_type": "code",
   "execution_count": 89,
   "metadata": {},
   "outputs": [
    {
     "name": "stdout",
     "output_type": "stream",
     "text": [
      "  112.907 μs (0 allocations: 0 bytes)\n"
     ]
    },
    {
     "data": {
      "text/plain": [
       "50046.85362857155 + 0.0im"
      ]
     },
     "execution_count": 89,
     "metadata": {},
     "output_type": "execute_result"
    }
   ],
   "source": [
    "@btime sum($ac)"
   ]
  },
  {
   "cell_type": "code",
   "execution_count": 90,
   "metadata": {},
   "outputs": [
    {
     "name": "stdout",
     "output_type": "stream",
     "text": [
      "  13.087 ms (299997 allocations: 6.10 MiB)\n"
     ]
    },
    {
     "data": {
      "text/plain": [
       "Dual(50046.85362857155, 0)"
      ]
     },
     "execution_count": 90,
     "metadata": {},
     "output_type": "execute_result"
    }
   ],
   "source": [
    "@btime sum($ad)"
   ]
  },
  {
   "cell_type": "code",
   "execution_count": 91,
   "metadata": {},
   "outputs": [
    {
     "data": {
      "text/plain": [
       "Array{Float64,1}"
      ]
     },
     "execution_count": 91,
     "metadata": {},
     "output_type": "execute_result"
    }
   ],
   "source": [
    "typeof(a)"
   ]
  },
  {
   "cell_type": "markdown",
   "metadata": {},
   "source": [
    "To make a faster Dual number, we need to make the `val` and `der` fields * concrete* types.  At first glance, it seems like this would lose generality:"
   ]
  },
  {
   "cell_type": "code",
   "execution_count": 92,
   "metadata": {},
   "outputs": [
    {
     "data": {
      "text/plain": [
       "FastInflexibleDual"
      ]
     },
     "execution_count": 92,
     "metadata": {},
     "output_type": "execute_result"
    }
   ],
   "source": [
    "struct FastInflexibleDual <: Number\n",
    "    val::Float64 # value\n",
    "    der::Float64 # derivative\n",
    "end \n",
    "Base.:+(x::FastInflexibleDual, y::FastInflexibleDual) = FastInflexibleDual(x.val + y.val, x.der + y.der)\n",
    "FastInflexibleDual(x::Real) = FastInflexibleDual(x, 0)"
   ]
  },
  {
   "cell_type": "code",
   "execution_count": 93,
   "metadata": {},
   "outputs": [
    {
     "data": {
      "text/plain": [
       "100000-element Array{FastInflexibleDual,1}:\n",
       "   FastInflexibleDual(0.44400521872407306, 0.0)\n",
       "    FastInflexibleDual(0.4632049540213794, 0.0)\n",
       "   FastInflexibleDual(0.18918637498391822, 0.0)\n",
       "   FastInflexibleDual(0.23664273217516407, 0.0)\n",
       "    FastInflexibleDual(0.5718319804572034, 0.0)\n",
       "    FastInflexibleDual(0.3135945358548766, 0.0)\n",
       "   FastInflexibleDual(0.42709292870253845, 0.0)\n",
       "   FastInflexibleDual(0.44755220598447587, 0.0)\n",
       "   FastInflexibleDual(0.17300006457620754, 0.0)\n",
       "   FastInflexibleDual(0.17253257532796185, 0.0)\n",
       "    FastInflexibleDual(0.6251881309639795, 0.0)\n",
       "    FastInflexibleDual(0.8137315380906045, 0.0)\n",
       "    FastInflexibleDual(0.5065892771699303, 0.0)\n",
       "                                              ⋮\n",
       "    FastInflexibleDual(0.6012587887575735, 0.0)\n",
       " FastInflexibleDual(0.0007215745390714012, 0.0)\n",
       "    FastInflexibleDual(0.6808662402900936, 0.0)\n",
       "    FastInflexibleDual(0.8138007077960143, 0.0)\n",
       "    FastInflexibleDual(0.6106868164429891, 0.0)\n",
       "    FastInflexibleDual(0.8298862931854845, 0.0)\n",
       "     FastInflexibleDual(0.834683433827301, 0.0)\n",
       "   FastInflexibleDual(0.28432798729998576, 0.0)\n",
       "   FastInflexibleDual(0.43462694058307383, 0.0)\n",
       "   FastInflexibleDual(0.07734277175037008, 0.0)\n",
       "    FastInflexibleDual(0.3498099105335042, 0.0)\n",
       "   FastInflexibleDual(0.09688165144720329, 0.0)"
      ]
     },
     "execution_count": 93,
     "metadata": {},
     "output_type": "execute_result"
    }
   ],
   "source": [
    "afd = FastInflexibleDual.(a)"
   ]
  },
  {
   "cell_type": "code",
   "execution_count": 94,
   "metadata": {},
   "outputs": [
    {
     "name": "stdout",
     "output_type": "stream",
     "text": [
      "  106.673 μs (0 allocations: 0 bytes)\n"
     ]
    },
    {
     "data": {
      "text/plain": [
       "FastInflexibleDual(50046.85362857155, 0.0)"
      ]
     },
     "execution_count": 94,
     "metadata": {},
     "output_type": "execute_result"
    }
   ],
   "source": [
    "@btime sum($afd)"
   ]
  },
  {
   "cell_type": "code",
   "execution_count": 95,
   "metadata": {},
   "outputs": [
    {
     "data": {
      "text/plain": [
       "FastInflexibleDual(3.0, 4.0)"
      ]
     },
     "execution_count": 95,
     "metadata": {},
     "output_type": "execute_result"
    }
   ],
   "source": [
    "FastInflexibleDual(3,4)"
   ]
  },
  {
   "cell_type": "markdown",
   "metadata": {},
   "source": [
    "## Solution: Define a *parameterized* type\n",
    "\n",
    "Define a whole *family* (a *set*) of types:"
   ]
  },
  {
   "cell_type": "code",
   "execution_count": 96,
   "metadata": {},
   "outputs": [],
   "source": [
    "struct FastDual{T<:Real} <: Number\n",
    "    val::T # value\n",
    "    der::T # derivative\n",
    "end \n",
    "Base.:+(x::FastDual, y::FastDual) = FastDual(x.val + y.val, x.der + y.der)"
   ]
  },
  {
   "cell_type": "code",
   "execution_count": 97,
   "metadata": {},
   "outputs": [
    {
     "data": {
      "text/plain": [
       "FastDual{Int64}(3, 4)"
      ]
     },
     "execution_count": 97,
     "metadata": {},
     "output_type": "execute_result"
    }
   ],
   "source": [
    "FastDual(3,4)"
   ]
  },
  {
   "cell_type": "code",
   "execution_count": 98,
   "metadata": {},
   "outputs": [
    {
     "ename": "MethodError",
     "evalue": "MethodError: no method matching FastDual(::Int64, ::Float64)\nClosest candidates are:\n  FastDual(::T<:Real, !Matched::T<:Real) where T<:Real at In[96]:2\n  FastDual(::T<:Number) where T<:Number at boot.jl:725",
     "output_type": "error",
     "traceback": [
      "MethodError: no method matching FastDual(::Int64, ::Float64)\nClosest candidates are:\n  FastDual(::T<:Real, !Matched::T<:Real) where T<:Real at In[96]:2\n  FastDual(::T<:Number) where T<:Number at boot.jl:725",
      "",
      "Stacktrace:",
      " [1] top-level scope at In[98]:1"
     ]
    }
   ],
   "source": [
    "FastDual(3,4.7)"
   ]
  },
  {
   "cell_type": "code",
   "execution_count": 99,
   "metadata": {},
   "outputs": [
    {
     "data": {
      "text/plain": [
       "FastDual"
      ]
     },
     "execution_count": 99,
     "metadata": {},
     "output_type": "execute_result"
    }
   ],
   "source": [
    "FastDual(x::Real) = FastDual(x, 0)"
   ]
  },
  {
   "cell_type": "code",
   "execution_count": 100,
   "metadata": {},
   "outputs": [
    {
     "data": {
      "text/plain": [
       "FastDual{Int64}(3, 0)"
      ]
     },
     "execution_count": 100,
     "metadata": {},
     "output_type": "execute_result"
    }
   ],
   "source": [
    "FastDual(3)"
   ]
  },
  {
   "cell_type": "code",
   "execution_count": 101,
   "metadata": {},
   "outputs": [
    {
     "ename": "MethodError",
     "evalue": "MethodError: no method matching FastDual(::Float64, ::Int64)\nClosest candidates are:\n  FastDual(::Real) at In[99]:1\n  FastDual(::T<:Real, !Matched::T<:Real) where T<:Real at In[96]:2\n  FastDual(::T<:Number) where T<:Number at boot.jl:725",
     "output_type": "error",
     "traceback": [
      "MethodError: no method matching FastDual(::Float64, ::Int64)\nClosest candidates are:\n  FastDual(::Real) at In[99]:1\n  FastDual(::T<:Real, !Matched::T<:Real) where T<:Real at In[96]:2\n  FastDual(::T<:Number) where T<:Number at boot.jl:725",
      "",
      "Stacktrace:",
      " [1] FastDual(::Float64) at ./In[99]:1",
      " [2] top-level scope at In[101]:1"
     ]
    }
   ],
   "source": [
    "FastDual(3.7)"
   ]
  },
  {
   "cell_type": "code",
   "execution_count": 102,
   "metadata": {},
   "outputs": [
    {
     "data": {
      "text/plain": [
       "(3.0, 4.7)"
      ]
     },
     "execution_count": 102,
     "metadata": {},
     "output_type": "execute_result"
    }
   ],
   "source": [
    "promote(3, 4.7)"
   ]
  },
  {
   "cell_type": "code",
   "execution_count": 103,
   "metadata": {},
   "outputs": [
    {
     "data": {
      "text/plain": [
       "FastDual"
      ]
     },
     "execution_count": 103,
     "metadata": {},
     "output_type": "execute_result"
    }
   ],
   "source": [
    "FastDual(x::Real, y::Real) = FastDual(promote(x,y)...)"
   ]
  },
  {
   "cell_type": "code",
   "execution_count": 104,
   "metadata": {},
   "outputs": [
    {
     "data": {
      "text/plain": [
       "FastDual{Float64}(3.0, 4.7)"
      ]
     },
     "execution_count": 104,
     "metadata": {},
     "output_type": "execute_result"
    }
   ],
   "source": [
    "FastDual(3,4.7)"
   ]
  },
  {
   "cell_type": "code",
   "execution_count": 105,
   "metadata": {},
   "outputs": [
    {
     "data": {
      "text/plain": [
       "FastDual{Float64}(3.8, 0.0)"
      ]
     },
     "execution_count": 105,
     "metadata": {},
     "output_type": "execute_result"
    }
   ],
   "source": [
    "FastDual(3.8)"
   ]
  },
  {
   "cell_type": "code",
   "execution_count": 106,
   "metadata": {},
   "outputs": [
    {
     "data": {
      "text/plain": [
       "100000-element Array{FastDual{Float64},1}:\n",
       "   FastDual{Float64}(0.44400521872407306, 0.0)\n",
       "    FastDual{Float64}(0.4632049540213794, 0.0)\n",
       "   FastDual{Float64}(0.18918637498391822, 0.0)\n",
       "   FastDual{Float64}(0.23664273217516407, 0.0)\n",
       "    FastDual{Float64}(0.5718319804572034, 0.0)\n",
       "    FastDual{Float64}(0.3135945358548766, 0.0)\n",
       "   FastDual{Float64}(0.42709292870253845, 0.0)\n",
       "   FastDual{Float64}(0.44755220598447587, 0.0)\n",
       "   FastDual{Float64}(0.17300006457620754, 0.0)\n",
       "   FastDual{Float64}(0.17253257532796185, 0.0)\n",
       "    FastDual{Float64}(0.6251881309639795, 0.0)\n",
       "    FastDual{Float64}(0.8137315380906045, 0.0)\n",
       "    FastDual{Float64}(0.5065892771699303, 0.0)\n",
       "                                             ⋮\n",
       "    FastDual{Float64}(0.6012587887575735, 0.0)\n",
       " FastDual{Float64}(0.0007215745390714012, 0.0)\n",
       "    FastDual{Float64}(0.6808662402900936, 0.0)\n",
       "    FastDual{Float64}(0.8138007077960143, 0.0)\n",
       "    FastDual{Float64}(0.6106868164429891, 0.0)\n",
       "    FastDual{Float64}(0.8298862931854845, 0.0)\n",
       "     FastDual{Float64}(0.834683433827301, 0.0)\n",
       "   FastDual{Float64}(0.28432798729998576, 0.0)\n",
       "   FastDual{Float64}(0.43462694058307383, 0.0)\n",
       "   FastDual{Float64}(0.07734277175037008, 0.0)\n",
       "    FastDual{Float64}(0.3498099105335042, 0.0)\n",
       "   FastDual{Float64}(0.09688165144720329, 0.0)"
      ]
     },
     "execution_count": 106,
     "metadata": {},
     "output_type": "execute_result"
    }
   ],
   "source": [
    "afd = FastDual.(a)"
   ]
  },
  {
   "cell_type": "code",
   "execution_count": 107,
   "metadata": {},
   "outputs": [
    {
     "name": "stdout",
     "output_type": "stream",
     "text": [
      "  106.647 μs (0 allocations: 0 bytes)\n"
     ]
    },
    {
     "data": {
      "text/plain": [
       "FastDual{Float64}(50046.85362857155, 0.0)"
      ]
     },
     "execution_count": 107,
     "metadata": {},
     "output_type": "execute_result"
    }
   ],
   "source": [
    "@btime sum($afd)"
   ]
  },
  {
   "cell_type": "code",
   "execution_count": 108,
   "metadata": {},
   "outputs": [
    {
     "data": {
      "text/plain": [
       "4-element Array{Any,1}:\n",
       "          3         \n",
       "           \"string\" \n",
       "           [3, 4, 5]\n",
       " Dual(3, 5)         "
      ]
     },
     "execution_count": 108,
     "metadata": {},
     "output_type": "execute_result"
    }
   ],
   "source": [
    "aslow = [3, \"string\", [3,4,5], Dual(3,5)]"
   ]
  },
  {
   "cell_type": "code",
   "execution_count": null,
   "metadata": {},
   "outputs": [],
   "source": []
  }
 ],
 "metadata": {
  "kernelspec": {
   "display_name": "Julia 1.0.0",
   "language": "julia",
   "name": "julia-1.0"
  },
  "language_info": {
   "file_extension": ".jl",
   "mimetype": "application/julia",
   "name": "julia",
   "version": "1.0.0"
  }
 },
 "nbformat": 4,
 "nbformat_minor": 2
}
